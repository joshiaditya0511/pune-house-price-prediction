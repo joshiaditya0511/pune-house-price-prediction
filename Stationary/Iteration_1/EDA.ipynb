{
 "cells": [
  {
   "cell_type": "markdown",
   "metadata": {},
   "source": [
    "# Imports"
   ]
  },
  {
   "cell_type": "code",
   "execution_count": 3,
   "metadata": {},
   "outputs": [
    {
     "name": "stderr",
     "output_type": "stream",
     "text": [
      "c:\\Aditya Joshi\\PuneHousePricePrediction\\.venv\\Lib\\site-packages\\tqdm\\auto.py:21: TqdmWarning: IProgress not found. Please update jupyter and ipywidgets. See https://ipywidgets.readthedocs.io/en/stable/user_install.html\n",
      "  from .autonotebook import tqdm as notebook_tqdm\n"
     ]
    }
   ],
   "source": [
    "import pandas as pd\n",
    "import plotly.express as px\n",
    "import plotly.graph_objects as go\n",
    "from ydata_profiling import ProfileReport\n",
    "import seaborn as sns\n",
    "import matplotlib.pyplot as plt\n",
    "import missingno as msno\n",
    "\n",
    "dtype_mapping = {\n",
    "    'propertyId': pd.StringDtype(),\n",
    "    'localityName': 'category',\n",
    "    'landMarks': pd.StringDtype(),\n",
    "    'locality': pd.StringDtype(),\n",
    "    'price': pd.Int64Dtype(),\n",
    "    'nameOfSociety': pd.StringDtype(),\n",
    "    'projectName': pd.StringDtype(),\n",
    "    'carpetArea': pd.Int64Dtype(),\n",
    "    'coveredArea': pd.Int64Dtype(),\n",
    "    'carpetAreaSqft': pd.Int64Dtype(),\n",
    "    'possessionStatus': pd.StringDtype(),\n",
    "    'developerName': pd.StringDtype(),\n",
    "    'flooringType': pd.StringDtype(),\n",
    "    'floorNumber': pd.Int64Dtype(),\n",
    "    'unitCountonFloor': pd.Int64Dtype(),\n",
    "    'totalFloorNumber': pd.Int64Dtype(),\n",
    "    'electricityStatus': pd.StringDtype(),\n",
    "    'waterStatus': pd.StringDtype(),\n",
    "    'longitude': pd.Float64Dtype(),\n",
    "    'latitude': pd.Float64Dtype(),\n",
    "    'transactionType': 'category',\n",
    "    'facing': pd.StringDtype(),\n",
    "    'ownershipType': pd.StringDtype(),\n",
    "    'carParking': pd.StringDtype(),\n",
    "    'furnished': 'category',\n",
    "    'bedrooms': pd.Int64Dtype(),\n",
    "    'bathrooms': pd.Int64Dtype(),\n",
    "    'numberOfBalconied': pd.Int64Dtype(),\n",
    "    'propertyType': 'category',\n",
    "    'additionalRooms': pd.StringDtype(),\n",
    "    'bookingAmountExact': pd.Int64Dtype(),\n",
    "    'maintenanceChargesFrequency': 'category',\n",
    "    'maintenanceCharges': pd.Int64Dtype(),\n",
    "    'ageofcons': 'category',\n",
    "    'isVerified': 'category',\n",
    "    'listingTypeDesc': 'category',\n",
    "    'premiumProperty': pd.BooleanDtype(),\n",
    "    'noOfLifts': pd.Int64Dtype(),\n",
    "    'propertyAmenities': pd.StringDtype(),\n",
    "    'facilitiesDesc': pd.StringDtype(),\n",
    "    'uuid': pd.StringDtype(),\n",
    "    'flooringType_Vitrified': pd.BooleanDtype(),\n",
    "    'flooringType_CeramicTiles': pd.BooleanDtype(),\n",
    "    'flooringType_Marble': pd.BooleanDtype(),\n",
    "    'flooringType_NormalTilesKotahStone': pd.BooleanDtype(),\n",
    "    'flooringType_Granite': pd.BooleanDtype(),\n",
    "    'flooringType_Wooden': pd.BooleanDtype(),\n",
    "    'flooringType_Mosaic': pd.BooleanDtype(),\n",
    "    'flooringType_Marbonite': pd.BooleanDtype(),\n",
    "    'additionalRoom_PujaRoom': pd.BooleanDtype(),\n",
    "    'additionalRoom_Study': pd.BooleanDtype(),\n",
    "    'additionalRoom_Store': pd.BooleanDtype(),\n",
    "    'additionalRoom_ServantRoom': pd.BooleanDtype(),\n",
    "    'carParking_Open': pd.Int64Dtype(),\n",
    "    'carParking_Covered': pd.Int64Dtype(),\n",
    "    'ReservedParking': pd.BooleanDtype(),\n",
    "}\n",
    "\n",
    "COLUMNS_TO_DROP = [\n",
    "        'unitCountonFloor',\n",
    "        'electricityStatus',\n",
    "        'waterStatus',\n",
    "        'facing',\n",
    "        'bookingAmountExact',\n",
    "        'isVerified',\n",
    "        'listingTypeDesc',\n",
    "        'maintenanceCharges',\n",
    "        'maintenanceChargesFrequency',\n",
    "        'latitude',\n",
    "        'longitude',\n",
    "        'carParking_Open',\n",
    "        'carParking_Covered',\n",
    "        'numberOfBalconied',\n",
    "        'premiumProperty',\n",
    "        'projectName',\n",
    "        'nameOfSociety',\n",
    "        'url',\n",
    "        'uuid',\n",
    "        'carpetAreaSqft',\n",
    "        'noOfLifts',\n",
    "        'ownershipType',\n",
    "        'possessionStatus',\n",
    "        'propertyType',\n",
    "\n",
    "        'flooringType_Vitrified',\n",
    "        'flooringType_CeramicTiles',\n",
    "        'flooringType_Marble',\n",
    "        'flooringType_NormalTilesKotahStone',\n",
    "        'flooringType_Granite',\n",
    "        'flooringType_Wooden',\n",
    "        'flooringType_Mosaic',\n",
    "        'flooringType_Marbonite',\n",
    "\n",
    "        'additionalRoom_PujaRoom',\n",
    "        'additionalRoom_Study',\n",
    "        'additionalRoom_Store',\n",
    "        'additionalRoom_ServantRoom',\n",
    "        \n",
    "        'landMarks', \n",
    "        'locality', \n",
    "        'developerName']\n",
    "\n",
    "\n",
    "df_train = pd.read_csv(\n",
    "    '../Data/train.csv',\n",
    "    dtype = dtype_mapping,\n",
    "    index_col=0\n",
    ")\n",
    "\n",
    "df_train.fillna(pd.NA, inplace=True)"
   ]
  },
  {
   "cell_type": "code",
   "execution_count": 4,
   "metadata": {},
   "outputs": [],
   "source": [
    "df_train = df_train.drop(\n",
    "    columns=COLUMNS_TO_DROP\n",
    ")"
   ]
  },
  {
   "cell_type": "code",
   "execution_count": 5,
   "metadata": {},
   "outputs": [
    {
     "name": "stdout",
     "output_type": "stream",
     "text": [
      "<class 'pandas.core.frame.DataFrame'>\n",
      "Index: 19252 entries, 61872777 to 75703109\n",
      "Data columns (total 12 columns):\n",
      " #   Column            Non-Null Count  Dtype   \n",
      "---  ------            --------------  -----   \n",
      " 0   localityName      19252 non-null  category\n",
      " 1   price             19252 non-null  Int64   \n",
      " 2   carpetArea        15435 non-null  Int64   \n",
      " 3   coveredArea       18761 non-null  Int64   \n",
      " 4   floorNumber       19105 non-null  Int64   \n",
      " 5   totalFloorNumber  19207 non-null  Int64   \n",
      " 6   transactionType   19249 non-null  category\n",
      " 7   furnished         19214 non-null  category\n",
      " 8   bedrooms          19252 non-null  Int64   \n",
      " 9   bathrooms         19252 non-null  Int64   \n",
      " 10  ageofcons         16566 non-null  category\n",
      " 11  ReservedParking   15526 non-null  boolean \n",
      "dtypes: Int64(7), boolean(1), category(4)\n",
      "memory usage: 1.9 MB\n"
     ]
    }
   ],
   "source": [
    "df_train.info()"
   ]
  },
  {
   "cell_type": "markdown",
   "metadata": {},
   "source": [
    "# Dataset Description and Notes\n",
    "\n",
    "1. The details on locality of the property is given by these columns - [localityName, landMarks, locality]. Of these, localityName and locality are almost the same. A few values here and there are different. Different in the sense that for some rows,  for example locality has value \"Pimple Saudagar\" and localityName has value \"Pimple Saudagar, Pimpri Chinchwad\" or vice versa. That is, extra info in one of them. As for the landMarks column, it has landmarks in detail. It's not that useful for EDA as there are a lot lot more unique values for landmark than locality and localityName.\n",
    "2. The price of the property is given in the price column. It's an integer throughout with few null values.\n",
    "3. The name of the society/building/project is given in [nameOfSociety, projectName] columns. Like locality and localityName, these too have few unique values relative to the dataset size. Also, most of rows have same values for both these columns except a few hundred.\n",
    "4. The area of the flat is given in [carpetArea, coveredArea] columns. The two areas are different. Generally, carpet area is smaller than covered area. Covered are also includes conventionally useless area like that of pillars, base, etc. In preliminary cleaning, I found that more number of carpetArea have null values than coveredArea. One good trick to impute carpetARea is to use coveredArea that is find relation between them to impute the values.\n",
    "5. The column carpetAreaSqft gives the price per square feet of carpetArea.\n",
    "6. The column possessionStatus is a categorical column describing the possession Status of the property with 3 possible values - 'Ready to Move', 'Under Construction' and 'Immediately'. However, there are a lot of missing values. Almost 25 percent.\n",
    "7. The column developerName gives the name of the developer who has built or is building the project or society.\n",
    "8. The column floorNumber is exactly what it looks like. It tells the floor number on which the flat is located in the building or apartment. The good thing is, it has almost no null values. The bad thing is, it's string type because of three specific unique values among rest of the numeric ones - 'Ground', 'Upper Basement' and 'Lower Basement'\n",
    "9. For column 'unitCountonFloor' - I don't exactly know what it means. I thought it's the number of flats per floor. But, that might not be the case for all values because It also has values like 501, 703, etc. The 501 value might suggest 1st flat on 5th floor and the flat number is 501. I checked the occurrence of these weird values greater than 100 and they are very very few compared to others. The bad thing is almost half values are null. This column won't be useful for price prediction as the user generally doesn't care about the number of flats per floor.\n",
    "10. The column totalFloorNumber gives the total number of floors in the building. Prelimary exploration showed a few outlier values like 100 and 200 but luckily, there are very few rows with these outlier values. Also a good thing is, there are very few null values in this column.\n",
    "11. The column electricityStatus tells the condition of powercuts and electricity availability for that property. It's categorical with almost all values being category 'No/Rare Powercut' and rest categories combined don't even sum it to 100. The bad thing is half the values are null. And the rest half have just a single category except a few. Just from this I can tell that this feature isn't useful at all.\n",
    "12. The column waterStatus is similar to electricityStatus but for water. Just like electricityStatus, here too half the rows are null and rest half have just a single value - '24 Hours Available' except a few of them. Similar to electricityStatus, this column or feature too seems useless at first glance.\n",
    "13. The columns [longitude, latitude] are exactly what they look like. good thing is very few values are null. Bad thing is we don't exactly have a way of validating the data or checking for outliers and stuff. One tip is that this is bound by location of pune City. So, there's a upper and lower bound on the latitudes and longtitudes.\n",
    "14. Column transactionType tells the type of transaction obviously. It's categorical with 2 majority categories being 'Resale' and 'New Property'. Rest of the categories ('Rent' and 'Others') combined don't even sum up to 50. So, they can be ignored probably. Also, because we don't want the rent transaction types. One more good thing is this column has only 35 null values.\n",
    "15. The column facing tells the direction in which the property is facing like East, West, North-West, etc. This might look unimportant to a common man's eye. But, in India, there's something called Vastu that people believe in. According to that, the direction of the property is important. But, there are two unfortunate things about it. We can't quantify people's feelings and beliefs and how it affects the prices and second is that half the rows have null values.\n",
    "16. The column ownershipType tells the type of ownership you get with the property. It's categorical with the four categories being 'Freehold', 'Co-operative Society', 'Leasehold' and 'Power of Attorney'. unfortunate thing is that 35-40 percent of the values are empty.\n",
    "17. The columns [carParking_Open, carParking_Covered] have number of car parkings alloted for that property also in terms of whether those parkings are covered, open or one or many of both. They have integer values. There is a small issue though. There are some weird values in either or both columns like 15 or 503 or 201 which are obviously impossible. Here's what I think. When the property lister filled the details for properties with such values, they misinterpreted what they were supposed to fill. Maybe instead of filling the number of parking spaces alloted to the property, they filled total available parking spaces which would justify 15 as the value. Similary, someone might have filled the flat number as the parking ID for this value which might justify values like 203 and 501 where they look like flat numbers. Luckily, these weird numbers are few in quantity. Unfortunately though, more than half the values are null. Also for the rows where there are null values, either both carParking_Covered and carParking_Open are null or none of them are.\n",
    "18. The column 'furnished' tells the furnishing type of the property. It's categorical with three categories - 'Unfurnished', 'Semi-furnished' and 'Furnished'. Good thing is, there are only a few hundred null values.\n",
    "19. The columns [bedrooms, bathrooms] have the number of bedrooms and bathrooms obviously in numeric form except one unique value which is 'More than 10'. Both the columns have this value. However, the number of properties which have this value is negligible (less than 10). So, if needed, can be substituted as 11 or 15 or some number like that. Another good thing is, there are very few null values in these columns.\n",
    "20. The column 'numberOfBalconied' is similar to bedrooms and bathrooms. It tells number of balconies in the property. It has all numeric values except one - 'More than 10'. But, there area only 2 rows with that value. Also, bad news is that almost 40 percent values are null.\n",
    "21. The column 'propertyType' has the type of the apartment or property. It has 4 categories - 'Multistorey Apartment', 'Builder Floor Apartment', 'Studio Apartment' and 'Penthouse' with almost all of them being 'Multistorey Apartment'. Good thing is almost no rows have null values. I don't know the meaning of 'Builder Floor Apartment'. Here's what I found on google - \"A builder floor apartment is a residential unit that is typically located on the ground, first, or second floor of a low-rise building. Each floor is a self-contained unit with its own entrance, and the owner has greater control over their personal space than in a flat or apartment.\"\n",
    "22. The column bookingAmountExact tells the booking amount needed to be paid to reserve the flat or property before buying it. Sort of like retainers for lawyers. But, it doesn't seem relevant as price will be the target variable. And based on the price, this amount will be dependent. Also, half the values are empty.\n",
    "23. The column 'maintenanceCharges' tells the maintenance charges that are to be paid by the owner of the property once they buy it. These charges are periodic.\n",
    "24. The column 'maintenanceChargesFrequency' tells the frequency of maintenance charges to be paid by the owner.\n",
    "25. The column 'ageofcons' is a categorical column that gives the age of construction of that property or the building the property is located in. The categories are ['Less than 5 years', 'Under Construction', '5 to 10 years', 'New Construction', '10 to 15 years', '15 to 20 years', 'Above 20 years']. Sort of bad thing is that almost 15 percent values are null.\n",
    "26. The column 'isVerified' is a categorical column telling the verification details of the property by the real estate site. The categories are 'Yes', 'No' and 'Others'. Most of them are 'No'. None of the values are null. But, I don't think this will be a relevant feature because it's too specific to this website and is not reproducible. And it's not a feature inherent to a property.\n",
    "27. The column 'listingTypeDesc' tells us the type of listing it is in specific terms. It's categorical with these categories - ['Standard', 'Premium', 'Prime', 'Certified', 'Titanium', 'Platinum']. The good thing is that very few rows are null. The unfortunate thing is that just like the 'isVerified' column, this feature is not inherent to a property. It's specific to the website and is not reproducible and cannot be taken as an input for new data point when prediciting price.\n",
    "28. The column 'premiumProperty' is a boolean column. It tells whether a property is Premium or not. Again, this is not an inherent characteristic of the property istelf. And the classification criterion for a property being premium is subjective. So, this feature too seems useless for price prediction.\n",
    "29. The column 'noOfLifts' gives the number of lifts or elevator units present in the property or the building housing the property. It's numeric with values ranging from 1 to 10. So, there are no outliers. But, more than half the values are null.\n",
    "30. The column 'uuid' contains the UUIDs I created and assigned to each row.\n",
    "31. There are a few columns with prefix 'flooringType' with the suffix as the specific flooring type. These are the columns - [flooringType_Vitrified, flooringType_CeramicTiles, flooringType_Marble, flooringType_NormalTilesKotahStone, flooringType_Granite, flooringType_Wooden, flooringType_Mosaic, flooringType_Marbonite]. They are boolean columns. They basically tell if that property has or doesn't have these specific flooring types. They also contain Null values.\n",
    "32. There are a few columns with prefix 'additionalRoom' with the suffix as the specific additional room. These are the columns - [additionalRoom_PujaRoom, additionalRoom_Study, additionalRoom_Store, additionalRoom_ServantRoom]\n",
    "33. The columns [propertyId, URL] are just metadata columns for the properties. They can't be used for prediction obviously, but can be useful for other things. Let's not touch them for now.\n",
    "34. The columns [facilitiesDesc, propertyAmenities] have the same data but in different formats. So, I only considered facilitiesDesc column. This column has a list in form of string which gives the amenities the property has. The issue was that there were too many unique amenties. So, I created another dataset entirely for this. In it, there's uuid column to match property with the amenities and each unique amenity as a boolean column. These columns have True if the property has that specific amenity and False if it doesn't. There are no null values. There's a major issue with this. There are sooo many amenities which have very very low number of true values. We should probably cut them down."
   ]
  },
  {
   "cell_type": "markdown",
   "metadata": {},
   "source": []
  },
  {
   "cell_type": "markdown",
   "metadata": {},
   "source": [
    "# EDA"
   ]
  },
  {
   "cell_type": "markdown",
   "metadata": {},
   "source": [
    "## STeps and Pipeline\n",
    "\n",
    "- Similar Localities merging (Only name wise) (TBD in Preliminary cleaning)\n",
    "\n",
    "1. Missing Data Handling:\n",
    "    - carpetArea from coveredArea\n",
    "    - For ageofcons, check - KNN Imputation, XGBoost, Random Forest, etc.\n",
    "    - Reserved Parking using\n",
    "        - Domain Knowledge (If area and price greater than a certain threshold, then True) \n",
    "        - KNN Imputation, XGBoost, Random Forest, etc.\n",
    "2. Feature Engineering:\n",
    "    - Drop columns:\n",
    "        1. posessionStatus [Very high cardinality - more than 99% values belong to one of the categories]\n",
    "        2. bathrooms [Extremely highly correlated with bedrooms]\n",
    "        3. propertyType [Very high cardinality - more than 96% values belong to one of the categories]\n",
    "        4. coveredArea [Very highly correlated with carpetArea]\n",
    "    - Modify columns:\n",
    "        1. Merge localityNames which have similar price trends to reduce dimensionality. Or use PCA, t-SNE, etc.\n",
    "3. Feature Selection:\n",
    "    - Drop columns:\n",
    "        1. CHECK AFTER FEATURE SELECTION\n",
    "4. Create an SKLearn Pipeline for all of this"
   ]
  },
  {
   "cell_type": "code",
   "execution_count": null,
   "metadata": {},
   "outputs": [],
   "source": []
  },
  {
   "cell_type": "code",
   "execution_count": null,
   "metadata": {},
   "outputs": [
    {
     "name": "stderr",
     "output_type": "stream",
     "text": [
      "Summarize dataset: 100%|██████████| 350/350 [00:42<00:00,  8.15it/s, Completed]                                         \n",
      "Generate report structure: 100%|██████████| 1/1 [00:13<00:00, 13.26s/it]\n",
      "Render HTML: 100%|██████████| 1/1 [00:05<00:00,  5.12s/it]\n",
      "Export report to file: 100%|██████████| 1/1 [00:00<00:00, 13.93it/s]\n"
     ]
    }
   ],
   "source": [
    "report = ProfileReport(\n",
    "    df=df_train,\n",
    "    title=\"EDA on Training Data\",\n",
    ")\n",
    "report.to_file(\"Reports/EDAonTrainingDataV1.html\")"
   ]
  },
  {
   "cell_type": "markdown",
   "metadata": {},
   "source": [
    "## Analysis"
   ]
  },
  {
   "cell_type": "markdown",
   "metadata": {},
   "source": [
    "### Project Names"
   ]
  },
  {
   "cell_type": "code",
   "execution_count": null,
   "metadata": {},
   "outputs": [
    {
     "data": {
      "text/plain": [
       "projectName\n",
       "Kolte Patil Life Republic    127\n",
       "Panchshil Towers             108\n",
       "Gera World Of Joy             72\n",
       "Marvel Zephyr                 57\n",
       "Majestique Towers             56\n",
       "                            ... \n",
       "Siya Apartment 2               1\n",
       "Shree Krupa                    1\n",
       "Behula Apartment               1\n",
       "Project Geeta Society          1\n",
       "Green Crest                    1\n",
       "Name: count, Length: 5636, dtype: Int64"
      ]
     },
     "execution_count": 124,
     "metadata": {},
     "output_type": "execute_result"
    }
   ],
   "source": [
    "df_train['projectName'].value_counts().sort_values(ascending=False)"
   ]
  },
  {
   "cell_type": "code",
   "execution_count": null,
   "metadata": {},
   "outputs": [],
   "source": [
    "df2 = df_train.groupby('projectName').filter(lambda x: x.shape[0] > 7)\n",
    "df2 = df2.astype(\n",
    "    {\n",
    "        key: value for key, value in dtype_mapping.items() if key in df2.columns\n",
    "    }\n",
    ")\n",
    "df2['floorRatio'] = df2['floorNumber'] / df2['totalFloorNumber']\n",
    "idx = df2.loc[df2['floorNumber'] < 0].index\n",
    "df2.drop(labels=idx, axis='rows', inplace=True)"
   ]
  },
  {
   "cell_type": "code",
   "execution_count": 45,
   "metadata": {},
   "outputs": [],
   "source": [
    "gb = df2.groupby('projectName').filter(lambda x: x.shape[0] > 7).groupby('projectName') "
   ]
  },
  {
   "cell_type": "code",
   "execution_count": 63,
   "metadata": {},
   "outputs": [
    {
     "data": {
      "application/vnd.plotly.v1+json": {
       "config": {
        "plotlyServerURL": "https://plot.ly"
       },
       "data": [
        {
         "hovertemplate": "price=%{x}<br>floorRatio=%{y}<extra></extra>",
         "legendgroup": "",
         "marker": {
          "color": "#636efa",
          "symbol": "circle"
         },
         "mode": "markers",
         "name": "",
         "orientation": "v",
         "showlegend": false,
         "type": "scatter",
         "x": [
          20000000,
          26500000,
          26000000,
          23000000,
          22500000,
          18400000,
          22500000,
          19800000,
          22500000,
          22500000,
          23300000,
          23800000,
          17012500,
          18005000,
          14610000,
          18000000,
          19800000,
          16408000
         ],
         "xaxis": "x",
         "y": [
          0.5769230769230769,
          0.18181818181818182,
          0.34615384615384615,
          0.5,
          0.46153846153846156,
          0.375,
          0.16216216216216217,
          0.40540540540540543,
          0.5945945945945946,
          0.03125,
          0.43243243243243246,
          0.3,
          0.16666666666666666,
          0.6896551724137931,
          0.625,
          0.8378378378378378,
          null,
          0.7058823529411765
         ],
         "yaxis": "y"
        }
       ],
       "layout": {
        "legend": {
         "tracegroupgap": 0
        },
        "margin": {
         "t": 60
        },
        "template": {
         "data": {
          "bar": [
           {
            "error_x": {
             "color": "#2a3f5f"
            },
            "error_y": {
             "color": "#2a3f5f"
            },
            "marker": {
             "line": {
              "color": "#E5ECF6",
              "width": 0.5
             },
             "pattern": {
              "fillmode": "overlay",
              "size": 10,
              "solidity": 0.2
             }
            },
            "type": "bar"
           }
          ],
          "barpolar": [
           {
            "marker": {
             "line": {
              "color": "#E5ECF6",
              "width": 0.5
             },
             "pattern": {
              "fillmode": "overlay",
              "size": 10,
              "solidity": 0.2
             }
            },
            "type": "barpolar"
           }
          ],
          "carpet": [
           {
            "aaxis": {
             "endlinecolor": "#2a3f5f",
             "gridcolor": "white",
             "linecolor": "white",
             "minorgridcolor": "white",
             "startlinecolor": "#2a3f5f"
            },
            "baxis": {
             "endlinecolor": "#2a3f5f",
             "gridcolor": "white",
             "linecolor": "white",
             "minorgridcolor": "white",
             "startlinecolor": "#2a3f5f"
            },
            "type": "carpet"
           }
          ],
          "choropleth": [
           {
            "colorbar": {
             "outlinewidth": 0,
             "ticks": ""
            },
            "type": "choropleth"
           }
          ],
          "contour": [
           {
            "colorbar": {
             "outlinewidth": 0,
             "ticks": ""
            },
            "colorscale": [
             [
              0,
              "#0d0887"
             ],
             [
              0.1111111111111111,
              "#46039f"
             ],
             [
              0.2222222222222222,
              "#7201a8"
             ],
             [
              0.3333333333333333,
              "#9c179e"
             ],
             [
              0.4444444444444444,
              "#bd3786"
             ],
             [
              0.5555555555555556,
              "#d8576b"
             ],
             [
              0.6666666666666666,
              "#ed7953"
             ],
             [
              0.7777777777777778,
              "#fb9f3a"
             ],
             [
              0.8888888888888888,
              "#fdca26"
             ],
             [
              1,
              "#f0f921"
             ]
            ],
            "type": "contour"
           }
          ],
          "contourcarpet": [
           {
            "colorbar": {
             "outlinewidth": 0,
             "ticks": ""
            },
            "type": "contourcarpet"
           }
          ],
          "heatmap": [
           {
            "colorbar": {
             "outlinewidth": 0,
             "ticks": ""
            },
            "colorscale": [
             [
              0,
              "#0d0887"
             ],
             [
              0.1111111111111111,
              "#46039f"
             ],
             [
              0.2222222222222222,
              "#7201a8"
             ],
             [
              0.3333333333333333,
              "#9c179e"
             ],
             [
              0.4444444444444444,
              "#bd3786"
             ],
             [
              0.5555555555555556,
              "#d8576b"
             ],
             [
              0.6666666666666666,
              "#ed7953"
             ],
             [
              0.7777777777777778,
              "#fb9f3a"
             ],
             [
              0.8888888888888888,
              "#fdca26"
             ],
             [
              1,
              "#f0f921"
             ]
            ],
            "type": "heatmap"
           }
          ],
          "heatmapgl": [
           {
            "colorbar": {
             "outlinewidth": 0,
             "ticks": ""
            },
            "colorscale": [
             [
              0,
              "#0d0887"
             ],
             [
              0.1111111111111111,
              "#46039f"
             ],
             [
              0.2222222222222222,
              "#7201a8"
             ],
             [
              0.3333333333333333,
              "#9c179e"
             ],
             [
              0.4444444444444444,
              "#bd3786"
             ],
             [
              0.5555555555555556,
              "#d8576b"
             ],
             [
              0.6666666666666666,
              "#ed7953"
             ],
             [
              0.7777777777777778,
              "#fb9f3a"
             ],
             [
              0.8888888888888888,
              "#fdca26"
             ],
             [
              1,
              "#f0f921"
             ]
            ],
            "type": "heatmapgl"
           }
          ],
          "histogram": [
           {
            "marker": {
             "pattern": {
              "fillmode": "overlay",
              "size": 10,
              "solidity": 0.2
             }
            },
            "type": "histogram"
           }
          ],
          "histogram2d": [
           {
            "colorbar": {
             "outlinewidth": 0,
             "ticks": ""
            },
            "colorscale": [
             [
              0,
              "#0d0887"
             ],
             [
              0.1111111111111111,
              "#46039f"
             ],
             [
              0.2222222222222222,
              "#7201a8"
             ],
             [
              0.3333333333333333,
              "#9c179e"
             ],
             [
              0.4444444444444444,
              "#bd3786"
             ],
             [
              0.5555555555555556,
              "#d8576b"
             ],
             [
              0.6666666666666666,
              "#ed7953"
             ],
             [
              0.7777777777777778,
              "#fb9f3a"
             ],
             [
              0.8888888888888888,
              "#fdca26"
             ],
             [
              1,
              "#f0f921"
             ]
            ],
            "type": "histogram2d"
           }
          ],
          "histogram2dcontour": [
           {
            "colorbar": {
             "outlinewidth": 0,
             "ticks": ""
            },
            "colorscale": [
             [
              0,
              "#0d0887"
             ],
             [
              0.1111111111111111,
              "#46039f"
             ],
             [
              0.2222222222222222,
              "#7201a8"
             ],
             [
              0.3333333333333333,
              "#9c179e"
             ],
             [
              0.4444444444444444,
              "#bd3786"
             ],
             [
              0.5555555555555556,
              "#d8576b"
             ],
             [
              0.6666666666666666,
              "#ed7953"
             ],
             [
              0.7777777777777778,
              "#fb9f3a"
             ],
             [
              0.8888888888888888,
              "#fdca26"
             ],
             [
              1,
              "#f0f921"
             ]
            ],
            "type": "histogram2dcontour"
           }
          ],
          "mesh3d": [
           {
            "colorbar": {
             "outlinewidth": 0,
             "ticks": ""
            },
            "type": "mesh3d"
           }
          ],
          "parcoords": [
           {
            "line": {
             "colorbar": {
              "outlinewidth": 0,
              "ticks": ""
             }
            },
            "type": "parcoords"
           }
          ],
          "pie": [
           {
            "automargin": true,
            "type": "pie"
           }
          ],
          "scatter": [
           {
            "fillpattern": {
             "fillmode": "overlay",
             "size": 10,
             "solidity": 0.2
            },
            "type": "scatter"
           }
          ],
          "scatter3d": [
           {
            "line": {
             "colorbar": {
              "outlinewidth": 0,
              "ticks": ""
             }
            },
            "marker": {
             "colorbar": {
              "outlinewidth": 0,
              "ticks": ""
             }
            },
            "type": "scatter3d"
           }
          ],
          "scattercarpet": [
           {
            "marker": {
             "colorbar": {
              "outlinewidth": 0,
              "ticks": ""
             }
            },
            "type": "scattercarpet"
           }
          ],
          "scattergeo": [
           {
            "marker": {
             "colorbar": {
              "outlinewidth": 0,
              "ticks": ""
             }
            },
            "type": "scattergeo"
           }
          ],
          "scattergl": [
           {
            "marker": {
             "colorbar": {
              "outlinewidth": 0,
              "ticks": ""
             }
            },
            "type": "scattergl"
           }
          ],
          "scattermapbox": [
           {
            "marker": {
             "colorbar": {
              "outlinewidth": 0,
              "ticks": ""
             }
            },
            "type": "scattermapbox"
           }
          ],
          "scatterpolar": [
           {
            "marker": {
             "colorbar": {
              "outlinewidth": 0,
              "ticks": ""
             }
            },
            "type": "scatterpolar"
           }
          ],
          "scatterpolargl": [
           {
            "marker": {
             "colorbar": {
              "outlinewidth": 0,
              "ticks": ""
             }
            },
            "type": "scatterpolargl"
           }
          ],
          "scatterternary": [
           {
            "marker": {
             "colorbar": {
              "outlinewidth": 0,
              "ticks": ""
             }
            },
            "type": "scatterternary"
           }
          ],
          "surface": [
           {
            "colorbar": {
             "outlinewidth": 0,
             "ticks": ""
            },
            "colorscale": [
             [
              0,
              "#0d0887"
             ],
             [
              0.1111111111111111,
              "#46039f"
             ],
             [
              0.2222222222222222,
              "#7201a8"
             ],
             [
              0.3333333333333333,
              "#9c179e"
             ],
             [
              0.4444444444444444,
              "#bd3786"
             ],
             [
              0.5555555555555556,
              "#d8576b"
             ],
             [
              0.6666666666666666,
              "#ed7953"
             ],
             [
              0.7777777777777778,
              "#fb9f3a"
             ],
             [
              0.8888888888888888,
              "#fdca26"
             ],
             [
              1,
              "#f0f921"
             ]
            ],
            "type": "surface"
           }
          ],
          "table": [
           {
            "cells": {
             "fill": {
              "color": "#EBF0F8"
             },
             "line": {
              "color": "white"
             }
            },
            "header": {
             "fill": {
              "color": "#C8D4E3"
             },
             "line": {
              "color": "white"
             }
            },
            "type": "table"
           }
          ]
         },
         "layout": {
          "annotationdefaults": {
           "arrowcolor": "#2a3f5f",
           "arrowhead": 0,
           "arrowwidth": 1
          },
          "autotypenumbers": "strict",
          "coloraxis": {
           "colorbar": {
            "outlinewidth": 0,
            "ticks": ""
           }
          },
          "colorscale": {
           "diverging": [
            [
             0,
             "#8e0152"
            ],
            [
             0.1,
             "#c51b7d"
            ],
            [
             0.2,
             "#de77ae"
            ],
            [
             0.3,
             "#f1b6da"
            ],
            [
             0.4,
             "#fde0ef"
            ],
            [
             0.5,
             "#f7f7f7"
            ],
            [
             0.6,
             "#e6f5d0"
            ],
            [
             0.7,
             "#b8e186"
            ],
            [
             0.8,
             "#7fbc41"
            ],
            [
             0.9,
             "#4d9221"
            ],
            [
             1,
             "#276419"
            ]
           ],
           "sequential": [
            [
             0,
             "#0d0887"
            ],
            [
             0.1111111111111111,
             "#46039f"
            ],
            [
             0.2222222222222222,
             "#7201a8"
            ],
            [
             0.3333333333333333,
             "#9c179e"
            ],
            [
             0.4444444444444444,
             "#bd3786"
            ],
            [
             0.5555555555555556,
             "#d8576b"
            ],
            [
             0.6666666666666666,
             "#ed7953"
            ],
            [
             0.7777777777777778,
             "#fb9f3a"
            ],
            [
             0.8888888888888888,
             "#fdca26"
            ],
            [
             1,
             "#f0f921"
            ]
           ],
           "sequentialminus": [
            [
             0,
             "#0d0887"
            ],
            [
             0.1111111111111111,
             "#46039f"
            ],
            [
             0.2222222222222222,
             "#7201a8"
            ],
            [
             0.3333333333333333,
             "#9c179e"
            ],
            [
             0.4444444444444444,
             "#bd3786"
            ],
            [
             0.5555555555555556,
             "#d8576b"
            ],
            [
             0.6666666666666666,
             "#ed7953"
            ],
            [
             0.7777777777777778,
             "#fb9f3a"
            ],
            [
             0.8888888888888888,
             "#fdca26"
            ],
            [
             1,
             "#f0f921"
            ]
           ]
          },
          "colorway": [
           "#636efa",
           "#EF553B",
           "#00cc96",
           "#ab63fa",
           "#FFA15A",
           "#19d3f3",
           "#FF6692",
           "#B6E880",
           "#FF97FF",
           "#FECB52"
          ],
          "font": {
           "color": "#2a3f5f"
          },
          "geo": {
           "bgcolor": "white",
           "lakecolor": "white",
           "landcolor": "#E5ECF6",
           "showlakes": true,
           "showland": true,
           "subunitcolor": "white"
          },
          "hoverlabel": {
           "align": "left"
          },
          "hovermode": "closest",
          "mapbox": {
           "style": "light"
          },
          "paper_bgcolor": "white",
          "plot_bgcolor": "#E5ECF6",
          "polar": {
           "angularaxis": {
            "gridcolor": "white",
            "linecolor": "white",
            "ticks": ""
           },
           "bgcolor": "#E5ECF6",
           "radialaxis": {
            "gridcolor": "white",
            "linecolor": "white",
            "ticks": ""
           }
          },
          "scene": {
           "xaxis": {
            "backgroundcolor": "#E5ECF6",
            "gridcolor": "white",
            "gridwidth": 2,
            "linecolor": "white",
            "showbackground": true,
            "ticks": "",
            "zerolinecolor": "white"
           },
           "yaxis": {
            "backgroundcolor": "#E5ECF6",
            "gridcolor": "white",
            "gridwidth": 2,
            "linecolor": "white",
            "showbackground": true,
            "ticks": "",
            "zerolinecolor": "white"
           },
           "zaxis": {
            "backgroundcolor": "#E5ECF6",
            "gridcolor": "white",
            "gridwidth": 2,
            "linecolor": "white",
            "showbackground": true,
            "ticks": "",
            "zerolinecolor": "white"
           }
          },
          "shapedefaults": {
           "line": {
            "color": "#2a3f5f"
           }
          },
          "ternary": {
           "aaxis": {
            "gridcolor": "white",
            "linecolor": "white",
            "ticks": ""
           },
           "baxis": {
            "gridcolor": "white",
            "linecolor": "white",
            "ticks": ""
           },
           "bgcolor": "#E5ECF6",
           "caxis": {
            "gridcolor": "white",
            "linecolor": "white",
            "ticks": ""
           }
          },
          "title": {
           "x": 0.05
          },
          "xaxis": {
           "automargin": true,
           "gridcolor": "white",
           "linecolor": "white",
           "ticks": "",
           "title": {
            "standoff": 15
           },
           "zerolinecolor": "white",
           "zerolinewidth": 2
          },
          "yaxis": {
           "automargin": true,
           "gridcolor": "white",
           "linecolor": "white",
           "ticks": "",
           "title": {
            "standoff": 15
           },
           "zerolinecolor": "white",
           "zerolinewidth": 2
          }
         }
        },
        "xaxis": {
         "anchor": "y",
         "domain": [
          0,
          1
         ],
         "title": {
          "text": "price"
         }
        },
        "yaxis": {
         "anchor": "x",
         "domain": [
          0,
          1
         ],
         "title": {
          "text": "floorRatio"
         }
        }
       }
      }
     },
     "metadata": {},
     "output_type": "display_data"
    }
   ],
   "source": [
    "px.scatter(gb.get_group(list(gb.groups.keys())[0]), x='price', y='floorRatio')"
   ]
  },
  {
   "cell_type": "code",
   "execution_count": null,
   "metadata": {},
   "outputs": [],
   "source": []
  },
  {
   "cell_type": "markdown",
   "metadata": {},
   "source": [
    "# Missing Values"
   ]
  },
  {
   "cell_type": "code",
   "execution_count": null,
   "metadata": {},
   "outputs": [
    {
     "data": {
      "text/plain": [
       "<Axes: >"
      ]
     },
     "execution_count": 83,
     "metadata": {},
     "output_type": "execute_result"
    },
    {
     "data": {
      "image/png": "[encoded data removed]",
      "text/plain": [
       "<Figure size 2500x1000 with 2 Axes>"
      ]
     },
     "metadata": {},
     "output_type": "display_data"
    }
   ],
   "source": [
    "msno.matrix(df_train.sort_values(['price', 'coveredArea']))"
   ]
  },
  {
   "cell_type": "code",
   "execution_count": 124,
   "metadata": {},
   "outputs": [
    {
     "data": {
      "text/plain": [
       "localityName           0\n",
       "price                  0\n",
       "carpetArea          3925\n",
       "coveredArea          498\n",
       "floorNumber          147\n",
       "totalFloorNumber      45\n",
       "transactionType        3\n",
       "furnished             44\n",
       "bedrooms               0\n",
       "bathrooms              0\n",
       "ageofcons           2746\n",
       "ReservedParking     3905\n",
       "dtype: int64"
      ]
     },
     "execution_count": 124,
     "metadata": {},
     "output_type": "execute_result"
    }
   ],
   "source": [
    "df_train.isna().sum()"
   ]
  },
  {
   "cell_type": "markdown",
   "metadata": {},
   "source": [
    "### Carpet Area\n",
    "\n",
    "- Carpet area is very highly correlated with Covered area"
   ]
  },
  {
   "cell_type": "markdown",
   "metadata": {},
   "source": [
    "#### Ratio of carpetArea to coveredArea"
   ]
  },
  {
   "cell_type": "code",
   "execution_count": null,
   "metadata": {},
   "outputs": [
    {
     "data": {
      "text/plain": [
       "count     15554.0\n",
       "mean     0.746544\n",
       "std      0.060448\n",
       "min      0.369697\n",
       "5%       0.679819\n",
       "10%      0.709091\n",
       "25%      0.719873\n",
       "50%         0.725\n",
       "75%      0.765926\n",
       "90%      0.820513\n",
       "95%      0.864228\n",
       "99%           1.0\n",
       "max           1.0\n",
       "dtype: Float64"
      ]
     },
     "execution_count": 27,
     "metadata": {},
     "output_type": "execute_result"
    }
   ],
   "source": [
    "(df_train['carpetArea'] / df_train['coveredArea']).describe(percentiles=[0.05, 0.1, 0.25, 0.5, 0.75, 0.9, 0.95, 0.99])"
   ]
  },
  {
   "cell_type": "markdown",
   "metadata": {},
   "source": [
    "##### Observations\n",
    "\n",
    "- 80% of the data has the ratio between 0.7 to 0.82. This is a good thing - the variation and standard deviation is less. We can use this for imputation of carpetArea"
   ]
  },
  {
   "cell_type": "markdown",
   "metadata": {},
   "source": [
    "#### Checking if the missing values are random or not"
   ]
  },
  {
   "cell_type": "code",
   "execution_count": null,
   "metadata": {},
   "outputs": [
    {
     "data": {
      "text/html": [
       "<div>\n",
       "<style scoped>\n",
       "    .dataframe tbody tr th:only-of-type {\n",
       "        vertical-align: middle;\n",
       "    }\n",
       "\n",
       "    .dataframe tbody tr th {\n",
       "        vertical-align: top;\n",
       "    }\n",
       "\n",
       "    .dataframe thead th {\n",
       "        text-align: right;\n",
       "    }\n",
       "</style>\n",
       "<table border=\"1\" class=\"dataframe\">\n",
       "  <thead>\n",
       "    <tr style=\"text-align: right;\">\n",
       "      <th></th>\n",
       "      <th>price</th>\n",
       "      <th>carpetArea</th>\n",
       "      <th>coveredArea</th>\n",
       "      <th>floorNumber</th>\n",
       "      <th>totalFloorNumber</th>\n",
       "      <th>bedrooms</th>\n",
       "      <th>bathrooms</th>\n",
       "    </tr>\n",
       "  </thead>\n",
       "  <tbody>\n",
       "    <tr>\n",
       "      <th>count</th>\n",
       "      <td>19977.0</td>\n",
       "      <td>16052.0</td>\n",
       "      <td>19479.0</td>\n",
       "      <td>19830.0</td>\n",
       "      <td>19932.0</td>\n",
       "      <td>19977.0</td>\n",
       "      <td>19977.0</td>\n",
       "    </tr>\n",
       "    <tr>\n",
       "      <th>mean</th>\n",
       "      <td>11396227.015818</td>\n",
       "      <td>957.892599</td>\n",
       "      <td>1237.016839</td>\n",
       "      <td>6.848159</td>\n",
       "      <td>12.831527</td>\n",
       "      <td>2.19117</td>\n",
       "      <td>2.202833</td>\n",
       "    </tr>\n",
       "    <tr>\n",
       "      <th>std</th>\n",
       "      <td>14697910.935709</td>\n",
       "      <td>630.914503</td>\n",
       "      <td>842.012449</td>\n",
       "      <td>5.009134</td>\n",
       "      <td>7.414308</td>\n",
       "      <td>0.882259</td>\n",
       "      <td>0.93897</td>\n",
       "    </tr>\n",
       "    <tr>\n",
       "      <th>min</th>\n",
       "      <td>600000.0</td>\n",
       "      <td>135.0</td>\n",
       "      <td>200.0</td>\n",
       "      <td>0.0</td>\n",
       "      <td>1.0</td>\n",
       "      <td>1.0</td>\n",
       "      <td>1.0</td>\n",
       "    </tr>\n",
       "    <tr>\n",
       "      <th>25%</th>\n",
       "      <td>4600000.0</td>\n",
       "      <td>626.0</td>\n",
       "      <td>759.0</td>\n",
       "      <td>3.0</td>\n",
       "      <td>7.0</td>\n",
       "      <td>2.0</td>\n",
       "      <td>2.0</td>\n",
       "    </tr>\n",
       "    <tr>\n",
       "      <th>50%</th>\n",
       "      <td>7500000.0</td>\n",
       "      <td>800.0</td>\n",
       "      <td>1050.0</td>\n",
       "      <td>6.0</td>\n",
       "      <td>12.0</td>\n",
       "      <td>2.0</td>\n",
       "      <td>2.0</td>\n",
       "    </tr>\n",
       "    <tr>\n",
       "      <th>75%</th>\n",
       "      <td>12000000.0</td>\n",
       "      <td>1100.0</td>\n",
       "      <td>1405.0</td>\n",
       "      <td>9.0</td>\n",
       "      <td>16.0</td>\n",
       "      <td>3.0</td>\n",
       "      <td>3.0</td>\n",
       "    </tr>\n",
       "    <tr>\n",
       "      <th>max</th>\n",
       "      <td>350581554.0</td>\n",
       "      <td>9528.0</td>\n",
       "      <td>13254.0</td>\n",
       "      <td>40.0</td>\n",
       "      <td>46.0</td>\n",
       "      <td>8.0</td>\n",
       "      <td>11.0</td>\n",
       "    </tr>\n",
       "  </tbody>\n",
       "</table>\n",
       "</div>"
      ],
      "text/plain": [
       "                 price  carpetArea  coveredArea  floorNumber  \\\n",
       "count          19977.0     16052.0      19479.0      19830.0   \n",
       "mean   11396227.015818  957.892599  1237.016839     6.848159   \n",
       "std    14697910.935709  630.914503   842.012449     5.009134   \n",
       "min           600000.0       135.0        200.0          0.0   \n",
       "25%          4600000.0       626.0        759.0          3.0   \n",
       "50%          7500000.0       800.0       1050.0          6.0   \n",
       "75%         12000000.0      1100.0       1405.0          9.0   \n",
       "max        350581554.0      9528.0      13254.0         40.0   \n",
       "\n",
       "       totalFloorNumber  bedrooms  bathrooms  \n",
       "count           19932.0   19977.0    19977.0  \n",
       "mean          12.831527   2.19117   2.202833  \n",
       "std            7.414308  0.882259    0.93897  \n",
       "min                 1.0       1.0        1.0  \n",
       "25%                 7.0       2.0        2.0  \n",
       "50%                12.0       2.0        2.0  \n",
       "75%                16.0       3.0        3.0  \n",
       "max                46.0       8.0       11.0  "
      ]
     },
     "execution_count": 26,
     "metadata": {},
     "output_type": "execute_result"
    }
   ],
   "source": [
    "df_train.describe()"
   ]
  },
  {
   "cell_type": "code",
   "execution_count": null,
   "metadata": {},
   "outputs": [
    {
     "data": {
      "text/html": [
       "<div>\n",
       "<style scoped>\n",
       "    .dataframe tbody tr th:only-of-type {\n",
       "        vertical-align: middle;\n",
       "    }\n",
       "\n",
       "    .dataframe tbody tr th {\n",
       "        vertical-align: top;\n",
       "    }\n",
       "\n",
       "    .dataframe thead th {\n",
       "        text-align: right;\n",
       "    }\n",
       "</style>\n",
       "<table border=\"1\" class=\"dataframe\">\n",
       "  <thead>\n",
       "    <tr style=\"text-align: right;\">\n",
       "      <th></th>\n",
       "      <th>price</th>\n",
       "      <th>carpetArea</th>\n",
       "      <th>coveredArea</th>\n",
       "      <th>floorNumber</th>\n",
       "      <th>totalFloorNumber</th>\n",
       "      <th>bedrooms</th>\n",
       "      <th>bathrooms</th>\n",
       "    </tr>\n",
       "  </thead>\n",
       "  <tbody>\n",
       "    <tr>\n",
       "      <th>count</th>\n",
       "      <td>3925.0</td>\n",
       "      <td>0.0</td>\n",
       "      <td>3925.0</td>\n",
       "      <td>3912.0</td>\n",
       "      <td>3920.0</td>\n",
       "      <td>3925.0</td>\n",
       "      <td>3925.0</td>\n",
       "    </tr>\n",
       "    <tr>\n",
       "      <th>mean</th>\n",
       "      <td>10012660.278471</td>\n",
       "      <td>&lt;NA&gt;</td>\n",
       "      <td>1082.196688</td>\n",
       "      <td>5.611708</td>\n",
       "      <td>9.283929</td>\n",
       "      <td>1.894013</td>\n",
       "      <td>1.911592</td>\n",
       "    </tr>\n",
       "    <tr>\n",
       "      <th>std</th>\n",
       "      <td>16941342.394256</td>\n",
       "      <td>&lt;NA&gt;</td>\n",
       "      <td>905.893463</td>\n",
       "      <td>3.891825</td>\n",
       "      <td>5.337475</td>\n",
       "      <td>0.874067</td>\n",
       "      <td>0.943663</td>\n",
       "    </tr>\n",
       "    <tr>\n",
       "      <th>min</th>\n",
       "      <td>600000.0</td>\n",
       "      <td>&lt;NA&gt;</td>\n",
       "      <td>200.0</td>\n",
       "      <td>0.0</td>\n",
       "      <td>1.0</td>\n",
       "      <td>1.0</td>\n",
       "      <td>1.0</td>\n",
       "    </tr>\n",
       "    <tr>\n",
       "      <th>25%</th>\n",
       "      <td>3500000.0</td>\n",
       "      <td>&lt;NA&gt;</td>\n",
       "      <td>600.0</td>\n",
       "      <td>3.0</td>\n",
       "      <td>5.0</td>\n",
       "      <td>1.0</td>\n",
       "      <td>1.0</td>\n",
       "    </tr>\n",
       "    <tr>\n",
       "      <th>50%</th>\n",
       "      <td>5500000.0</td>\n",
       "      <td>&lt;NA&gt;</td>\n",
       "      <td>850.0</td>\n",
       "      <td>5.0</td>\n",
       "      <td>8.0</td>\n",
       "      <td>2.0</td>\n",
       "      <td>2.0</td>\n",
       "    </tr>\n",
       "    <tr>\n",
       "      <th>75%</th>\n",
       "      <td>9000000.0</td>\n",
       "      <td>&lt;NA&gt;</td>\n",
       "      <td>1150.0</td>\n",
       "      <td>7.0</td>\n",
       "      <td>12.0</td>\n",
       "      <td>2.0</td>\n",
       "      <td>2.0</td>\n",
       "    </tr>\n",
       "    <tr>\n",
       "      <th>max</th>\n",
       "      <td>170000000.0</td>\n",
       "      <td>&lt;NA&gt;</td>\n",
       "      <td>8486.0</td>\n",
       "      <td>32.0</td>\n",
       "      <td>41.0</td>\n",
       "      <td>8.0</td>\n",
       "      <td>10.0</td>\n",
       "    </tr>\n",
       "  </tbody>\n",
       "</table>\n",
       "</div>"
      ],
      "text/plain": [
       "                 price  carpetArea  coveredArea  floorNumber  \\\n",
       "count           3925.0         0.0       3925.0       3912.0   \n",
       "mean   10012660.278471        <NA>  1082.196688     5.611708   \n",
       "std    16941342.394256        <NA>   905.893463     3.891825   \n",
       "min           600000.0        <NA>        200.0          0.0   \n",
       "25%          3500000.0        <NA>        600.0          3.0   \n",
       "50%          5500000.0        <NA>        850.0          5.0   \n",
       "75%          9000000.0        <NA>       1150.0          7.0   \n",
       "max        170000000.0        <NA>       8486.0         32.0   \n",
       "\n",
       "       totalFloorNumber  bedrooms  bathrooms  \n",
       "count            3920.0    3925.0     3925.0  \n",
       "mean           9.283929  1.894013   1.911592  \n",
       "std            5.337475  0.874067   0.943663  \n",
       "min                 1.0       1.0        1.0  \n",
       "25%                 5.0       1.0        1.0  \n",
       "50%                 8.0       2.0        2.0  \n",
       "75%                12.0       2.0        2.0  \n",
       "max                41.0       8.0       10.0  "
      ]
     },
     "execution_count": 30,
     "metadata": {},
     "output_type": "execute_result"
    }
   ],
   "source": [
    "df_train.loc[df_train['carpetArea'].isnull()].describe()"
   ]
  },
  {
   "cell_type": "markdown",
   "metadata": {},
   "source": [
    "##### Observations\n",
    "\n",
    "- The rows where carpetArea is null, have on average relatively lower prices, coveredArea, bedrooms, etc.\n",
    "- But, there's still a significant overlap between the two. So, we cannot conclude that the missing carpetArea values belong to a certain category. Maybe hypothesis testing is needed."
   ]
  },
  {
   "cell_type": "markdown",
   "metadata": {},
   "source": [
    "#### Correlation Matrix"
   ]
  },
  {
   "cell_type": "code",
   "execution_count": null,
   "metadata": {},
   "outputs": [
    {
     "data": {
      "text/plain": [
       "carpetArea     1.000000\n",
       "coveredArea    0.987987\n",
       "bedrooms       0.792858\n",
       "bathrooms      0.820358\n",
       "price          0.906264\n",
       "Name: carpetArea, dtype: float64"
      ]
     },
     "execution_count": 38,
     "metadata": {},
     "output_type": "execute_result"
    }
   ],
   "source": [
    "df_train[['carpetArea', 'coveredArea', 'bedrooms', 'bathrooms', 'price']].corr('pearson').loc['carpetArea']"
   ]
  },
  {
   "cell_type": "markdown",
   "metadata": {},
   "source": [
    "##### Observations\n",
    "\n",
    "- These columns are highly linearly correlated with each other.\n",
    "- We can use Linear regression to impute carpetArea\n",
    "- But, we can't use price as it's the target variable. May cause target leakage."
   ]
  },
  {
   "cell_type": "markdown",
   "metadata": {},
   "source": [
    "#### Trying Linear Regression and KNN for imputation"
   ]
  },
  {
   "cell_type": "code",
   "execution_count": null,
   "metadata": {},
   "outputs": [
    {
     "name": "stdout",
     "output_type": "stream",
     "text": [
      "Linear Regression MAE: 53.02\n",
      "KNN Regression MAE: 64.37\n"
     ]
    }
   ],
   "source": [
    "import numpy as np\n",
    "import pandas as pd\n",
    "from sklearn.linear_model import LinearRegression\n",
    "from sklearn.neighbors import KNeighborsRegressor\n",
    "from sklearn.preprocessing import StandardScaler\n",
    "from sklearn.pipeline import make_pipeline\n",
    "from sklearn.model_selection import KFold, cross_val_score\n",
    "\n",
    "# Assume df is your original training DataFrame.\n",
    "\n",
    "# 1. Separate rows with non-missing and missing carpetArea\n",
    "df_complete = df_train[df_train['carpetArea'].notna()].copy()\n",
    "df_missing = df_train[df_train['carpetArea'].isna()].copy()\n",
    "\n",
    "# 2. Define predictor features.\n",
    "# We deliberately exclude 'price' to avoid inadvertently introducing target leakage.\n",
    "predictors = [\"coveredArea\", \"bedrooms\", \"bathrooms\", \"floorNumber\", \"totalFloorNumber\"]\n",
    "\n",
    "# For our complete-case training, drop rows with missing predictor values\n",
    "df_complete = df_complete.dropna(subset=predictors)\n",
    "\n",
    "# Prepare X (predictors) and y (target)\n",
    "X = df_complete[predictors]\n",
    "y = df_complete[\"carpetArea\"]\n",
    "\n",
    "# 3. Define a 5-fold cross-validation scheme\n",
    "kf = KFold(n_splits=5, shuffle=True, random_state=42)\n",
    "\n",
    "# 4. Create pipelines that include standardization\n",
    "# Linear Regression Pipeline\n",
    "pipeline_lin = make_pipeline(StandardScaler(), LinearRegression())\n",
    "\n",
    "# KNN Regression Pipeline (using k=5)\n",
    "pipeline_knn = make_pipeline(StandardScaler(), KNeighborsRegressor(n_neighbors=5))\n",
    "\n",
    "# 5. Evaluate Linear Regression Pipeline using cross-validation with MAE\n",
    "cv_scores_lin = cross_val_score(\n",
    "    pipeline_lin, X, y, cv=kf, scoring=\"neg_mean_absolute_error\"\n",
    ")\n",
    "mae_lin = -np.mean(cv_scores_lin)\n",
    "print(f\"Linear Regression MAE: {mae_lin:.2f}\")\n",
    "\n",
    "# 6. Evaluate KNN Regression Pipeline using cross-validation with MAE\n",
    "cv_scores_knn = cross_val_score(\n",
    "    pipeline_knn, X, y, cv=kf, scoring=\"neg_mean_absolute_error\"\n",
    ")\n",
    "mae_knn = -np.mean(cv_scores_knn)\n",
    "print(f\"KNN Regression MAE: {mae_knn:.2f}\")"
   ]
  },
  {
   "cell_type": "code",
   "execution_count": 60,
   "metadata": {},
   "outputs": [],
   "source": [
    "# Fit the chosen pipeline on all complete data.\n",
    "pipeline_lin.fit(X, y)\n",
    "\n",
    "# 8. For the rows with missing carpetArea, ensure that predictor values exist.\n",
    "df_missing = df_missing.dropna(subset=predictors).copy()\n",
    "X_missing = df_missing[predictors]\n",
    "\n",
    "# Predict and impute carpetArea for the missing rows.\n",
    "imputed_values = pipeline_lin.predict(X_missing)\n",
    "df_missing[\"carpetArea\"] = imputed_values\n",
    "\n",
    "# 9. Recombine the complete and imputed missing rows back into one DataFrame.\n",
    "df_imputed = pd.concat([df_complete, df_missing]).sort_index()"
   ]
  },
  {
   "cell_type": "code",
   "execution_count": 61,
   "metadata": {},
   "outputs": [
    {
     "data": {
      "text/plain": [
       "count        19364.0\n",
       "mean      920.902475\n",
       "std       630.956032\n",
       "min            135.0\n",
       "25%       567.624281\n",
       "50%       772.102538\n",
       "75%      1054.810666\n",
       "max           9528.0\n",
       "Name: carpetArea, dtype: Float64"
      ]
     },
     "execution_count": 61,
     "metadata": {},
     "output_type": "execute_result"
    }
   ],
   "source": [
    "df_imputed['carpetArea'].describe()"
   ]
  },
  {
   "cell_type": "code",
   "execution_count": null,
   "metadata": {},
   "outputs": [
    {
     "data": {
      "text/plain": [
       "count       16052.0\n",
       "mean     957.892599\n",
       "std      630.914503\n",
       "min           135.0\n",
       "25%           626.0\n",
       "50%           800.0\n",
       "75%          1100.0\n",
       "max          9528.0\n",
       "Name: carpetArea, dtype: Float64"
      ]
     },
     "execution_count": 62,
     "metadata": {},
     "output_type": "execute_result"
    }
   ],
   "source": [
    "df_train['carpetArea'].describe()"
   ]
  },
  {
   "cell_type": "markdown",
   "metadata": {},
   "source": [
    "### Final Pipeline and Other Columns"
   ]
  },
  {
   "cell_type": "code",
   "execution_count": 17,
   "metadata": {},
   "outputs": [],
   "source": [
    "df_train = pd.read_csv(\n",
    "    '../Data/train.csv',\n",
    "    dtype = dtype_mapping,\n",
    "    index_col=0\n",
    ")\n",
    "\n",
    "df_train.fillna(pd.NA, inplace=True)\n",
    "\n",
    "df_train = df_train.drop(columns = COLUMNS_TO_DROP)"
   ]
  },
  {
   "cell_type": "markdown",
   "metadata": {},
   "source": [
    "#### Imputing Carpet Area"
   ]
  },
  {
   "cell_type": "code",
   "execution_count": 19,
   "metadata": {},
   "outputs": [],
   "source": [
    "import pandas as pd\n",
    "import numpy as np\n",
    "\n",
    "from sklearn.linear_model import LinearRegression\n",
    "from sklearn.preprocessing import (\n",
    "    StandardScaler,\n",
    "    OneHotEncoder,\n",
    "    OrdinalEncoder,\n",
    "    FunctionTransformer\n",
    ")\n",
    "from sklearn.impute import SimpleImputer\n",
    "from sklearn.pipeline import Pipeline\n",
    "from sklearn.compose import ColumnTransformer\n",
    "import joblib\n",
    "\n",
    "# -----------------------------\n",
    "# Step 1: Impute carpetArea using Linear Regression\n",
    "# -----------------------------\n",
    "\n",
    "# Separate rows where carpetArea is present vs. missing\n",
    "df_full = df_train[df_train[\"carpetArea\"].notna()].copy()\n",
    "df_missing = df_train[df_train[\"carpetArea\"].isna()].copy()\n",
    "\n",
    "# The predictors for carpetArea are: coveredArea, bedrooms, and bathrooms.\n",
    "predictors = [\"coveredArea\", \"bedrooms\", \"bathrooms\"]\n",
    "\n",
    "# In the df_full set, drop any rows where one of the predictors is missing\n",
    "df_full = df_full.dropna(subset=predictors).copy()\n",
    "\n",
    "# Prepare training data for the regression\n",
    "X_reg = df_full[predictors]\n",
    "y_reg = df_full[\"carpetArea\"]\n",
    "\n",
    "# Scale the predictor variables\n",
    "scaler_reg = StandardScaler()\n",
    "X_reg_scaled = scaler_reg.fit_transform(X_reg)\n",
    "\n",
    "# Fit a simple Linear Regression model\n",
    "lr_model = LinearRegression()\n",
    "lr_model.fit(X_reg_scaled, y_reg)\n",
    "\n",
    "# Now, for rows where carpetArea is missing, predict using the regression model,\n",
    "# but only do this for rows that have non-missing predictor values.\n",
    "mask_predictors = df_missing[predictors].notna().all(axis=1)\n",
    "if mask_predictors.sum() > 0:\n",
    "    X_missing = df_missing.loc[mask_predictors, predictors]\n",
    "    X_missing_scaled = scaler_reg.transform(X_missing)\n",
    "    pred_carpet = lr_model.predict(X_missing_scaled)\n",
    "    df_missing.loc[mask_predictors, \"carpetArea\"] = pred_carpet.astype(int)\n",
    "\n",
    "# Merge the imputed carpetArea values back into the main dataframe.\n",
    "# (For rows where predictors were still missing in df_missing, carpetArea remains NaN.)\n",
    "df_train.update(df_missing)"
   ]
  },
  {
   "cell_type": "markdown",
   "metadata": {},
   "source": [
    "#### Encoding Features"
   ]
  },
  {
   "cell_type": "code",
   "execution_count": 20,
   "metadata": {},
   "outputs": [
    {
     "data": {
      "text/plain": [
       "['lr_model.pkl']"
      ]
     },
     "execution_count": 20,
     "metadata": {},
     "output_type": "execute_result"
    }
   ],
   "source": [
    "# -----------------------------\n",
    "# Step 2: Feature Encoding (excluding 'price' and 'localityName')\n",
    "# -----------------------------\n",
    "\n",
    "# Create a new dataframe for further processing (imputation, scaling, encoding)\n",
    "df_features = df_train.drop(columns=[\"price\", \"localityName\"]).copy()\n",
    "\n",
    "# --- Define the transformer for the ReservedParking column ---\n",
    "# ReservedParking is a boolean column. We want to convert it into a numeric\n",
    "# column such that: True -> 1, False -> -1, and leave any missing values as NaN.\n",
    "def map_reserved_vals(X: pd.Series):\n",
    "    # X is assumed to be a 2D numpy array.\n",
    "    mapped = []\n",
    "    for val in X.to_numpy().ravel():\n",
    "        if pd.isna(val):\n",
    "            mapped.append(np.nan)\n",
    "        else:\n",
    "            mapped.append(1 if val else -1)\n",
    "    return np.array(mapped).reshape(-1, 1)\n",
    "\n",
    "reserved_transformer = FunctionTransformer(map_reserved_vals, validate=False)\n",
    "\n",
    "# --- Define pipelines for each group of columns ---\n",
    "\n",
    "# (1) Numeric features: carpetArea, coveredArea, floorNumber, totalFloorNumber\n",
    "numeric_features = [\"carpetArea\", \"coveredArea\", \"floorNumber\", \"totalFloorNumber\", \"bedrooms\", \"bathrooms\"]\n",
    "numeric_pipeline = Pipeline(steps=[\n",
    "    (\"scaler\", StandardScaler())\n",
    "])\n",
    "\n",
    "# (2) ReservedParking pipeline:\n",
    "# First convert using our custom mapper, then standardize.\n",
    "reserved_pipeline = Pipeline(steps=[\n",
    "    (\"mapper\", reserved_transformer),\n",
    "    (\"scaler\", StandardScaler())\n",
    "])\n",
    "\n",
    "# (3) transactionType pipeline: fill missing with \"missing\" then one-hot encode.\n",
    "transaction_categories = [['missing', 'Resale', 'New Property']]\n",
    "transaction_pipeline = Pipeline(steps=[\n",
    "    (\n",
    "        \"imputer\",\n",
    "        SimpleImputer(strategy=\"constant\", fill_value=\"missing\")\n",
    "    ),\n",
    "    (\n",
    "        \"ordinal\",\n",
    "        OrdinalEncoder(categories=transaction_categories)\n",
    "    )\n",
    "])\n",
    "\n",
    "# (4) furnished pipeline: fill missing with \"missing\" then one-hot encode.\n",
    "furnished_categories = [['missing', 'Unfurnished', 'Semi-Furnished', 'Furnished']]\n",
    "furnished_pipeline = Pipeline(steps=[\n",
    "    (\n",
    "        \"imputer\",\n",
    "        SimpleImputer(strategy=\"constant\", fill_value=\"missing\")\n",
    "    ),\n",
    "    (\n",
    "        \"ordinal\",\n",
    "        OrdinalEncoder(categories=furnished_categories)\n",
    "    )\n",
    "])\n",
    "\n",
    "# (5) ageofcons pipeline: fill missing with \"missing\" then ordinally encode.\n",
    "# Define a custom ordering for ageofcons.\n",
    "# Here we place \"missing\" at one extreme.\n",
    "age_categories = [\n",
    "    [\"missing\", \"Under Construction\", \"New Construction\",\n",
    "     \"Less than 5 years\", \"5 to 10 years\", \"10 to 15 years\",\n",
    "     \"15 to 20 years\", \"Above 20 years\"]\n",
    "]\n",
    "\n",
    "age_pipeline = Pipeline(steps=[\n",
    "    (\n",
    "        \"imputer\",\n",
    "        SimpleImputer(strategy=\"constant\", fill_value=\"missing\")\n",
    "    ),\n",
    "    (\n",
    "        \"ordinal\",\n",
    "        OrdinalEncoder(categories=age_categories)\n",
    "    )\n",
    "])\n",
    "\n",
    "# --- Combine all the pipelines using a ColumnTransformer ---\n",
    "preprocessor = ColumnTransformer(\n",
    "    transformers=[\n",
    "        (\"num\", numeric_pipeline, numeric_features),\n",
    "        (\"reserved\", reserved_pipeline, [\"ReservedParking\"]),\n",
    "        (\"trans\", transaction_pipeline, [\"transactionType\"]),\n",
    "        (\"furn\", furnished_pipeline, [\"furnished\"]),\n",
    "        (\"age\", age_pipeline, [\"ageofcons\"])\n",
    "    ],\n",
    "    remainder=\"passthrough\"  # (if there are any additional columns)\n",
    ")\n",
    "\n",
    "# Fit the preprocessor on the features dataframe.\n",
    "encoded_features = preprocessor.fit_transform(df_features)\n",
    "\n",
    "# -----------------------------\n",
    "# Save the pipelines for use on test data\n",
    "# -----------------------------\n",
    "joblib.dump(preprocessor, \"preprocessor_pipeline.pkl\")\n",
    "joblib.dump(scaler_reg, \"scaler_reg.pkl\")\n",
    "joblib.dump(lr_model, \"lr_model.pkl\")"
   ]
  },
  {
   "cell_type": "code",
   "execution_count": 21,
   "metadata": {},
   "outputs": [
    {
     "data": {
      "text/plain": [
       "array([[-0.76579908, -0.7502445 , -0.37288994, ...,  1.        ,\n",
       "         1.        ,  4.        ],\n",
       "       [-0.44565771, -0.41319613, -1.17614423, ...,  1.        ,\n",
       "         1.        ,  3.        ],\n",
       "       [ 0.38701765,  0.30787598,  2.43850008, ...,  1.        ,\n",
       "         2.        ,  3.        ],\n",
       "       ...,\n",
       "       [ 0.25619065,  0.24680798,  0.43036435, ...,  1.        ,\n",
       "         2.        ,  0.        ],\n",
       "       [ 0.11151138,  0.10588184,  0.22955078, ...,  2.        ,\n",
       "         1.        ,  1.        ],\n",
       "       [-0.42564888, -0.39323159,  0.22955078, ...,  1.        ,\n",
       "         2.        ,  3.        ]])"
      ]
     },
     "execution_count": 21,
     "metadata": {},
     "output_type": "execute_result"
    }
   ],
   "source": [
    "encoded_features"
   ]
  },
  {
   "cell_type": "code",
   "execution_count": 22,
   "metadata": {},
   "outputs": [],
   "source": [
    "import numpy as np\n",
    "import pandas as pd\n",
    "import joblib\n",
    "\n",
    "from sklearn.experimental import enable_iterative_imputer\n",
    "from sklearn.impute import KNNImputer, IterativeImputer\n",
    "from sklearn.ensemble import RandomForestRegressor\n",
    "from sklearn.linear_model import BayesianRidge\n",
    "from sklearn.model_selection import KFold\n",
    "from sklearn.metrics import mean_absolute_error\n",
    "from sklearn.neighbors import KNeighborsRegressor\n",
    "import time\n",
    "import warnings\n",
    "from xgboost import XGBRegressor\n",
    "\n",
    "# -----------------------------\n",
    "# Load saved pipelines and models from earlier steps\n",
    "# -----------------------------\n",
    "# These were saved in the previous section.\n",
    "\n",
    "preprocessor = joblib.load(\"preprocessor_pipeline.pkl\")\n",
    "scaler_reg = joblib.load(\"scaler_reg.pkl\")\n",
    "lr_model = joblib.load(\"lr_model.pkl\")\n",
    "\n",
    "numeric_features = [\"carpetArea\", \"coveredArea\", \"floorNumber\", \"totalFloorNumber\", \"bedrooms\", \"bathrooms\"]\n",
    "\n",
    "# Helper function to get encoded feature names from our custom preprocessor\n",
    "def get_feature_names(preprocessor, numeric_features):\n",
    "    feature_names = []\n",
    "    # 1. Numeric pipeline (carpetArea, coveredArea, floorNumber, totalFloorNumber)\n",
    "    for feature in numeric_features:\n",
    "        feature_names.append(\"num__\" + feature)\n",
    "        \n",
    "    # 2. ReservedParking: we only have one column.\n",
    "    feature_names.append(\"reserved__ReservedParking\")\n",
    "    \n",
    "    # 3. transactionType pipeline (OneHotEncoder)\n",
    "    feature_names.append('trans_transactionType')\n",
    "    \n",
    "    # 4. furnished pipeline (OneHotEncoder)\n",
    "    feature_names.append('furn_furnished')\n",
    "    \n",
    "    # 5. ageofcons pipeline (ordinal encoded; only one output column)\n",
    "    feature_names.append(\"age__ageofcons\")\n",
    "    \n",
    "    return feature_names\n",
    "\n",
    "# Make sure that 'numeric_features' is defined in your code above.\n",
    "encoded_columns = get_feature_names(preprocessor, numeric_features)\n",
    "\n",
    "\n",
    "\n",
    "# Assume you still have your train_df and df_features (which is\n",
    "# train_df without the 'price' and 'localityName' columns)\n",
    "# Also, note that df_features was used to create the encoded features.\n",
    "# Let’s re-create the encoded feature matrix (with missing values intact)\n",
    "encoded_features = preprocessor.transform(df_features)\n",
    "# encoded_columns = get_feature_names(preprocessor, numeric_features)\n",
    "df_encoded_all_temp = pd.DataFrame(\n",
    "    encoded_features, columns=encoded_columns, index=df_features.index\n",
    ")\n",
    "\n",
    "df_encoded_all = df_encoded_all_temp.copy()\n",
    "df_encoded_all['furn_furnished'] = df_encoded_all['furn_furnished'].replace({0.0: np.nan})\n",
    "df_encoded_all['trans_transactionType'] = df_encoded_all['trans_transactionType'].replace({0.0: np.nan})\n",
    "df_encoded_all['age__ageofcons'] = df_encoded_all['age__ageofcons'].replace({0.0: np.nan})\n"
   ]
  },
  {
   "cell_type": "code",
   "execution_count": 23,
   "metadata": {},
   "outputs": [
    {
     "name": "stdout",
     "output_type": "stream",
     "text": [
      "<class 'pandas.core.frame.DataFrame'>\n",
      "Index: 19252 entries, 61872777 to 75703109\n",
      "Data columns (total 10 columns):\n",
      " #   Column                     Non-Null Count  Dtype  \n",
      "---  ------                     --------------  -----  \n",
      " 0   num__carpetArea            19252 non-null  float64\n",
      " 1   num__coveredArea           18761 non-null  float64\n",
      " 2   num__floorNumber           19105 non-null  float64\n",
      " 3   num__totalFloorNumber      19207 non-null  float64\n",
      " 4   num__bedrooms              19252 non-null  float64\n",
      " 5   num__bathrooms             19252 non-null  float64\n",
      " 6   reserved__ReservedParking  15526 non-null  float64\n",
      " 7   trans_transactionType      19249 non-null  float64\n",
      " 8   furn_furnished             19214 non-null  float64\n",
      " 9   age__ageofcons             16566 non-null  float64\n",
      "dtypes: float64(10)\n",
      "memory usage: 2.1 MB\n"
     ]
    }
   ],
   "source": [
    "df_encoded_all.info()"
   ]
  },
  {
   "cell_type": "code",
   "execution_count": 24,
   "metadata": {},
   "outputs": [
    {
     "data": {
      "text/plain": [
       "age__ageofcons\n",
       "3.0    5154\n",
       "1.0    3847\n",
       "4.0    3525\n",
       "2.0    2567\n",
       "5.0    1072\n",
       "6.0     246\n",
       "7.0     155\n",
       "Name: count, dtype: int64"
      ]
     },
     "execution_count": 24,
     "metadata": {},
     "output_type": "execute_result"
    }
   ],
   "source": [
    "df_encoded_all['age__ageofcons'].value_counts()"
   ]
  },
  {
   "cell_type": "markdown",
   "metadata": {},
   "source": [
    "#### Comparing different Imputers"
   ]
  },
  {
   "cell_type": "code",
   "execution_count": 28,
   "metadata": {},
   "outputs": [
    {
     "name": "stdout",
     "output_type": "stream",
     "text": [
      "Shape of complete dataset for CV: (14073, 10)\n",
      "Average MAE for Iterative_KNN_25: 0.3662 with time taken: 82.23039698600769\n",
      "Average MAE for Iterative_KNN_30: 0.3669 with time taken: 103.77113056182861\n",
      "Average MAE for Iterative_KNN_20: 0.3651 with time taken: 81.26697993278503\n"
     ]
    }
   ],
   "source": [
    "\n",
    "# -----------------------------\n",
    "# Step 1. Create a complete dataset by dropping rows with any missing\n",
    "# -----------------------------\n",
    "df_complete = df_encoded_all.dropna().copy()\n",
    "print(\"Shape of complete dataset for CV:\", df_complete.shape)\n",
    "\n",
    "# -----------------------------\n",
    "# Step 2. Inject strategic missingness (15% per column)\n",
    "# -----------------------------\n",
    "df_strategic = df_complete.copy()\n",
    "np.random.seed(42)\n",
    "mask_dict = {}  # To store indices set to missing (if needed later)\n",
    "for col in df_strategic.columns:\n",
    "    n_rows = len(df_strategic)\n",
    "    n_missing = int(round(0.15 * n_rows))\n",
    "    missing_indices = np.random.choice(df_strategic.index, n_missing, replace=False)\n",
    "    df_strategic.loc[missing_indices, col] = np.nan\n",
    "    mask_dict[col] = missing_indices\n",
    "\n",
    "# -----------------------------\n",
    "# Step 3. Define imputer configurations\n",
    "# -----------------------------\n",
    "imputer_configs = {\n",
    "    # \"KNN_25\": KNNImputer(n_neighbors=25, weights=\"uniform\"),\n",
    "    # \"KNN_50\": KNNImputer(n_neighbors=50, weights=\"uniform\"),\n",
    "    # \"KNN_75\": KNNImputer(n_neighbors=75, weights=\"uniform\"),\n",
    "    # \"KNN_distance_25\": KNNImputer(n_neighbors=25, weights=\"distance\"),\n",
    "    # \"KNN_distance_50\": KNNImputer(n_neighbors=50, weights=\"distance\"),\n",
    "    # \"KNN_distance_75\": KNNImputer(n_neighbors=75, weights=\"distance\"),\n",
    "    # \"Iterative_RF_20\": IterativeImputer(\n",
    "    #     estimator=RandomForestRegressor(n_estimators=20, random_state=42),\n",
    "    #     random_state=42,\n",
    "    #     max_iter=20\n",
    "    # ),\n",
    "    # \"Iterative_RF_50\": IterativeImputer(\n",
    "    #     estimator=RandomForestRegressor(n_estimators=50, random_state=42),\n",
    "    #     random_state=42,\n",
    "    #     max_iter=10\n",
    "    # ),\n",
    "    # \"Iterative_RF_75\": IterativeImputer(\n",
    "    #     estimator=RandomForestRegressor(n_estimators=75, random_state=42),\n",
    "    #     random_state=42,\n",
    "    #     max_iter=10\n",
    "    # ),\n",
    "    \"Iterative_KNN_25\": IterativeImputer(\n",
    "        estimator=KNeighborsRegressor(n_neighbors=25),\n",
    "        random_state=42,\n",
    "        max_iter=20\n",
    "    ),\n",
    "    \"Iterative_KNN_30\": IterativeImputer(\n",
    "        estimator=KNeighborsRegressor(n_neighbors=30),\n",
    "        random_state=42,\n",
    "        max_iter=20\n",
    "    ),\n",
    "    \"Iterative_KNN_20\": IterativeImputer(\n",
    "        estimator=KNeighborsRegressor(n_neighbors=20),\n",
    "        random_state=42,\n",
    "        max_iter=20\n",
    "    ),\n",
    "    # \"Iterative_XGB_100\": IterativeImputer(\n",
    "    #     estimator=XGBRegressor(n_estimators=100),\n",
    "    #     random_state=42,\n",
    "    #     max_iter=20\n",
    "    # ),\n",
    "    # \"Iterative_BR\": IterativeImputer(estimator=BayesianRidge(), random_state=42, max_iter=20)\n",
    "}\n",
    "\n",
    "# -----------------------------\n",
    "# Step 4. Cross-validation to evaluate imputers on strategic-missing dataset\n",
    "# -----------------------------\n",
    "kf = KFold(n_splits=5, shuffle=True, random_state=42)\n",
    "# Convert both complete and strategic dataframes to numpy arrays.\n",
    "X_true = df_complete.astype(float).values.copy()      # Ground truth values\n",
    "X_strategic = df_strategic.astype(float).values.copy()  # With injected NaNs\n",
    "\n",
    "imputer_scores = {key: [] for key in imputer_configs}\n",
    "\n",
    "for imputer_name, imputer in imputer_configs.items():\n",
    "    start = time.time()\n",
    "    fold_mae_scores = []\n",
    "    for train_idx, test_idx in kf.split(X_strategic):\n",
    "        X_train = X_strategic[train_idx]\n",
    "        X_test = X_strategic[test_idx]\n",
    "        with warnings.catch_warnings():\n",
    "            warnings.simplefilter(\"ignore\")\n",
    "            # Fit imputer on training data\n",
    "            imputer.fit(X_train)\n",
    "            # Impute test data\n",
    "            X_test_imputed = imputer.transform(X_test)\n",
    "            # Create a boolean mask: True where test data was intentionally missing\n",
    "            test_mask = np.isnan(X_test)\n",
    "            # Only compute error over these positions\n",
    "            if np.sum(test_mask) > 0:\n",
    "                mae = mean_absolute_error(\n",
    "                    X_true[test_idx][test_mask], X_test_imputed[test_mask]\n",
    "                )\n",
    "                fold_mae_scores.append(mae)\n",
    "    avg_mae = np.mean(fold_mae_scores)\n",
    "    imputer_scores[imputer_name] = {}\n",
    "    imputer_scores[imputer_name][\"MAE\"] = pd.Series(fold_mae_scores)\n",
    "    print(f\"Average MAE for {imputer_name}: {avg_mae:.4f} with time taken: {time.time() - start}\")"
   ]
  },
  {
   "cell_type": "code",
   "execution_count": 14,
   "metadata": {},
   "outputs": [
    {
     "data": {
      "text/html": [
       "<div>\n",
       "<style scoped>\n",
       "    .dataframe tbody tr th:only-of-type {\n",
       "        vertical-align: middle;\n",
       "    }\n",
       "\n",
       "    .dataframe tbody tr th {\n",
       "        vertical-align: top;\n",
       "    }\n",
       "\n",
       "    .dataframe thead th {\n",
       "        text-align: right;\n",
       "    }\n",
       "</style>\n",
       "<table border=\"1\" class=\"dataframe\">\n",
       "  <thead>\n",
       "    <tr style=\"text-align: right;\">\n",
       "      <th></th>\n",
       "      <th>KNN_25</th>\n",
       "      <th>KNN_50</th>\n",
       "      <th>KNN_75</th>\n",
       "      <th>KNN_distance_25</th>\n",
       "      <th>KNN_distance_50</th>\n",
       "      <th>KNN_distance_75</th>\n",
       "      <th>Iterative_KNN_50</th>\n",
       "      <th>Iterative_XGB_500</th>\n",
       "      <th>Iterative_BR</th>\n",
       "    </tr>\n",
       "  </thead>\n",
       "  <tbody>\n",
       "    <tr>\n",
       "      <th>count</th>\n",
       "      <td>5.000000</td>\n",
       "      <td>5.000000</td>\n",
       "      <td>5.000000</td>\n",
       "      <td>5.000000</td>\n",
       "      <td>5.000000</td>\n",
       "      <td>5.000000</td>\n",
       "      <td>5.000000</td>\n",
       "      <td>5.000000</td>\n",
       "      <td>5.000000</td>\n",
       "    </tr>\n",
       "    <tr>\n",
       "      <th>mean</th>\n",
       "      <td>0.423130</td>\n",
       "      <td>0.415957</td>\n",
       "      <td>0.414610</td>\n",
       "      <td>0.511197</td>\n",
       "      <td>0.510341</td>\n",
       "      <td>0.510181</td>\n",
       "      <td>0.369131</td>\n",
       "      <td>0.400720</td>\n",
       "      <td>0.390632</td>\n",
       "    </tr>\n",
       "    <tr>\n",
       "      <th>std</th>\n",
       "      <td>0.017884</td>\n",
       "      <td>0.019438</td>\n",
       "      <td>0.020551</td>\n",
       "      <td>0.016712</td>\n",
       "      <td>0.017054</td>\n",
       "      <td>0.017256</td>\n",
       "      <td>0.026727</td>\n",
       "      <td>0.034882</td>\n",
       "      <td>0.038594</td>\n",
       "    </tr>\n",
       "    <tr>\n",
       "      <th>min</th>\n",
       "      <td>0.391641</td>\n",
       "      <td>0.381432</td>\n",
       "      <td>0.378088</td>\n",
       "      <td>0.482168</td>\n",
       "      <td>0.480697</td>\n",
       "      <td>0.480133</td>\n",
       "      <td>0.322017</td>\n",
       "      <td>0.338425</td>\n",
       "      <td>0.322122</td>\n",
       "    </tr>\n",
       "    <tr>\n",
       "      <th>25%</th>\n",
       "      <td>0.428765</td>\n",
       "      <td>0.422122</td>\n",
       "      <td>0.420752</td>\n",
       "      <td>0.511656</td>\n",
       "      <td>0.511027</td>\n",
       "      <td>0.511122</td>\n",
       "      <td>0.376376</td>\n",
       "      <td>0.413590</td>\n",
       "      <td>0.400575</td>\n",
       "    </tr>\n",
       "    <tr>\n",
       "      <th>50%</th>\n",
       "      <td>0.429045</td>\n",
       "      <td>0.423314</td>\n",
       "      <td>0.422856</td>\n",
       "      <td>0.519504</td>\n",
       "      <td>0.518696</td>\n",
       "      <td>0.518595</td>\n",
       "      <td>0.377598</td>\n",
       "      <td>0.415140</td>\n",
       "      <td>0.407008</td>\n",
       "    </tr>\n",
       "    <tr>\n",
       "      <th>75%</th>\n",
       "      <td>0.429764</td>\n",
       "      <td>0.424635</td>\n",
       "      <td>0.424119</td>\n",
       "      <td>0.521231</td>\n",
       "      <td>0.519619</td>\n",
       "      <td>0.519441</td>\n",
       "      <td>0.381636</td>\n",
       "      <td>0.418023</td>\n",
       "      <td>0.409830</td>\n",
       "    </tr>\n",
       "    <tr>\n",
       "      <th>max</th>\n",
       "      <td>0.436437</td>\n",
       "      <td>0.428281</td>\n",
       "      <td>0.427235</td>\n",
       "      <td>0.521425</td>\n",
       "      <td>0.521665</td>\n",
       "      <td>0.521613</td>\n",
       "      <td>0.388026</td>\n",
       "      <td>0.418422</td>\n",
       "      <td>0.413626</td>\n",
       "    </tr>\n",
       "  </tbody>\n",
       "</table>\n",
       "</div>"
      ],
      "text/plain": [
       "         KNN_25    KNN_50    KNN_75  KNN_distance_25  KNN_distance_50  \\\n",
       "count  5.000000  5.000000  5.000000         5.000000         5.000000   \n",
       "mean   0.423130  0.415957  0.414610         0.511197         0.510341   \n",
       "std    0.017884  0.019438  0.020551         0.016712         0.017054   \n",
       "min    0.391641  0.381432  0.378088         0.482168         0.480697   \n",
       "25%    0.428765  0.422122  0.420752         0.511656         0.511027   \n",
       "50%    0.429045  0.423314  0.422856         0.519504         0.518696   \n",
       "75%    0.429764  0.424635  0.424119         0.521231         0.519619   \n",
       "max    0.436437  0.428281  0.427235         0.521425         0.521665   \n",
       "\n",
       "       KNN_distance_75  Iterative_KNN_50  Iterative_XGB_500  Iterative_BR  \n",
       "count         5.000000          5.000000           5.000000      5.000000  \n",
       "mean          0.510181          0.369131           0.400720      0.390632  \n",
       "std           0.017256          0.026727           0.034882      0.038594  \n",
       "min           0.480133          0.322017           0.338425      0.322122  \n",
       "25%           0.511122          0.376376           0.413590      0.400575  \n",
       "50%           0.518595          0.377598           0.415140      0.407008  \n",
       "75%           0.519441          0.381636           0.418023      0.409830  \n",
       "max           0.521613          0.388026           0.418422      0.413626  "
      ]
     },
     "execution_count": 14,
     "metadata": {},
     "output_type": "execute_result"
    }
   ],
   "source": [
    "# -----------------------------\n",
    "# Step 5. Identify best imputer and apply it to the full (original) encoded dataset\n",
    "# -----------------------------\n",
    "di = {key: value['MAE'] for key, value in imputer_scores.items()}\n",
    "pd.DataFrame(di).describe()"
   ]
  },
  {
   "cell_type": "code",
   "execution_count": 29,
   "metadata": {},
   "outputs": [],
   "source": [
    "best_imputer_name = 'Iterative_KNN_20'\n",
    "best_imputer = imputer_configs[best_imputer_name]"
   ]
  },
  {
   "cell_type": "code",
   "execution_count": 30,
   "metadata": {},
   "outputs": [
    {
     "data": {
      "text/plain": [
       "['Iterative_KNN_20.pkl']"
      ]
     },
     "execution_count": 30,
     "metadata": {},
     "output_type": "execute_result"
    }
   ],
   "source": [
    "joblib.dump(best_imputer, \"Iterative_KNN_20.pkl\")"
   ]
  },
  {
   "cell_type": "markdown",
   "metadata": {},
   "source": [
    "#### Imputing all values using best estimator"
   ]
  },
  {
   "cell_type": "code",
   "execution_count": 31,
   "metadata": {},
   "outputs": [
    {
     "name": "stderr",
     "output_type": "stream",
     "text": [
      "c:\\Aditya Joshi\\PuneHousePricePrediction\\.venv\\Lib\\site-packages\\sklearn\\impute\\_iterative.py:895: ConvergenceWarning: [IterativeImputer] Early stopping criterion not reached.\n",
      "  warnings.warn(\n"
     ]
    }
   ],
   "source": [
    "best_imputer = joblib.load(\"Iterative_KNN_20.pkl\")\n",
    "\n",
    "final_imputed_array = best_imputer.fit_transform(df_encoded_all.values)\n",
    "df_imputed_final = pd.DataFrame(\n",
    "    final_imputed_array, columns=encoded_columns, index=df_encoded_all.index\n",
    ")\n"
   ]
  },
  {
   "cell_type": "code",
   "execution_count": 32,
   "metadata": {},
   "outputs": [
    {
     "name": "stdout",
     "output_type": "stream",
     "text": [
      "<class 'pandas.core.frame.DataFrame'>\n",
      "Index: 19252 entries, 61872777 to 75703109\n",
      "Data columns (total 10 columns):\n",
      " #   Column                     Non-Null Count  Dtype  \n",
      "---  ------                     --------------  -----  \n",
      " 0   num__carpetArea            19252 non-null  float64\n",
      " 1   num__coveredArea           19252 non-null  float64\n",
      " 2   num__floorNumber           19252 non-null  float64\n",
      " 3   num__totalFloorNumber      19252 non-null  float64\n",
      " 4   num__bedrooms              19252 non-null  float64\n",
      " 5   num__bathrooms             19252 non-null  float64\n",
      " 6   reserved__ReservedParking  19252 non-null  float64\n",
      " 7   trans_transactionType      19252 non-null  float64\n",
      " 8   furn_furnished             19252 non-null  float64\n",
      " 9   age__ageofcons             19252 non-null  float64\n",
      "dtypes: float64(10)\n",
      "memory usage: 2.1 MB\n"
     ]
    }
   ],
   "source": [
    "df_imputed_final.info()"
   ]
  },
  {
   "cell_type": "markdown",
   "metadata": {},
   "source": [
    "#### Inverse transform / Reverse Feature decoding"
   ]
  },
  {
   "cell_type": "code",
   "execution_count": 33,
   "metadata": {},
   "outputs": [
    {
     "name": "stdout",
     "output_type": "stream",
     "text": [
      "Final imputed and inverse-transformed dataset shape: (19252, 12)\n"
     ]
    }
   ],
   "source": [
    "\n",
    "# -----------------------------\n",
    "# Step 6. Inverse transformations to recover original feature representations\n",
    "# -----------------------------\n",
    "# 6a. Numeric features (carpetArea, coveredArea, floorNumber, totalFloorNumber)\n",
    "# These came from the \"num\" transformer.\n",
    "numeric_cols = [col for col in df_imputed_final.columns if col.startswith(\"num__\")]\n",
    "num_scaler = preprocessor.named_transformers_[\"num\"].named_steps[\"scaler\"]\n",
    "df_num = pd.DataFrame(\n",
    "    num_scaler.inverse_transform(df_imputed_final[numeric_cols]),\n",
    "    columns=[col.split(\"__\")[1] for col in numeric_cols],\n",
    "    index=df_imputed_final.index\n",
    ")\n",
    "\n",
    "# 6b. ReservedParking (boolean mapped to numeric -1,1)\n",
    "reserved_cols = [col for col in df_imputed_final.columns if col.startswith(\"reserved\")]\n",
    "# Define a helper function for inverse mapping.\n",
    "def invert_reserved(arr):\n",
    "    # First, reverse the StandardScaler used in the reserved pipeline.\n",
    "    reserved_scaler = (\n",
    "        preprocessor.named_transformers_[\"reserved\"].named_steps[\"scaler\"]\n",
    "    )\n",
    "    arr_inv = reserved_scaler.inverse_transform(arr)\n",
    "    # In our custom mapper we did: True -> 1, False -> -1.\n",
    "    # Here we use a simple threshold: >0 maps to True; else False.\n",
    "    inverted = []\n",
    "    for val in arr_inv.ravel():\n",
    "        if pd.isna(val):\n",
    "            inverted.append(np.nan)\n",
    "        else:\n",
    "            inverted.append(True if val > 0 else False)\n",
    "    return np.array(inverted).reshape(-1, 1)\n",
    "\n",
    "reserved_inv = invert_reserved(df_imputed_final[reserved_cols].values)\n",
    "df_reserved = pd.DataFrame(\n",
    "    reserved_inv, columns=[\"ReservedParking\"], index=df_imputed_final.index\n",
    ")\n",
    "\n",
    "# 6c. transactionType: ordinal encoded in the \"trans\" pipeline.\n",
    "trans_cols = [col for col in df_imputed_final.columns if col.startswith(\"trans\")]\n",
    "trans_encoder = (\n",
    "    preprocessor.named_transformers_[\"trans\"].named_steps[\"ordinal\"]\n",
    ")\n",
    "trans_inv = trans_encoder.inverse_transform(df_imputed_final[trans_cols].values)\n",
    "df_trans = pd.DataFrame(trans_inv, columns=[\"transactionType\"],\n",
    "                        index=df_imputed_final.index)\n",
    "\n",
    "# 6d. furnished: ordinal encoded in the \"furn\" pipeline.\n",
    "furn_cols = [col for col in df_imputed_final.columns if col.startswith(\"furn\")]\n",
    "furn_encoder = (\n",
    "    preprocessor.named_transformers_[\"furn\"].named_steps[\"ordinal\"]\n",
    ")\n",
    "furn_inv = furn_encoder.inverse_transform(df_imputed_final[furn_cols].values)\n",
    "df_furn = pd.DataFrame(furn_inv, columns=[\"furnished\"],\n",
    "                       index=df_imputed_final.index)\n",
    "\n",
    "# 6e. ageofcons: ordinally encoded in the \"age\" pipeline.\n",
    "age_cols = [col for col in df_imputed_final.columns if col.startswith(\"age\")]\n",
    "age_encoder = preprocessor.named_transformers_[\"age\"].named_steps[\"ordinal\"]\n",
    "age_inv = age_encoder.inverse_transform(df_imputed_final[age_cols].values)\n",
    "df_age = pd.DataFrame(age_inv, columns=[\"ageofcons\"],\n",
    "                      index=df_imputed_final.index)\n",
    "\n",
    "# -----------------------------\n",
    "# Step 7. Combine all inverse-transformed features and add back excluded ones\n",
    "# -----------------------------\n",
    "df_final_features = pd.concat(\n",
    "    [df_num, df_reserved, df_trans, df_furn, df_age], axis=1\n",
    ")\n",
    "\n",
    "# The originally excluded columns are 'price' and 'localityName' (which we know\n",
    "# have no missing values). We now combine them back.\n",
    "df_final = pd.concat(\n",
    "    [df_train[[\"price\", \"localityName\"]], df_final_features], axis=1,\n",
    ")\n",
    "\n",
    "print(\"Final imputed and inverse-transformed dataset shape:\",\n",
    "      df_final.shape)\n",
    "\n",
    "for cols in ['floorNumber', 'carpetArea' , 'coveredArea', 'totalFloorNumber', 'bedrooms', 'bathrooms']:\n",
    "    df_final[cols] = df_final[cols].round(0).astype(pd.Int64Dtype())\n",
    "\n",
    "# Optionally, save the final dataset and the best imputer for future usage.\n",
    "df_final.to_csv(\"../Data/train_imputed.csv\", index=True)"
   ]
  },
  {
   "cell_type": "code",
   "execution_count": null,
   "metadata": {},
   "outputs": [],
   "source": []
  },
  {
   "cell_type": "code",
   "execution_count": 48,
   "metadata": {},
   "outputs": [
    {
     "data": {
      "text/html": [
       "<div>\n",
       "<style scoped>\n",
       "    .dataframe tbody tr th:only-of-type {\n",
       "        vertical-align: middle;\n",
       "    }\n",
       "\n",
       "    .dataframe tbody tr th {\n",
       "        vertical-align: top;\n",
       "    }\n",
       "\n",
       "    .dataframe thead th {\n",
       "        text-align: right;\n",
       "    }\n",
       "</style>\n",
       "<table border=\"1\" class=\"dataframe\">\n",
       "  <thead>\n",
       "    <tr style=\"text-align: right;\">\n",
       "      <th></th>\n",
       "      <th>localityName</th>\n",
       "      <th>price</th>\n",
       "      <th>carpetArea</th>\n",
       "      <th>coveredArea</th>\n",
       "      <th>floorNumber</th>\n",
       "      <th>totalFloorNumber</th>\n",
       "      <th>transactionType</th>\n",
       "      <th>furnished</th>\n",
       "      <th>bedrooms</th>\n",
       "      <th>bathrooms</th>\n",
       "      <th>ageofcons</th>\n",
       "      <th>ReservedParking</th>\n",
       "    </tr>\n",
       "    <tr>\n",
       "      <th>propertyId</th>\n",
       "      <th></th>\n",
       "      <th></th>\n",
       "      <th></th>\n",
       "      <th></th>\n",
       "      <th></th>\n",
       "      <th></th>\n",
       "      <th></th>\n",
       "      <th></th>\n",
       "      <th></th>\n",
       "      <th></th>\n",
       "      <th></th>\n",
       "      <th></th>\n",
       "    </tr>\n",
       "  </thead>\n",
       "  <tbody>\n",
       "    <tr>\n",
       "      <th>57702405</th>\n",
       "      <td>Tathawade Pimpri Chinchwad</td>\n",
       "      <td>6510000</td>\n",
       "      <td>738</td>\n",
       "      <td>996</td>\n",
       "      <td>5</td>\n",
       "      <td>18</td>\n",
       "      <td>New Property</td>\n",
       "      <td>Unfurnished</td>\n",
       "      <td>2</td>\n",
       "      <td>2</td>\n",
       "      <td>Under Construction</td>\n",
       "      <td>True</td>\n",
       "    </tr>\n",
       "    <tr>\n",
       "      <th>75684425</th>\n",
       "      <td>Narhe</td>\n",
       "      <td>4000000</td>\n",
       "      <td>612</td>\n",
       "      <td>850</td>\n",
       "      <td>5</td>\n",
       "      <td>6</td>\n",
       "      <td>Resale</td>\n",
       "      <td>Unfurnished</td>\n",
       "      <td>2</td>\n",
       "      <td>2</td>\n",
       "      <td>Less than 5 years</td>\n",
       "      <td>True</td>\n",
       "    </tr>\n",
       "    <tr>\n",
       "      <th>67958461</th>\n",
       "      <td>Ravet, Pimpri Chinchwad</td>\n",
       "      <td>5000000</td>\n",
       "      <td>620</td>\n",
       "      <td>830</td>\n",
       "      <td>4</td>\n",
       "      <td>4</td>\n",
       "      <td>Resale</td>\n",
       "      <td>Semi-Furnished</td>\n",
       "      <td>2</td>\n",
       "      <td>2</td>\n",
       "      <td>NaN</td>\n",
       "      <td>&lt;NA&gt;</td>\n",
       "    </tr>\n",
       "    <tr>\n",
       "      <th>55097815</th>\n",
       "      <td>Hinjewadi</td>\n",
       "      <td>11000000</td>\n",
       "      <td>1450</td>\n",
       "      <td>&lt;NA&gt;</td>\n",
       "      <td>4</td>\n",
       "      <td>21</td>\n",
       "      <td>Resale</td>\n",
       "      <td>Semi-Furnished</td>\n",
       "      <td>3</td>\n",
       "      <td>3</td>\n",
       "      <td>10 to 15 years</td>\n",
       "      <td>True</td>\n",
       "    </tr>\n",
       "    <tr>\n",
       "      <th>73034239</th>\n",
       "      <td>Balewadi</td>\n",
       "      <td>17522000</td>\n",
       "      <td>1380</td>\n",
       "      <td>1876</td>\n",
       "      <td>24</td>\n",
       "      <td>34</td>\n",
       "      <td>New Property</td>\n",
       "      <td>Unfurnished</td>\n",
       "      <td>3</td>\n",
       "      <td>3</td>\n",
       "      <td>Under Construction</td>\n",
       "      <td>True</td>\n",
       "    </tr>\n",
       "  </tbody>\n",
       "</table>\n",
       "</div>"
      ],
      "text/plain": [
       "                          localityName     price  carpetArea  coveredArea  \\\n",
       "propertyId                                                                  \n",
       "57702405    Tathawade Pimpri Chinchwad   6510000         738          996   \n",
       "75684425                         Narhe   4000000         612          850   \n",
       "67958461       Ravet, Pimpri Chinchwad   5000000         620          830   \n",
       "55097815                     Hinjewadi  11000000        1450         <NA>   \n",
       "73034239                      Balewadi  17522000        1380         1876   \n",
       "\n",
       "            floorNumber  totalFloorNumber transactionType       furnished  \\\n",
       "propertyId                                                                  \n",
       "57702405              5                18    New Property     Unfurnished   \n",
       "75684425              5                 6          Resale     Unfurnished   \n",
       "67958461              4                 4          Resale  Semi-Furnished   \n",
       "55097815              4                21          Resale  Semi-Furnished   \n",
       "73034239             24                34    New Property     Unfurnished   \n",
       "\n",
       "            bedrooms  bathrooms           ageofcons  ReservedParking  \n",
       "propertyId                                                            \n",
       "57702405           2          2  Under Construction             True  \n",
       "75684425           2          2   Less than 5 years             True  \n",
       "67958461           2          2                 NaN             <NA>  \n",
       "55097815           3          3      10 to 15 years             True  \n",
       "73034239           3          3  Under Construction             True  "
      ]
     },
     "execution_count": 48,
     "metadata": {},
     "output_type": "execute_result"
    }
   ],
   "source": [
    "temp_df = df_train.sample(5) \n",
    "idx = temp_df.index\n",
    "temp_df"
   ]
  },
  {
   "cell_type": "code",
   "execution_count": 49,
   "metadata": {},
   "outputs": [
    {
     "data": {
      "text/html": [
       "<div>\n",
       "<style scoped>\n",
       "    .dataframe tbody tr th:only-of-type {\n",
       "        vertical-align: middle;\n",
       "    }\n",
       "\n",
       "    .dataframe tbody tr th {\n",
       "        vertical-align: top;\n",
       "    }\n",
       "\n",
       "    .dataframe thead th {\n",
       "        text-align: right;\n",
       "    }\n",
       "</style>\n",
       "<table border=\"1\" class=\"dataframe\">\n",
       "  <thead>\n",
       "    <tr style=\"text-align: right;\">\n",
       "      <th></th>\n",
       "      <th>price</th>\n",
       "      <th>localityName</th>\n",
       "      <th>carpetArea</th>\n",
       "      <th>coveredArea</th>\n",
       "      <th>floorNumber</th>\n",
       "      <th>totalFloorNumber</th>\n",
       "      <th>bedrooms</th>\n",
       "      <th>bathrooms</th>\n",
       "      <th>ReservedParking</th>\n",
       "      <th>transactionType</th>\n",
       "      <th>furnished</th>\n",
       "      <th>ageofcons</th>\n",
       "    </tr>\n",
       "    <tr>\n",
       "      <th>propertyId</th>\n",
       "      <th></th>\n",
       "      <th></th>\n",
       "      <th></th>\n",
       "      <th></th>\n",
       "      <th></th>\n",
       "      <th></th>\n",
       "      <th></th>\n",
       "      <th></th>\n",
       "      <th></th>\n",
       "      <th></th>\n",
       "      <th></th>\n",
       "      <th></th>\n",
       "    </tr>\n",
       "  </thead>\n",
       "  <tbody>\n",
       "    <tr>\n",
       "      <th>57702405</th>\n",
       "      <td>6510000</td>\n",
       "      <td>Tathawade Pimpri Chinchwad</td>\n",
       "      <td>738</td>\n",
       "      <td>996</td>\n",
       "      <td>5</td>\n",
       "      <td>18</td>\n",
       "      <td>2</td>\n",
       "      <td>2</td>\n",
       "      <td>True</td>\n",
       "      <td>New Property</td>\n",
       "      <td>Unfurnished</td>\n",
       "      <td>Under Construction</td>\n",
       "    </tr>\n",
       "    <tr>\n",
       "      <th>75684425</th>\n",
       "      <td>4000000</td>\n",
       "      <td>Narhe</td>\n",
       "      <td>612</td>\n",
       "      <td>850</td>\n",
       "      <td>5</td>\n",
       "      <td>6</td>\n",
       "      <td>2</td>\n",
       "      <td>2</td>\n",
       "      <td>True</td>\n",
       "      <td>Resale</td>\n",
       "      <td>Unfurnished</td>\n",
       "      <td>Less than 5 years</td>\n",
       "    </tr>\n",
       "    <tr>\n",
       "      <th>67958461</th>\n",
       "      <td>5000000</td>\n",
       "      <td>Ravet, Pimpri Chinchwad</td>\n",
       "      <td>620</td>\n",
       "      <td>830</td>\n",
       "      <td>4</td>\n",
       "      <td>4</td>\n",
       "      <td>2</td>\n",
       "      <td>2</td>\n",
       "      <td>True</td>\n",
       "      <td>Resale</td>\n",
       "      <td>Semi-Furnished</td>\n",
       "      <td>Less than 5 years</td>\n",
       "    </tr>\n",
       "    <tr>\n",
       "      <th>55097815</th>\n",
       "      <td>11000000</td>\n",
       "      <td>Hinjewadi</td>\n",
       "      <td>1450</td>\n",
       "      <td>1765</td>\n",
       "      <td>4</td>\n",
       "      <td>21</td>\n",
       "      <td>3</td>\n",
       "      <td>3</td>\n",
       "      <td>True</td>\n",
       "      <td>Resale</td>\n",
       "      <td>Semi-Furnished</td>\n",
       "      <td>10 to 15 years</td>\n",
       "    </tr>\n",
       "    <tr>\n",
       "      <th>73034239</th>\n",
       "      <td>17522000</td>\n",
       "      <td>Balewadi</td>\n",
       "      <td>1380</td>\n",
       "      <td>1876</td>\n",
       "      <td>24</td>\n",
       "      <td>34</td>\n",
       "      <td>3</td>\n",
       "      <td>3</td>\n",
       "      <td>True</td>\n",
       "      <td>New Property</td>\n",
       "      <td>Unfurnished</td>\n",
       "      <td>Under Construction</td>\n",
       "    </tr>\n",
       "  </tbody>\n",
       "</table>\n",
       "</div>"
      ],
      "text/plain": [
       "               price                localityName  carpetArea  coveredArea  \\\n",
       "propertyId                                                                  \n",
       "57702405     6510000  Tathawade Pimpri Chinchwad         738          996   \n",
       "75684425     4000000                       Narhe         612          850   \n",
       "67958461     5000000     Ravet, Pimpri Chinchwad         620          830   \n",
       "55097815    11000000                   Hinjewadi        1450         1765   \n",
       "73034239    17522000                    Balewadi        1380         1876   \n",
       "\n",
       "            floorNumber  totalFloorNumber  bedrooms  bathrooms  \\\n",
       "propertyId                                                       \n",
       "57702405              5                18         2          2   \n",
       "75684425              5                 6         2          2   \n",
       "67958461              4                 4         2          2   \n",
       "55097815              4                21         3          3   \n",
       "73034239             24                34         3          3   \n",
       "\n",
       "            ReservedParking transactionType       furnished  \\\n",
       "propertyId                                                    \n",
       "57702405               True    New Property     Unfurnished   \n",
       "75684425               True          Resale     Unfurnished   \n",
       "67958461               True          Resale  Semi-Furnished   \n",
       "55097815               True          Resale  Semi-Furnished   \n",
       "73034239               True    New Property     Unfurnished   \n",
       "\n",
       "                     ageofcons  \n",
       "propertyId                      \n",
       "57702405    Under Construction  \n",
       "75684425     Less than 5 years  \n",
       "67958461     Less than 5 years  \n",
       "55097815        10 to 15 years  \n",
       "73034239    Under Construction  "
      ]
     },
     "execution_count": 49,
     "metadata": {},
     "output_type": "execute_result"
    }
   ],
   "source": [
    "df_final.loc[idx]"
   ]
  },
  {
   "cell_type": "code",
   "execution_count": null,
   "metadata": {},
   "outputs": [],
   "source": []
  },
  {
   "cell_type": "code",
   "execution_count": null,
   "metadata": {},
   "outputs": [],
   "source": []
  },
  {
   "cell_type": "markdown",
   "metadata": {},
   "source": [
    "# Feature Engineering\n",
    "\n",
    "1. Merge similar localities"
   ]
  },
  {
   "cell_type": "code",
   "execution_count": null,
   "metadata": {},
   "outputs": [],
   "source": []
  },
  {
   "cell_type": "code",
   "execution_count": null,
   "metadata": {},
   "outputs": [],
   "source": []
  },
  {
   "cell_type": "code",
   "execution_count": null,
   "metadata": {},
   "outputs": [],
   "source": []
  },
  {
   "cell_type": "code",
   "execution_count": null,
   "metadata": {},
   "outputs": [],
   "source": []
  },
  {
   "cell_type": "code",
   "execution_count": null,
   "metadata": {},
   "outputs": [],
   "source": []
  },
  {
   "cell_type": "code",
   "execution_count": null,
   "metadata": {},
   "outputs": [],
   "source": []
  },
  {
   "cell_type": "code",
   "execution_count": null,
   "metadata": {},
   "outputs": [],
   "source": []
  },
  {
   "cell_type": "code",
   "execution_count": null,
   "metadata": {},
   "outputs": [],
   "source": []
  }
 ],
 "metadata": {
  "kernelspec": {
   "display_name": ".venv",
   "language": "python",
   "name": "python3"
  },
  "language_info": {
   "codemirror_mode": {
    "name": "ipython",
    "version": 3
   },
   "file_extension": ".py",
   "mimetype": "text/x-python",
   "name": "python",
   "nbconvert_exporter": "python",
   "pygments_lexer": "ipython3",
   "version": "3.12.3"
  }
 },
 "nbformat": 4,
 "nbformat_minor": 2
}
