{
 "cells": [
  {
   "cell_type": "markdown",
   "metadata": {},
   "source": [
    "# Imports"
   ]
  },
  {
   "cell_type": "code",
   "execution_count": 41,
   "metadata": {},
   "outputs": [],
   "source": [
    "from IPython.display import display, HTML\n",
    "\n",
    "def displayHorizontalDataframes(dfs, titles):\n",
    "    \"\"\"\n",
    "    Display a list of pandas dataframes horizontally with titles on top.\n",
    "    \n",
    "    Parameters:\n",
    "    dfs (list): List of pandas DataFrames.\n",
    "    titles (list): List of titles (strings) corresponding to each DataFrame.\n",
    "    \"\"\"\n",
    "    if len(dfs) != len(titles):\n",
    "        raise ValueError(\"The number of dataframes and titles must be the same.\")\n",
    "\n",
    "    # Start a flex container to align content horizontally and center them.\n",
    "    html = (\n",
    "        \"<div style='display: flex; justify-content: center; \"\n",
    "        \"align-items: flex-start;'>\"\n",
    "    )\n",
    "    \n",
    "    # Iterate over the dataframes and their corresponding titles.\n",
    "    for df, title in zip(dfs, titles):\n",
    "        title = \" \" if not title else title\n",
    "        html += (\n",
    "            \"<div style='margin-left: 20px; margin-right: 20px; text-align: center;'>\"\n",
    "            f\"<h3>{title}</h3>\"\n",
    "            f\"{df.to_html(classes='dataframe', border=1)}\"\n",
    "            \"</div>\"\n",
    "        )\n",
    "    \n",
    "    html += \"</div>\"\n",
    "    display(HTML(html))"
   ]
  },
  {
   "cell_type": "code",
   "execution_count": 42,
   "metadata": {},
   "outputs": [],
   "source": [
    "import pandas as pd\n",
    "# import plotly.express as px\n",
    "# import plotly.graph_objects as go\n",
    "from ydata_profiling import ProfileReport\n",
    "import numpy as np\n",
    "\n",
    "dtype_mapping = {\n",
    "    'propertyId': pd.StringDtype(),\n",
    "    'localityName': 'category',\n",
    "    'landMarks': pd.StringDtype(),\n",
    "    'locality': pd.StringDtype(),\n",
    "    'price': pd.Int64Dtype(),\n",
    "    'nameOfSociety': pd.StringDtype(),\n",
    "    'projectName': pd.StringDtype(),\n",
    "    'carpetArea': pd.Int64Dtype(),\n",
    "    'coveredArea': pd.Int64Dtype(),\n",
    "    'carpetAreaSqft': pd.Int64Dtype(),\n",
    "    'possessionStatus': pd.StringDtype(),\n",
    "    'developerName': pd.StringDtype(),\n",
    "    'flooringType': pd.StringDtype(),\n",
    "    'floorNumber': pd.Int64Dtype(),\n",
    "    'unitCountonFloor': pd.Int64Dtype(),\n",
    "    'totalFloorNumber': pd.Int64Dtype(),\n",
    "    'electricityStatus': pd.StringDtype(),\n",
    "    'waterStatus': pd.StringDtype(),\n",
    "    'longitude': pd.Float64Dtype(),\n",
    "    'latitude': pd.Float64Dtype(),\n",
    "    'transactionType': 'category',\n",
    "    'facing': pd.StringDtype(),\n",
    "    'ownershipType': pd.StringDtype(),\n",
    "    'carParking': pd.StringDtype(),\n",
    "    'furnished': 'category',\n",
    "    'bedrooms': pd.Int64Dtype(),\n",
    "    'bathrooms': pd.Int64Dtype(),\n",
    "    'numberOfBalconied': pd.Int64Dtype(),\n",
    "    'propertyType': 'category',\n",
    "    'additionalRooms': pd.StringDtype(),\n",
    "    'bookingAmountExact': pd.Int64Dtype(),\n",
    "    'maintenanceChargesFrequency': 'category',\n",
    "    'maintenanceCharges': pd.Int64Dtype(),\n",
    "    'ageofcons': 'category',\n",
    "    'isVerified': 'category',\n",
    "    'listingTypeDesc': 'category',\n",
    "    'premiumProperty': pd.BooleanDtype(),\n",
    "    'noOfLifts': pd.Int64Dtype(),\n",
    "    'propertyAmenities': pd.StringDtype(),\n",
    "    'facilitiesDesc': pd.StringDtype(),\n",
    "    'uuid': pd.StringDtype(),\n",
    "    'flooringType_Vitrified': pd.BooleanDtype(),\n",
    "    'flooringType_CeramicTiles': pd.BooleanDtype(),\n",
    "    'flooringType_Marble': pd.BooleanDtype(),\n",
    "    'flooringType_NormalTilesKotahStone': pd.BooleanDtype(),\n",
    "    'flooringType_Granite': pd.BooleanDtype(),\n",
    "    'flooringType_Wooden': pd.BooleanDtype(),\n",
    "    'flooringType_Mosaic': pd.BooleanDtype(),\n",
    "    'flooringType_Marbonite': pd.BooleanDtype(),\n",
    "    'additionalRoom_PujaRoom': pd.BooleanDtype(),\n",
    "    'additionalRoom_Study': pd.BooleanDtype(),\n",
    "    'additionalRoom_Store': pd.BooleanDtype(),\n",
    "    'additionalRoom_ServantRoom': pd.BooleanDtype(),\n",
    "    'carParking_Open': pd.Int64Dtype(),\n",
    "    'carParking_Covered': pd.Int64Dtype(),\n",
    "    'ReservedParking': pd.BooleanDtype(),\n",
    "}\n",
    "\n",
    "COLUMNS_TO_DROP = [\n",
    "    'coveredArea'\n",
    "]\n",
    "\n",
    "df = pd.read_csv(\n",
    "    '../Data/train_imputed.csv',\n",
    "    dtype = dtype_mapping,\n",
    "    index_col=0\n",
    ")\n",
    "\n",
    "df.fillna(pd.NA, inplace=True)\n",
    "\n",
    "df.drop(COLUMNS_TO_DROP, axis=1, inplace=True)"
   ]
  },
  {
   "cell_type": "code",
   "execution_count": 43,
   "metadata": {},
   "outputs": [
    {
     "name": "stdout",
     "output_type": "stream",
     "text": [
      "<class 'pandas.core.frame.DataFrame'>\n",
      "Index: 19252 entries, 61872777 to 75703109\n",
      "Data columns (total 11 columns):\n",
      " #   Column            Non-Null Count  Dtype   \n",
      "---  ------            --------------  -----   \n",
      " 0   price             19252 non-null  Int64   \n",
      " 1   localityName      19252 non-null  category\n",
      " 2   carpetArea        19252 non-null  Int64   \n",
      " 3   floorNumber       19252 non-null  Int64   \n",
      " 4   totalFloorNumber  19252 non-null  Int64   \n",
      " 5   bedrooms          19252 non-null  Int64   \n",
      " 6   bathrooms         19252 non-null  Int64   \n",
      " 7   ReservedParking   19252 non-null  boolean \n",
      " 8   transactionType   19252 non-null  category\n",
      " 9   furnished         19252 non-null  category\n",
      " 10  ageofcons         19252 non-null  category\n",
      "dtypes: Int64(6), boolean(1), category(4)\n",
      "memory usage: 1.8 MB\n"
     ]
    }
   ],
   "source": [
    "df.info()"
   ]
  },
  {
   "cell_type": "markdown",
   "metadata": {},
   "source": [
    "# Univariate and Bivariate analysis using YData Profiling"
   ]
  },
  {
   "cell_type": "code",
   "execution_count": 4,
   "metadata": {},
   "outputs": [
    {
     "name": "stderr",
     "output_type": "stream",
     "text": [
      "Summarize dataset: 100%|██████████| 56/56 [00:03<00:00, 15.38it/s, Completed]                                 \n",
      "Generate report structure: 100%|██████████| 1/1 [00:01<00:00,  1.62s/it]\n",
      "Render HTML: 100%|██████████| 1/1 [00:01<00:00,  1.29s/it]\n",
      "Export report to file: 100%|██████████| 1/1 [00:00<00:00, 76.69it/s]\n"
     ]
    }
   ],
   "source": [
    "report = ProfileReport(\n",
    "    df=df,\n",
    "    title='Feature Selection Data',\n",
    ")\n",
    "report.to_file('Reports/FeatureSelectionOnTrainingDataV1.html')"
   ]
  },
  {
   "cell_type": "markdown",
   "metadata": {},
   "source": [
    "## Observations V1\n",
    "1. Posession status is exteremely imbalanced. Less than 0.07 % of the non null values are 'Under Construction'. Rest are 'Ready To Move'. Can be dropped.\n",
    "2. carpetAreaSqft is not a useful feature because it leaks data on the target variable. Can be dropped.\n",
    "3. "
   ]
  },
  {
   "cell_type": "code",
   "execution_count": 5,
   "metadata": {},
   "outputs": [
    {
     "data": {
      "text/plain": [
       "['Unfurnished', 'Semi-Furnished', 'Furnished']\n",
       "Categories (3, object): ['Furnished', 'Semi-Furnished', 'Unfurnished']"
      ]
     },
     "execution_count": 5,
     "metadata": {},
     "output_type": "execute_result"
    }
   ],
   "source": [
    "df['furnished'].unique()"
   ]
  },
  {
   "cell_type": "markdown",
   "metadata": {},
   "source": [
    "# Feature Encoding"
   ]
  },
  {
   "cell_type": "markdown",
   "metadata": {},
   "source": [
    "Dropping columns prematurely because of following reasons:\n",
    "1. Unavailablility of these columns during prediction (Since prediction will be done by asking for input from user)\n",
    "2. Very high number of missing values (cannot impute the values confidently)"
   ]
  },
  {
   "cell_type": "code",
   "execution_count": 44,
   "metadata": {},
   "outputs": [
    {
     "name": "stdout",
     "output_type": "stream",
     "text": [
      "Linear model feature shape: (19252, 164)\n",
      "Tree model feature shape: (19252, 10)\n"
     ]
    }
   ],
   "source": [
    "import pandas as pd\n",
    "from sklearn.pipeline import Pipeline\n",
    "from sklearn.compose import ColumnTransformer\n",
    "from sklearn.preprocessing import StandardScaler, OneHotEncoder, OrdinalEncoder\n",
    "\n",
    "# Suppose your fully imputed training data is in a DataFrame called `df`\n",
    "# and you have already separated out the target column \"price\".\n",
    "X_train = df.drop(\"price\", axis=1)\n",
    "y_train = df[\"price\"]\n",
    "\n",
    "# List of numeric features\n",
    "numeric_cols = [\n",
    "    \"carpetArea\",\n",
    "    \"floorNumber\",\n",
    "    \"totalFloorNumber\",\n",
    "    \"bedrooms\",\n",
    "    \"bathrooms\",\n",
    "]\n",
    "\n",
    "# For the three features that will be encoded differently:\n",
    "cat_diff_cols = [\"localityName\", \"transactionType\"]\n",
    "\n",
    "# The remaining categorical columns that are on an inherently ordinal scale.\n",
    "# We also include \"localityName\" here since it is not being handled by the\n",
    "# special one-hot vs. ordinal difference (it has many unique levels so ordinal\n",
    "# encoding may be preferred).\n",
    "ordinal_cols = [\"furnished\", \"ReservedParking\", \"ageofcons\"]\n",
    "\n",
    "# =============================================================================\n",
    "# Pipeline for linear models\n",
    "#   - Numerical features: standard scaled.\n",
    "#   - For transactionType, furnished, ReservedParking: one-hot encoded.\n",
    "#   - For ordinal_cols (localityName, ageofcons): ordinal-encoded\n",
    "#     and then scaled (so that all features are on a similar scale).\n",
    "# =============================================================================\n",
    "\n",
    "# Define transformers\n",
    "numeric_transformer = StandardScaler()\n",
    "\n",
    "onehot_transformer = OneHotEncoder(sparse_output=False, handle_unknown=\"ignore\")\n",
    "\n",
    "# Here we create a pipeline that first ordinal-encodes then scales the result.\n",
    "furnished_order = ['Unfurnished', 'Semi-Furnished', 'Furnished']\n",
    "ordinal_transformer_furnished = Pipeline(\n",
    "    steps=[\n",
    "        (\"ordinal\", OrdinalEncoder(categories=[furnished_order])),\n",
    "        (\"scaler\", StandardScaler()),\n",
    "    ]\n",
    ")\n",
    "\n",
    "# Here we create a pipeline that first ordinal-encodes then scales the result.\n",
    "ordinal_transformer_rs = Pipeline(\n",
    "    steps=[\n",
    "        (\"ordinal\", OrdinalEncoder()),\n",
    "        (\"scaler\", StandardScaler()),\n",
    "    ]\n",
    ")\n",
    "\n",
    "# Here we create a pipeline that first ordinal-encodes then scales the result.\n",
    "age_order = [\n",
    "    'Under Construction',  # first: youngest / newest state\n",
    "    'New Construction',\n",
    "    'Less than 5 years',\n",
    "    '5 to 10 years',\n",
    "    '10 to 15 years',\n",
    "    '15 to 20 years',\n",
    "    'Above 20 years'       # last: oldest\n",
    "]\n",
    "ordinal_transformer_ageofcons = Pipeline(\n",
    "    steps=[\n",
    "        (\"ordinal\", OrdinalEncoder(categories=[age_order])),\n",
    "        (\"scaler\", StandardScaler()),\n",
    "    ]\n",
    ")\n",
    "\n",
    "# Create the ColumnTransformer for the linear pipeline.\n",
    "lin_preprocessor = ColumnTransformer(\n",
    "    transformers=[\n",
    "        (\"num\", numeric_transformer, numeric_cols),\n",
    "        (\"onehot\", onehot_transformer, cat_diff_cols),\n",
    "        (\"ord-furnished\", ordinal_transformer_furnished, [\"furnished\"]),\n",
    "        (\"ord-reservedparking\", ordinal_transformer_rs, [\"ReservedParking\"]),\n",
    "        (\"ord-ageofcons\", ordinal_transformer_ageofcons, [\"ageofcons\"]),\n",
    "    ]\n",
    ")\n",
    "\n",
    "# The overall pipeline (here you could add a linear model as the final estimator)\n",
    "lin_pipeline = Pipeline(steps=[(\"preprocessor\", lin_preprocessor)])\n",
    "# Now transform the training features for the linear model:\n",
    "X_linear = lin_pipeline.fit_transform(X_train)\n",
    "\n",
    "# =============================================================================\n",
    "# Pipeline for tree-based models\n",
    "#   - Numerical features: standard scaled.\n",
    "#   - For all categorical features (transactionType, furnished, ReservedParking,\n",
    "#     localityName, ageofcons): ordinal-encoded and then scaled.\n",
    "# =============================================================================\n",
    "\n",
    "# Create a pipeline for encoding the categorical features as ordinal then scaling.\n",
    "tree_cat_transformer = Pipeline(\n",
    "    steps=[\n",
    "        (\"ordinal\", OrdinalEncoder()),\n",
    "        (\"scaler\", StandardScaler()),\n",
    "    ]\n",
    ")\n",
    "\n",
    "tree_preprocessor = ColumnTransformer(\n",
    "    transformers=[\n",
    "        (\"num\", StandardScaler(), numeric_cols),\n",
    "        (\"ord\", tree_cat_transformer, cat_diff_cols),\n",
    "        (\"ord-furnished\", ordinal_transformer_furnished, [\"furnished\"]),\n",
    "        (\"ord-reservedparking\", ordinal_transformer_rs, [\"ReservedParking\"]),\n",
    "        (\"ord-ageofcons\", ordinal_transformer_ageofcons, [\"ageofcons\"]),\n",
    "    ]\n",
    ")\n",
    "\n",
    "tree_pipeline = Pipeline(steps=[(\"preprocessor\", tree_preprocessor)])\n",
    "# Now transform the training features for the tree models:\n",
    "X_tree = tree_pipeline.fit_transform(X_train)\n",
    "\n",
    "# =============================================================================\n",
    "# After these steps:\n",
    "#   - X_linear is your preprocessed feature array for linear models.\n",
    "#   - X_tree is your preprocessed feature array for tree-based models.\n",
    "#\n",
    "# You can now proceed to train your respective models with X_linear or X_tree.\n",
    "# =============================================================================\n",
    "\n",
    "\n",
    "print(\"Linear model feature shape:\", X_linear.shape)\n",
    "print(\"Tree model feature shape:\", X_tree.shape)\n"
   ]
  },
  {
   "cell_type": "markdown",
   "metadata": {},
   "source": [
    "# Feature Importance"
   ]
  },
  {
   "cell_type": "markdown",
   "metadata": {},
   "source": [
    "## Defining Results"
   ]
  },
  {
   "cell_type": "code",
   "execution_count": 45,
   "metadata": {},
   "outputs": [],
   "source": [
    "# =============================================================================\n",
    "# GLOBAL VARIABLE: a dictionary to store all feature importance results\n",
    "# =============================================================================\n",
    "feature_importance_results = {}\n",
    "\n",
    "# =============================================================================\n",
    "# ASSUMPTIONS:\n",
    "#   - X_linear is a NumPy array with shape (19252, 167), preprocessed for linear models.\n",
    "#   - X_tree is a NumPy array with shape (19252, 10), preprocessed for tree-based models.\n",
    "#   - y_train is a pandas Series containing the target (price).\n",
    "#\n",
    "# The assumed feature order is:\n",
    "#   For X_linear:\n",
    "#     0:  carpetArea\n",
    "#     1:  floorNumber\n",
    "#     2:  totalFloorNumber\n",
    "#     3:  bedrooms\n",
    "#     4:  bathrooms\n",
    "#     5-158: localityName (154 columns)\n",
    "#     159-160: transactionType (2 columns)\n",
    "#     161: furnished\n",
    "#     162: ReservedParking\n",
    "#     163: ageofcons\n",
    "#\n",
    "#   For X_tree (preprocessed with ordinal encoding):\n",
    "#     0:  carpetArea\n",
    "#     1:  floorNumber\n",
    "#     2:  totalFloorNumber\n",
    "#     3:  bedrooms\n",
    "#     4:  bathrooms\n",
    "#     5:  localityName (1 column)\n",
    "#     6:  transactionType (1 column)\n",
    "#     7:  furnished (1 column)\n",
    "#     8:  ReservedParking (1 column)\n",
    "#     9:  ageofcons \n",
    "# =============================================================================\n",
    "\n",
    "# Define groups for X_linear for aggregating the one-hot encoded columns:\n",
    "linear_feature_groups = {\n",
    "    \"carpetArea\": [0],\n",
    "    \"floorNumber\": [1],\n",
    "    \"totalFloorNumber\": [2],\n",
    "    \"bedrooms\": [3],\n",
    "    \"bathrooms\": [4],\n",
    "    \"localityName\": list(range(5, 5 + 154)),         # 154 columns: indices 5 to 158\n",
    "    \"transactionType\": list(range(5 + 154, 5 + 154 + 2)),    # 2 columns: indices 159 to 160\n",
    "    \"furnished\": [161],    # 1 columns: indices 161\n",
    "    \"ReservedParking\": [162],  # 1 columns: indices 162\n",
    "    \"ageofcons\": [163]\n",
    "}\n",
    "\n",
    "# For X_tree, manually define feature names (because it is a NumPy array)\n",
    "tree_feature_names = [\n",
    "    \"carpetArea\",\n",
    "    \"floorNumber\",\n",
    "    \"totalFloorNumber\",\n",
    "    \"bedrooms\",\n",
    "    \"bathrooms\",\n",
    "    \"localityName\",\n",
    "    \"transactionType\",\n",
    "    \"furnished\",\n",
    "    \"ReservedParking\",\n",
    "    \"ageofcons\",\n",
    "]"
   ]
  },
  {
   "cell_type": "markdown",
   "metadata": {},
   "source": [
    "## Univariate and Statistical Test Methods"
   ]
  },
  {
   "cell_type": "markdown",
   "metadata": {},
   "source": [
    "### F Regression"
   ]
  },
  {
   "cell_type": "code",
   "execution_count": 8,
   "metadata": {},
   "outputs": [],
   "source": [
    "# =============================================================================\n",
    "# STEP 2: UNIVARIATE AND STATISTICAL TEST METHODS\n",
    "# =============================================================================\n",
    "from sklearn.feature_selection import f_regression, r_regression\n",
    "from sklearn.feature_selection import mutual_info_regression\n",
    "# --------------------------\n",
    "# (A) f_regression for X_linear\n",
    "# --------------------------\n",
    "f_scores_linear, p_values_linear = f_regression(X_linear, y_train)\n",
    "\n",
    "# Aggregate scores for each original feature group from X_linear\n",
    "group_f_scores_linear = {}\n",
    "group_p_values_linear = {}\n",
    "for feature, indices in linear_feature_groups.items():\n",
    "    # Aggregate the f_regression scores (using mean)\n",
    "    group_f_scores_linear[feature] = np.mean(f_scores_linear[indices])\n",
    "    group_p_values_linear[feature] = np.mean(p_values_linear[indices])\n",
    "\n",
    "# Store the aggregated f_regression results for the linear features\n",
    "feature_importance_results[\"f_regression\"] = {\n",
    "    \"linear\": {\n",
    "        \"scores\": group_f_scores_linear,\n",
    "        \"p_values\": group_p_values_linear\n",
    "    }\n",
    "}\n",
    "\n",
    "# --------------------------\n",
    "# (C) f_regression for X_tree\n",
    "# --------------------------\n",
    "f_scores_tree, p_values_tree = f_regression(X_tree, y_train)\n",
    "# Create a dictionary mapping each tree feature (manually defined) to its score\n",
    "f_regression_tree_results = dict(zip(tree_feature_names, f_scores_tree))\n",
    "p_values_tree_dict = dict(zip(tree_feature_names, p_values_tree))\n",
    "\n",
    "# Store f_regression results for the tree features\n",
    "feature_importance_results[\"f_regression\"] = {\n",
    "    \"tree\": {\n",
    "        \"scores\": f_regression_tree_results,\n",
    "        \"p_values\": p_values_tree_dict\n",
    "    }\n",
    "}"
   ]
  },
  {
   "cell_type": "code",
   "execution_count": 9,
   "metadata": {},
   "outputs": [
    {
     "data": {
      "text/html": [
       "<div style='display: flex; justify-content: center; align-items: flex-start;'><div style='margin-left: 20px; margin-right: 20px; text-align: center;'><h3>F stats for Linear Encoded</h3><table border=\"1\" class=\"dataframe dataframe\">\n",
       "  <thead>\n",
       "    <tr style=\"text-align: right;\">\n",
       "      <th></th>\n",
       "      <th>index</th>\n",
       "      <th>0</th>\n",
       "    </tr>\n",
       "  </thead>\n",
       "  <tbody>\n",
       "    <tr>\n",
       "      <th>0</th>\n",
       "      <td>carpetArea</td>\n",
       "      <td>89728.211096</td>\n",
       "    </tr>\n",
       "    <tr>\n",
       "      <th>1</th>\n",
       "      <td>bathrooms</td>\n",
       "      <td>20797.214453</td>\n",
       "    </tr>\n",
       "    <tr>\n",
       "      <th>2</th>\n",
       "      <td>bedrooms</td>\n",
       "      <td>15587.720847</td>\n",
       "    </tr>\n",
       "    <tr>\n",
       "      <th>3</th>\n",
       "      <td>totalFloorNumber</td>\n",
       "      <td>1408.407318</td>\n",
       "    </tr>\n",
       "    <tr>\n",
       "      <th>4</th>\n",
       "      <td>floorNumber</td>\n",
       "      <td>912.269721</td>\n",
       "    </tr>\n",
       "    <tr>\n",
       "      <th>5</th>\n",
       "      <td>transactionType</td>\n",
       "      <td>231.905466</td>\n",
       "    </tr>\n",
       "    <tr>\n",
       "      <th>6</th>\n",
       "      <td>ReservedParking</td>\n",
       "      <td>223.844492</td>\n",
       "    </tr>\n",
       "    <tr>\n",
       "      <th>7</th>\n",
       "      <td>furnished</td>\n",
       "      <td>132.885738</td>\n",
       "    </tr>\n",
       "    <tr>\n",
       "      <th>8</th>\n",
       "      <td>localityName</td>\n",
       "      <td>51.975482</td>\n",
       "    </tr>\n",
       "    <tr>\n",
       "      <th>9</th>\n",
       "      <td>ageofcons</td>\n",
       "      <td>38.549258</td>\n",
       "    </tr>\n",
       "  </tbody>\n",
       "</table></div><div style='margin-left: 20px; margin-right: 20px; text-align: center;'><h3>F stats for Tree Encoded</h3><table border=\"1\" class=\"dataframe dataframe\">\n",
       "  <thead>\n",
       "    <tr style=\"text-align: right;\">\n",
       "      <th></th>\n",
       "      <th>index</th>\n",
       "      <th>0</th>\n",
       "    </tr>\n",
       "  </thead>\n",
       "  <tbody>\n",
       "    <tr>\n",
       "      <th>0</th>\n",
       "      <td>carpetArea</td>\n",
       "      <td>89728.211096</td>\n",
       "    </tr>\n",
       "    <tr>\n",
       "      <th>1</th>\n",
       "      <td>bathrooms</td>\n",
       "      <td>20797.214453</td>\n",
       "    </tr>\n",
       "    <tr>\n",
       "      <th>2</th>\n",
       "      <td>bedrooms</td>\n",
       "      <td>15587.720847</td>\n",
       "    </tr>\n",
       "    <tr>\n",
       "      <th>3</th>\n",
       "      <td>totalFloorNumber</td>\n",
       "      <td>1408.407318</td>\n",
       "    </tr>\n",
       "    <tr>\n",
       "      <th>4</th>\n",
       "      <td>floorNumber</td>\n",
       "      <td>912.269721</td>\n",
       "    </tr>\n",
       "    <tr>\n",
       "      <th>5</th>\n",
       "      <td>transactionType</td>\n",
       "      <td>231.905466</td>\n",
       "    </tr>\n",
       "    <tr>\n",
       "      <th>6</th>\n",
       "      <td>ReservedParking</td>\n",
       "      <td>223.844492</td>\n",
       "    </tr>\n",
       "    <tr>\n",
       "      <th>7</th>\n",
       "      <td>localityName</td>\n",
       "      <td>219.626327</td>\n",
       "    </tr>\n",
       "    <tr>\n",
       "      <th>8</th>\n",
       "      <td>furnished</td>\n",
       "      <td>132.885738</td>\n",
       "    </tr>\n",
       "    <tr>\n",
       "      <th>9</th>\n",
       "      <td>ageofcons</td>\n",
       "      <td>38.549258</td>\n",
       "    </tr>\n",
       "  </tbody>\n",
       "</table></div></div>"
      ],
      "text/plain": [
       "<IPython.core.display.HTML object>"
      ]
     },
     "metadata": {},
     "output_type": "display_data"
    }
   ],
   "source": [
    "displayHorizontalDataframes(\n",
    "    [pd.Series(group_f_scores_linear).sort_values(ascending=False).reset_index(),\n",
    "    pd.Series(f_regression_tree_results).sort_values(ascending=False).reset_index()],\n",
    "    [\"F stats for Linear Encoded\", \"F stats for Tree Encoded\"],\n",
    ")"
   ]
  },
  {
   "cell_type": "markdown",
   "metadata": {},
   "source": [
    "### R Regression"
   ]
  },
  {
   "cell_type": "code",
   "execution_count": 10,
   "metadata": {},
   "outputs": [],
   "source": [
    "# --------------------------\n",
    "# (B) r_regression for X_linear\n",
    "# --------------------------\n",
    "r_scores_linear = r_regression(X_linear, y_train)\n",
    "group_r_scores_linear = {}\n",
    "for feature, indices in linear_feature_groups.items():\n",
    "    group_r_scores_linear[feature] = np.mean(r_scores_linear[indices])\n",
    "\n",
    "# Store the aggregated r_regression results for the linear features\n",
    "feature_importance_results[\"r_regression\"] = {\n",
    "    \"linear\": {\n",
    "        \"scores\": group_r_scores_linear,\n",
    "    }\n",
    "}\n",
    "\n",
    "# --------------------------\n",
    "# (D) r_regression for X_tree\n",
    "# --------------------------\n",
    "r_scores_tree = r_regression(X_tree, y_train)\n",
    "r_regression_tree_results = dict(zip(tree_feature_names, r_scores_tree))\n",
    "\n",
    "# Store r_regression results for the tree features\n",
    "feature_importance_results[\"r_regression\"] = {\n",
    "    \"tree\": {\n",
    "        \"scores\": r_regression_tree_results,\n",
    "    }\n",
    "}"
   ]
  },
  {
   "cell_type": "code",
   "execution_count": 11,
   "metadata": {},
   "outputs": [
    {
     "data": {
      "text/html": [
       "<div style='display: flex; justify-content: center; align-items: flex-start;'><div style='margin-left: 20px; margin-right: 20px; text-align: center;'><h3>R scores for Linear Encoding</h3><table border=\"1\" class=\"dataframe dataframe\">\n",
       "  <thead>\n",
       "    <tr style=\"text-align: right;\">\n",
       "      <th></th>\n",
       "      <th>index</th>\n",
       "      <th>0</th>\n",
       "    </tr>\n",
       "  </thead>\n",
       "  <tbody>\n",
       "    <tr>\n",
       "      <th>0</th>\n",
       "      <td>carpetArea</td>\n",
       "      <td>9.073914e-01</td>\n",
       "    </tr>\n",
       "    <tr>\n",
       "      <th>1</th>\n",
       "      <td>bathrooms</td>\n",
       "      <td>7.206368e-01</td>\n",
       "    </tr>\n",
       "    <tr>\n",
       "      <th>2</th>\n",
       "      <td>bedrooms</td>\n",
       "      <td>6.689081e-01</td>\n",
       "    </tr>\n",
       "    <tr>\n",
       "      <th>3</th>\n",
       "      <td>totalFloorNumber</td>\n",
       "      <td>2.611053e-01</td>\n",
       "    </tr>\n",
       "    <tr>\n",
       "      <th>4</th>\n",
       "      <td>floorNumber</td>\n",
       "      <td>2.127120e-01</td>\n",
       "    </tr>\n",
       "    <tr>\n",
       "      <th>5</th>\n",
       "      <td>ReservedParking</td>\n",
       "      <td>1.072130e-01</td>\n",
       "    </tr>\n",
       "    <tr>\n",
       "      <th>6</th>\n",
       "      <td>furnished</td>\n",
       "      <td>8.279993e-02</td>\n",
       "    </tr>\n",
       "    <tr>\n",
       "      <th>7</th>\n",
       "      <td>localityName</td>\n",
       "      <td>9.289694e-04</td>\n",
       "    </tr>\n",
       "    <tr>\n",
       "      <th>8</th>\n",
       "      <td>transactionType</td>\n",
       "      <td>1.353084e-15</td>\n",
       "    </tr>\n",
       "    <tr>\n",
       "      <th>9</th>\n",
       "      <td>ageofcons</td>\n",
       "      <td>-4.470522e-02</td>\n",
       "    </tr>\n",
       "  </tbody>\n",
       "</table></div><div style='margin-left: 20px; margin-right: 20px; text-align: center;'><h3>R scores for Tree Encoding</h3><table border=\"1\" class=\"dataframe dataframe\">\n",
       "  <thead>\n",
       "    <tr style=\"text-align: right;\">\n",
       "      <th></th>\n",
       "      <th>index</th>\n",
       "      <th>0</th>\n",
       "    </tr>\n",
       "  </thead>\n",
       "  <tbody>\n",
       "    <tr>\n",
       "      <th>0</th>\n",
       "      <td>carpetArea</td>\n",
       "      <td>0.907391</td>\n",
       "    </tr>\n",
       "    <tr>\n",
       "      <th>1</th>\n",
       "      <td>bathrooms</td>\n",
       "      <td>0.720637</td>\n",
       "    </tr>\n",
       "    <tr>\n",
       "      <th>2</th>\n",
       "      <td>bedrooms</td>\n",
       "      <td>0.668908</td>\n",
       "    </tr>\n",
       "    <tr>\n",
       "      <th>3</th>\n",
       "      <td>totalFloorNumber</td>\n",
       "      <td>0.261105</td>\n",
       "    </tr>\n",
       "    <tr>\n",
       "      <th>4</th>\n",
       "      <td>floorNumber</td>\n",
       "      <td>0.212712</td>\n",
       "    </tr>\n",
       "    <tr>\n",
       "      <th>5</th>\n",
       "      <td>ReservedParking</td>\n",
       "      <td>0.107213</td>\n",
       "    </tr>\n",
       "    <tr>\n",
       "      <th>6</th>\n",
       "      <td>furnished</td>\n",
       "      <td>0.082800</td>\n",
       "    </tr>\n",
       "    <tr>\n",
       "      <th>7</th>\n",
       "      <td>ageofcons</td>\n",
       "      <td>-0.044705</td>\n",
       "    </tr>\n",
       "    <tr>\n",
       "      <th>8</th>\n",
       "      <td>localityName</td>\n",
       "      <td>-0.106210</td>\n",
       "    </tr>\n",
       "    <tr>\n",
       "      <th>9</th>\n",
       "      <td>transactionType</td>\n",
       "      <td>-0.109104</td>\n",
       "    </tr>\n",
       "  </tbody>\n",
       "</table></div></div>"
      ],
      "text/plain": [
       "<IPython.core.display.HTML object>"
      ]
     },
     "metadata": {},
     "output_type": "display_data"
    }
   ],
   "source": [
    "displayHorizontalDataframes(\n",
    "    [pd.Series(group_r_scores_linear).sort_values(ascending=False).reset_index(),\n",
    "    pd.Series(r_regression_tree_results).sort_values(ascending=False).reset_index()],\n",
    "    [\"R scores for Linear Encoding\", \"R scores for Tree Encoding\"],\n",
    ")"
   ]
  },
  {
   "cell_type": "markdown",
   "metadata": {},
   "source": [
    "### Mutual Information"
   ]
  },
  {
   "cell_type": "code",
   "execution_count": 12,
   "metadata": {},
   "outputs": [],
   "source": [
    "# --------------------------\n",
    "# (E) Mutual Information for X_linear\n",
    "# --------------------------\n",
    "# mi_scores_linear = mutual_info_regression(X_linear, y_train, n_neighbors=10)\n",
    "# group_mi_scores_linear = {}\n",
    "# for feature, indices in linear_feature_groups.items():\n",
    "#     group_mi_scores_linear[feature] = np.mean(mi_scores_linear[indices])\n",
    "\n",
    "# # Store mutual information results for X_linear\n",
    "# feature_importance_results[\"mutual_info_linear_10\"] = group_mi_scores_linear\n",
    "\n",
    "mi_scores_linear = mutual_info_regression(X_linear, y_train, n_neighbors=25)\n",
    "group_mi_scores_linear = {}\n",
    "for feature, indices in linear_feature_groups.items():\n",
    "    group_mi_scores_linear[feature] = np.mean(mi_scores_linear[indices])\n",
    "\n",
    "# Store mutual information results for X_linear\n",
    "feature_importance_results[\"mutual_info\"] = {\n",
    "    \"linear\": {\"scores\": group_mi_scores_linear}\n",
    "}\n",
    "\n",
    "# mi_scores_linear = mutual_info_regression(X_linear, y_train, n_neighbors=50)\n",
    "# group_mi_scores_linear = {}\n",
    "# for feature, indices in linear_feature_groups.items():\n",
    "#     group_mi_scores_linear[feature] = np.mean(mi_scores_linear[indices])\n",
    "\n",
    "# # Store mutual information results for X_linear\n",
    "# feature_importance_results[\"mutual_info_linear_50\"] = group_mi_scores_linear\n",
    "\n",
    "# --------------------------\n",
    "# (F) Mutual Information for X_tree\n",
    "# --------------------------\n",
    "# mi_scores_tree = mutual_info_regression(X_tree, y_train, n_neighbors=10)\n",
    "# mutual_info_tree_results = dict(zip(tree_feature_names, mi_scores_tree))\n",
    "\n",
    "# # Store mutual information results for X_tree\n",
    "# feature_importance_results[\"mutual_info_tree_10\"] = mutual_info_tree_results\n",
    "\n",
    "mi_scores_tree = mutual_info_regression(X_tree, y_train, n_neighbors=25)\n",
    "mutual_info_tree_results = dict(zip(tree_feature_names, mi_scores_tree))\n",
    "\n",
    "# Store mutual information results for X_tree\n",
    "feature_importance_results[\"mutual_info\"] = {\n",
    "    \"tree\": {\"scores\": mutual_info_tree_results}\n",
    "}\n",
    "\n",
    "# mi_scores_tree = mutual_info_regression(X_tree, y_train, n_neighbors=50)\n",
    "# mutual_info_tree_results = dict(zip(tree_feature_names, mi_scores_tree))\n",
    "\n",
    "# # Store mutual information results for X_tree\n",
    "# feature_importance_results[\"mutual_info_tree_50\"] = mutual_info_tree_results"
   ]
  },
  {
   "cell_type": "code",
   "execution_count": 13,
   "metadata": {},
   "outputs": [],
   "source": [
    "# displayHorizontalDataframes(\n",
    "#     [pd.Series(feature_importance_results[\"mutual_info_linear_10\"]).sort_values(ascending=False).reset_index(),\n",
    "#     pd.Series(feature_importance_results[\"mutual_info_tree_10\"]).sort_values(ascending=False).reset_index()],\n",
    "#     [\"Mutual Info for Linear Encoding for 10 neighbors\", \"Mutual Info for Tree Encoding for 10 neighbors\"],\n",
    "# )"
   ]
  },
  {
   "cell_type": "code",
   "execution_count": 14,
   "metadata": {},
   "outputs": [
    {
     "data": {
      "text/html": [
       "<div style='display: flex; justify-content: center; align-items: flex-start;'><div style='margin-left: 20px; margin-right: 20px; text-align: center;'><h3>Mutual Info for Linear Encoding for 25 neighbors</h3><table border=\"1\" class=\"dataframe dataframe\">\n",
       "  <thead>\n",
       "    <tr style=\"text-align: right;\">\n",
       "      <th></th>\n",
       "      <th>index</th>\n",
       "      <th>0</th>\n",
       "    </tr>\n",
       "  </thead>\n",
       "  <tbody>\n",
       "    <tr>\n",
       "      <th>0</th>\n",
       "      <td>carpetArea</td>\n",
       "      <td>0.990144</td>\n",
       "    </tr>\n",
       "    <tr>\n",
       "      <th>1</th>\n",
       "      <td>bedrooms</td>\n",
       "      <td>0.631792</td>\n",
       "    </tr>\n",
       "    <tr>\n",
       "      <th>2</th>\n",
       "      <td>bathrooms</td>\n",
       "      <td>0.616692</td>\n",
       "    </tr>\n",
       "    <tr>\n",
       "      <th>3</th>\n",
       "      <td>totalFloorNumber</td>\n",
       "      <td>0.206502</td>\n",
       "    </tr>\n",
       "    <tr>\n",
       "      <th>4</th>\n",
       "      <td>ageofcons</td>\n",
       "      <td>0.103114</td>\n",
       "    </tr>\n",
       "    <tr>\n",
       "      <th>5</th>\n",
       "      <td>transactionType</td>\n",
       "      <td>0.099967</td>\n",
       "    </tr>\n",
       "    <tr>\n",
       "      <th>6</th>\n",
       "      <td>floorNumber</td>\n",
       "      <td>0.093355</td>\n",
       "    </tr>\n",
       "    <tr>\n",
       "      <th>7</th>\n",
       "      <td>ReservedParking</td>\n",
       "      <td>0.023949</td>\n",
       "    </tr>\n",
       "    <tr>\n",
       "      <th>8</th>\n",
       "      <td>furnished</td>\n",
       "      <td>0.011104</td>\n",
       "    </tr>\n",
       "    <tr>\n",
       "      <th>9</th>\n",
       "      <td>localityName</td>\n",
       "      <td>0.003377</td>\n",
       "    </tr>\n",
       "  </tbody>\n",
       "</table></div><div style='margin-left: 20px; margin-right: 20px; text-align: center;'><h3>Mutual Info for Tree Encoding for 25 neighbors</h3><table border=\"1\" class=\"dataframe dataframe\">\n",
       "  <thead>\n",
       "    <tr style=\"text-align: right;\">\n",
       "      <th></th>\n",
       "      <th>index</th>\n",
       "      <th>0</th>\n",
       "    </tr>\n",
       "  </thead>\n",
       "  <tbody>\n",
       "    <tr>\n",
       "      <th>0</th>\n",
       "      <td>carpetArea</td>\n",
       "      <td>0.991579</td>\n",
       "    </tr>\n",
       "    <tr>\n",
       "      <th>1</th>\n",
       "      <td>bedrooms</td>\n",
       "      <td>0.634778</td>\n",
       "    </tr>\n",
       "    <tr>\n",
       "      <th>2</th>\n",
       "      <td>bathrooms</td>\n",
       "      <td>0.615979</td>\n",
       "    </tr>\n",
       "    <tr>\n",
       "      <th>3</th>\n",
       "      <td>localityName</td>\n",
       "      <td>0.307819</td>\n",
       "    </tr>\n",
       "    <tr>\n",
       "      <th>4</th>\n",
       "      <td>totalFloorNumber</td>\n",
       "      <td>0.206210</td>\n",
       "    </tr>\n",
       "    <tr>\n",
       "      <th>5</th>\n",
       "      <td>ageofcons</td>\n",
       "      <td>0.102061</td>\n",
       "    </tr>\n",
       "    <tr>\n",
       "      <th>6</th>\n",
       "      <td>transactionType</td>\n",
       "      <td>0.096186</td>\n",
       "    </tr>\n",
       "    <tr>\n",
       "      <th>7</th>\n",
       "      <td>floorNumber</td>\n",
       "      <td>0.094139</td>\n",
       "    </tr>\n",
       "    <tr>\n",
       "      <th>8</th>\n",
       "      <td>ReservedParking</td>\n",
       "      <td>0.020531</td>\n",
       "    </tr>\n",
       "    <tr>\n",
       "      <th>9</th>\n",
       "      <td>furnished</td>\n",
       "      <td>0.013356</td>\n",
       "    </tr>\n",
       "  </tbody>\n",
       "</table></div></div>"
      ],
      "text/plain": [
       "<IPython.core.display.HTML object>"
      ]
     },
     "metadata": {},
     "output_type": "display_data"
    }
   ],
   "source": [
    "displayHorizontalDataframes(\n",
    "    [pd.Series(group_mi_scores_linear).sort_values(ascending=False).reset_index(),\n",
    "    pd.Series(mutual_info_tree_results).sort_values(ascending=False).reset_index()],\n",
    "    [\"Mutual Info for Linear Encoding for 25 neighbors\", \"Mutual Info for Tree Encoding for 25 neighbors\"],\n",
    ")"
   ]
  },
  {
   "cell_type": "code",
   "execution_count": 15,
   "metadata": {},
   "outputs": [],
   "source": [
    "# displayHorizontalDataframes(\n",
    "#     [pd.Series(feature_importance_results[\"mutual_info_linear_50\"]).sort_values(ascending=False).reset_index(),\n",
    "#     pd.Series(feature_importance_results[\"mutual_info_tree_50\"]).sort_values(ascending=False).reset_index()],\n",
    "#     [\"Mutual Info for Linear Encoding for 50 neighbors\", \"Mutual Info for Tree Encoding for 50 neighbors\"],\n",
    "# )"
   ]
  },
  {
   "cell_type": "markdown",
   "metadata": {},
   "source": [
    "## Model Based Feature Selection"
   ]
  },
  {
   "cell_type": "markdown",
   "metadata": {},
   "source": [
    "### Defining Metrics"
   ]
  },
  {
   "cell_type": "code",
   "execution_count": 47,
   "metadata": {},
   "outputs": [],
   "source": [
    "from sklearn.model_selection import KFold\n",
    "import numpy as np\n",
    "import pandas as pd\n",
    "\n",
    "def compute_cv_metrics(model, X, y, is_linear=False, group_mapping=None, feature_names=None, epsilon=1e-10):\n",
    "    \"\"\"\n",
    "    Run 5-fold CV on the given model.\n",
    "    \n",
    "    For each fold:\n",
    "      - Fit the model.\n",
    "      - Get test predictions.\n",
    "      - Compute the absolute error distribution from test predictions, and then\n",
    "        calculate summary statistics: mean, std, median, min, max, 5th, 25th, 75th,\n",
    "        and 95th percentiles.\n",
    "      - Compute the absolute percentage error (APE) for each test point, avoiding\n",
    "        divide-by-zero errors by adding a small constant (epsilon) to the denominator.\n",
    "      - Extract feature importance:\n",
    "          * For linear models (is_linear==True), use model.coef_ and aggregate using\n",
    "            the provided group_mapping.\n",
    "          * For tree-based models, use model.feature_importances_ along with\n",
    "            feature_names.\n",
    "    \n",
    "    Returns:\n",
    "      - mae_df: a dataframe (index: fold1 to fold5; columns: the summary stats)\n",
    "      - mape_df: a dataframe (index: fold1 to fold5; columns: the summary stats for MAPE)\n",
    "      - ape_df: a dataframe containing APE for all points across folds\n",
    "      - avg_importance: a dictionary with aggregated feature importance values (mean over folds)\n",
    "    \"\"\"\n",
    "    kf = KFold(n_splits=5, shuffle=True, random_state=42)\n",
    "    fold_mae_stats = []\n",
    "    fold_mape_stats = []\n",
    "    fold_importances = []\n",
    "    \n",
    "    fold_no = 1\n",
    "    for train_index, test_index in kf.split(X):\n",
    "        X_train, X_test = X[train_index], X[test_index]\n",
    "        y_train_cv, y_test_cv = y.iloc[train_index], y.iloc[test_index]\n",
    "        \n",
    "        model.fit(X_train, y_train_cv)\n",
    "        y_pred = model.predict(X_test)\n",
    "        \n",
    "        # Compute absolute error for each test point.\n",
    "        abs_errors = np.abs(y_test_cv - y_pred)\n",
    "        \n",
    "        # Compute absolute percentage error for each test point, avoiding divide-by-zero errors.\n",
    "        ape = (abs_errors / (np.abs(y_test_cv) + epsilon)) * 100\n",
    "        \n",
    "        # Compute summary statistics from the distribution of absolute errors.\n",
    "        mae_stats = {\n",
    "            \"mean\": np.mean(abs_errors),\n",
    "            \"std\": np.std(abs_errors),\n",
    "            \"median\": np.median(abs_errors),\n",
    "            \"min\": np.min(abs_errors),\n",
    "            \"max\": np.max(abs_errors),\n",
    "            \"5th percentile\": np.percentile(abs_errors, 5),\n",
    "            \"25th percentile\": np.percentile(abs_errors, 25),\n",
    "            \"75th percentile\": np.percentile(abs_errors, 75),\n",
    "            \"95th percentile\": np.percentile(abs_errors, 95)\n",
    "        }\n",
    "        fold_mae_stats.append(mae_stats)\n",
    "        \n",
    "        # Compute summary statistics from the distribution of absolute percentage errors.\n",
    "        mape_stats = {\n",
    "            \"mean\": np.mean(ape),\n",
    "            \"std\": np.std(ape),\n",
    "            \"median\": np.median(ape),\n",
    "            \"min\": np.min(ape),\n",
    "            \"max\": np.max(ape),\n",
    "            \"5th percentile\": np.percentile(ape, 5),\n",
    "            \"25th percentile\": np.percentile(ape, 25),\n",
    "            \"75th percentile\": np.percentile(ape, 75),\n",
    "            \"95th percentile\": np.percentile(ape, 95)\n",
    "        }\n",
    "        fold_mape_stats.append(mape_stats)\n",
    "        \n",
    "        # Extract feature importance from the current fold.\n",
    "        if is_linear:\n",
    "            coefs = model.coef_\n",
    "            agg_importance = {}\n",
    "            for feat, indices in group_mapping.items():\n",
    "                agg_importance[feat] = np.mean(np.abs(coefs[indices]))\n",
    "            fold_importances.append(agg_importance)\n",
    "        else:\n",
    "            importances = model.feature_importances_\n",
    "            feat_imp = dict(zip(feature_names, importances))\n",
    "            fold_importances.append(feat_imp)\n",
    "        \n",
    "        fold_no += 1\n",
    "\n",
    "    # Create DataFrames with one row per fold\n",
    "    mae_df = pd.DataFrame(fold_mae_stats, index=[f'fold{i}' for i in range(1, 6)])\n",
    "    mape_df = pd.DataFrame(fold_mape_stats, index=[f'fold{i}' for i in range(1, 6)])\n",
    "    \n",
    "    # Aggregate feature importances by computing the mean for each feature over folds.\n",
    "    avg_importance = {}\n",
    "    if is_linear:\n",
    "        for feat in group_mapping.keys():\n",
    "            avg_importance[feat] = np.mean([fi[feat] for fi in fold_importances])\n",
    "    else:\n",
    "        for feat in feature_names:\n",
    "            avg_importance[feat] = np.mean([fi[feat] for fi in fold_importances])\n",
    "    \n",
    "    return mae_df, mape_df, avg_importance\n"
   ]
  },
  {
   "cell_type": "markdown",
   "metadata": {},
   "source": [
    "### Linear Regression"
   ]
  },
  {
   "cell_type": "code",
   "execution_count": 48,
   "metadata": {},
   "outputs": [
    {
     "data": {
      "text/html": [
       "<div>\n",
       "<style scoped>\n",
       "    .dataframe tbody tr th:only-of-type {\n",
       "        vertical-align: middle;\n",
       "    }\n",
       "\n",
       "    .dataframe tbody tr th {\n",
       "        vertical-align: top;\n",
       "    }\n",
       "\n",
       "    .dataframe thead th {\n",
       "        text-align: right;\n",
       "    }\n",
       "</style>\n",
       "<table border=\"1\" class=\"dataframe\">\n",
       "  <thead>\n",
       "    <tr style=\"text-align: right;\">\n",
       "      <th></th>\n",
       "      <th>mean</th>\n",
       "      <th>std</th>\n",
       "      <th>median</th>\n",
       "      <th>min</th>\n",
       "      <th>max</th>\n",
       "      <th>5th percentile</th>\n",
       "      <th>25th percentile</th>\n",
       "      <th>75th percentile</th>\n",
       "      <th>95th percentile</th>\n",
       "    </tr>\n",
       "  </thead>\n",
       "  <tbody>\n",
       "    <tr>\n",
       "      <th>fold1</th>\n",
       "      <td>2.497867e+06</td>\n",
       "      <td>4.263218e+06</td>\n",
       "      <td>1.430071e+06</td>\n",
       "      <td>91.273942</td>\n",
       "      <td>7.026589e+07</td>\n",
       "      <td>116953.191910</td>\n",
       "      <td>646108.269245</td>\n",
       "      <td>2.847388e+06</td>\n",
       "      <td>7.541261e+06</td>\n",
       "    </tr>\n",
       "    <tr>\n",
       "      <th>fold2</th>\n",
       "      <td>2.499700e+06</td>\n",
       "      <td>3.979896e+06</td>\n",
       "      <td>1.499131e+06</td>\n",
       "      <td>20.220851</td>\n",
       "      <td>6.136399e+07</td>\n",
       "      <td>115016.529772</td>\n",
       "      <td>669043.693577</td>\n",
       "      <td>2.796942e+06</td>\n",
       "      <td>7.665094e+06</td>\n",
       "    </tr>\n",
       "    <tr>\n",
       "      <th>fold3</th>\n",
       "      <td>2.543565e+06</td>\n",
       "      <td>4.748794e+06</td>\n",
       "      <td>1.488111e+06</td>\n",
       "      <td>1754.687173</td>\n",
       "      <td>9.667496e+07</td>\n",
       "      <td>132420.976029</td>\n",
       "      <td>678520.569739</td>\n",
       "      <td>2.783063e+06</td>\n",
       "      <td>7.600974e+06</td>\n",
       "    </tr>\n",
       "    <tr>\n",
       "      <th>fold4</th>\n",
       "      <td>2.525029e+06</td>\n",
       "      <td>4.487873e+06</td>\n",
       "      <td>1.487536e+06</td>\n",
       "      <td>920.317946</td>\n",
       "      <td>7.869673e+07</td>\n",
       "      <td>125361.025126</td>\n",
       "      <td>674028.600970</td>\n",
       "      <td>2.795965e+06</td>\n",
       "      <td>7.464686e+06</td>\n",
       "    </tr>\n",
       "    <tr>\n",
       "      <th>fold5</th>\n",
       "      <td>2.606056e+06</td>\n",
       "      <td>5.015196e+06</td>\n",
       "      <td>1.472459e+06</td>\n",
       "      <td>461.719555</td>\n",
       "      <td>1.513066e+08</td>\n",
       "      <td>131679.985173</td>\n",
       "      <td>679745.083052</td>\n",
       "      <td>2.786616e+06</td>\n",
       "      <td>7.971989e+06</td>\n",
       "    </tr>\n",
       "  </tbody>\n",
       "</table>\n",
       "</div>"
      ],
      "text/plain": [
       "               mean           std        median          min           max  \\\n",
       "fold1  2.497867e+06  4.263218e+06  1.430071e+06    91.273942  7.026589e+07   \n",
       "fold2  2.499700e+06  3.979896e+06  1.499131e+06    20.220851  6.136399e+07   \n",
       "fold3  2.543565e+06  4.748794e+06  1.488111e+06  1754.687173  9.667496e+07   \n",
       "fold4  2.525029e+06  4.487873e+06  1.487536e+06   920.317946  7.869673e+07   \n",
       "fold5  2.606056e+06  5.015196e+06  1.472459e+06   461.719555  1.513066e+08   \n",
       "\n",
       "       5th percentile  25th percentile  75th percentile  95th percentile  \n",
       "fold1   116953.191910    646108.269245     2.847388e+06     7.541261e+06  \n",
       "fold2   115016.529772    669043.693577     2.796942e+06     7.665094e+06  \n",
       "fold3   132420.976029    678520.569739     2.783063e+06     7.600974e+06  \n",
       "fold4   125361.025126    674028.600970     2.795965e+06     7.464686e+06  \n",
       "fold5   131679.985173    679745.083052     2.786616e+06     7.971989e+06  "
      ]
     },
     "execution_count": 48,
     "metadata": {},
     "output_type": "execute_result"
    }
   ],
   "source": [
    "# ================================\n",
    "# MODEL: Regular Linear Regression\n",
    "# ================================\n",
    "from sklearn.linear_model import LinearRegression\n",
    "\n",
    "lin_reg_model = LinearRegression()\n",
    "mae_df_lr, mape_df_lr, avg_imp_lr = compute_cv_metrics(\n",
    "    lin_reg_model, X_linear, y_train, is_linear=True, group_mapping=linear_feature_groups\n",
    ")\n",
    "# Store results in our global dictionary\n",
    "feature_importance_results[\"LinearRegression\"] = {\n",
    "    \"linear\": {\n",
    "        \"cv_mae\": mae_df_lr,\n",
    "        \"cv_mape\": mape_df_lr,\n",
    "        \"scores\": avg_imp_lr\n",
    "    }\n",
    "}\n",
    "\n",
    "mae_df_lr"
   ]
  },
  {
   "cell_type": "code",
   "execution_count": 49,
   "metadata": {},
   "outputs": [
    {
     "data": {
      "text/html": [
       "<div>\n",
       "<style scoped>\n",
       "    .dataframe tbody tr th:only-of-type {\n",
       "        vertical-align: middle;\n",
       "    }\n",
       "\n",
       "    .dataframe tbody tr th {\n",
       "        vertical-align: top;\n",
       "    }\n",
       "\n",
       "    .dataframe thead th {\n",
       "        text-align: right;\n",
       "    }\n",
       "</style>\n",
       "<table border=\"1\" class=\"dataframe\">\n",
       "  <thead>\n",
       "    <tr style=\"text-align: right;\">\n",
       "      <th></th>\n",
       "      <th>mean</th>\n",
       "      <th>std</th>\n",
       "      <th>median</th>\n",
       "      <th>min</th>\n",
       "      <th>max</th>\n",
       "      <th>5th percentile</th>\n",
       "      <th>25th percentile</th>\n",
       "      <th>75th percentile</th>\n",
       "      <th>95th percentile</th>\n",
       "    </tr>\n",
       "  </thead>\n",
       "  <tbody>\n",
       "    <tr>\n",
       "      <th>fold1</th>\n",
       "      <td>27.583496</td>\n",
       "      <td>38.495968</td>\n",
       "      <td>18.291200</td>\n",
       "      <td>0.001404</td>\n",
       "      <td>1284.072045</td>\n",
       "      <td>1.673581</td>\n",
       "      <td>8.441634</td>\n",
       "      <td>34.599096</td>\n",
       "      <td>80.641000</td>\n",
       "    </tr>\n",
       "    <tr>\n",
       "      <th>fold2</th>\n",
       "      <td>28.801541</td>\n",
       "      <td>34.166250</td>\n",
       "      <td>19.056457</td>\n",
       "      <td>0.000409</td>\n",
       "      <td>520.655910</td>\n",
       "      <td>1.449411</td>\n",
       "      <td>8.614977</td>\n",
       "      <td>37.171711</td>\n",
       "      <td>88.184995</td>\n",
       "    </tr>\n",
       "    <tr>\n",
       "      <th>fold3</th>\n",
       "      <td>28.004495</td>\n",
       "      <td>31.707979</td>\n",
       "      <td>18.250776</td>\n",
       "      <td>0.008161</td>\n",
       "      <td>346.863572</td>\n",
       "      <td>1.924480</td>\n",
       "      <td>8.624435</td>\n",
       "      <td>35.241476</td>\n",
       "      <td>87.269563</td>\n",
       "    </tr>\n",
       "    <tr>\n",
       "      <th>fold4</th>\n",
       "      <td>28.625132</td>\n",
       "      <td>32.914724</td>\n",
       "      <td>19.426252</td>\n",
       "      <td>0.013736</td>\n",
       "      <td>400.543534</td>\n",
       "      <td>1.664953</td>\n",
       "      <td>8.684797</td>\n",
       "      <td>36.940659</td>\n",
       "      <td>86.048587</td>\n",
       "    </tr>\n",
       "    <tr>\n",
       "      <th>fold5</th>\n",
       "      <td>28.479876</td>\n",
       "      <td>34.584736</td>\n",
       "      <td>18.730319</td>\n",
       "      <td>0.014975</td>\n",
       "      <td>864.741906</td>\n",
       "      <td>1.704724</td>\n",
       "      <td>8.673026</td>\n",
       "      <td>36.560305</td>\n",
       "      <td>85.531916</td>\n",
       "    </tr>\n",
       "  </tbody>\n",
       "</table>\n",
       "</div>"
      ],
      "text/plain": [
       "            mean        std     median       min          max  5th percentile  \\\n",
       "fold1  27.583496  38.495968  18.291200  0.001404  1284.072045        1.673581   \n",
       "fold2  28.801541  34.166250  19.056457  0.000409   520.655910        1.449411   \n",
       "fold3  28.004495  31.707979  18.250776  0.008161   346.863572        1.924480   \n",
       "fold4  28.625132  32.914724  19.426252  0.013736   400.543534        1.664953   \n",
       "fold5  28.479876  34.584736  18.730319  0.014975   864.741906        1.704724   \n",
       "\n",
       "       25th percentile  75th percentile  95th percentile  \n",
       "fold1         8.441634        34.599096        80.641000  \n",
       "fold2         8.614977        37.171711        88.184995  \n",
       "fold3         8.624435        35.241476        87.269563  \n",
       "fold4         8.684797        36.940659        86.048587  \n",
       "fold5         8.673026        36.560305        85.531916  "
      ]
     },
     "execution_count": 49,
     "metadata": {},
     "output_type": "execute_result"
    }
   ],
   "source": [
    "mape_df_lr"
   ]
  },
  {
   "cell_type": "code",
   "execution_count": 50,
   "metadata": {},
   "outputs": [
    {
     "data": {
      "text/plain": [
       "carpetArea          1342.705674\n",
       "localityName         298.107090\n",
       "bedrooms             225.911870\n",
       "transactionType       79.517007\n",
       "totalFloorNumber      78.834618\n",
       "ageofcons             54.644413\n",
       "bathrooms             41.537945\n",
       "furnished             11.850134\n",
       "floorNumber            2.393702\n",
       "ReservedParking        2.151237\n",
       "dtype: float64"
      ]
     },
     "execution_count": 50,
     "metadata": {},
     "output_type": "execute_result"
    }
   ],
   "source": [
    "pd.Series(avg_imp_lr).sort_values(ascending=False)/10000"
   ]
  },
  {
   "cell_type": "code",
   "execution_count": null,
   "metadata": {},
   "outputs": [],
   "source": []
  },
  {
   "cell_type": "markdown",
   "metadata": {},
   "source": [
    "### ElasticNet Regression"
   ]
  },
  {
   "cell_type": "code",
   "execution_count": 51,
   "metadata": {},
   "outputs": [
    {
     "data": {
      "text/html": [
       "<div>\n",
       "<style scoped>\n",
       "    .dataframe tbody tr th:only-of-type {\n",
       "        vertical-align: middle;\n",
       "    }\n",
       "\n",
       "    .dataframe tbody tr th {\n",
       "        vertical-align: top;\n",
       "    }\n",
       "\n",
       "    .dataframe thead th {\n",
       "        text-align: right;\n",
       "    }\n",
       "</style>\n",
       "<table border=\"1\" class=\"dataframe\">\n",
       "  <thead>\n",
       "    <tr style=\"text-align: right;\">\n",
       "      <th></th>\n",
       "      <th>mean</th>\n",
       "      <th>std</th>\n",
       "      <th>median</th>\n",
       "      <th>min</th>\n",
       "      <th>max</th>\n",
       "      <th>5th percentile</th>\n",
       "      <th>25th percentile</th>\n",
       "      <th>75th percentile</th>\n",
       "      <th>95th percentile</th>\n",
       "    </tr>\n",
       "  </thead>\n",
       "  <tbody>\n",
       "    <tr>\n",
       "      <th>fold1</th>\n",
       "      <td>2.576467e+06</td>\n",
       "      <td>4.368681e+06</td>\n",
       "      <td>1.506069e+06</td>\n",
       "      <td>562.627063</td>\n",
       "      <td>7.509221e+07</td>\n",
       "      <td>123228.997873</td>\n",
       "      <td>664753.033244</td>\n",
       "      <td>2.897938e+06</td>\n",
       "      <td>7.895525e+06</td>\n",
       "    </tr>\n",
       "    <tr>\n",
       "      <th>fold2</th>\n",
       "      <td>2.591813e+06</td>\n",
       "      <td>4.387710e+06</td>\n",
       "      <td>1.526585e+06</td>\n",
       "      <td>98.733064</td>\n",
       "      <td>7.526204e+07</td>\n",
       "      <td>139188.033889</td>\n",
       "      <td>690338.891790</td>\n",
       "      <td>2.903467e+06</td>\n",
       "      <td>7.819995e+06</td>\n",
       "    </tr>\n",
       "    <tr>\n",
       "      <th>fold3</th>\n",
       "      <td>2.628913e+06</td>\n",
       "      <td>4.968771e+06</td>\n",
       "      <td>1.513435e+06</td>\n",
       "      <td>499.673948</td>\n",
       "      <td>1.187708e+08</td>\n",
       "      <td>134270.548587</td>\n",
       "      <td>696940.988241</td>\n",
       "      <td>2.868266e+06</td>\n",
       "      <td>7.785975e+06</td>\n",
       "    </tr>\n",
       "    <tr>\n",
       "      <th>fold4</th>\n",
       "      <td>2.583644e+06</td>\n",
       "      <td>4.749507e+06</td>\n",
       "      <td>1.539297e+06</td>\n",
       "      <td>1171.721968</td>\n",
       "      <td>8.959150e+07</td>\n",
       "      <td>159013.956815</td>\n",
       "      <td>710379.932369</td>\n",
       "      <td>2.828817e+06</td>\n",
       "      <td>7.179486e+06</td>\n",
       "    </tr>\n",
       "    <tr>\n",
       "      <th>fold5</th>\n",
       "      <td>2.721772e+06</td>\n",
       "      <td>5.547086e+06</td>\n",
       "      <td>1.524310e+06</td>\n",
       "      <td>1449.998162</td>\n",
       "      <td>1.719161e+08</td>\n",
       "      <td>142657.442577</td>\n",
       "      <td>713914.421696</td>\n",
       "      <td>2.866038e+06</td>\n",
       "      <td>7.961756e+06</td>\n",
       "    </tr>\n",
       "  </tbody>\n",
       "</table>\n",
       "</div>"
      ],
      "text/plain": [
       "               mean           std        median          min           max  \\\n",
       "fold1  2.576467e+06  4.368681e+06  1.506069e+06   562.627063  7.509221e+07   \n",
       "fold2  2.591813e+06  4.387710e+06  1.526585e+06    98.733064  7.526204e+07   \n",
       "fold3  2.628913e+06  4.968771e+06  1.513435e+06   499.673948  1.187708e+08   \n",
       "fold4  2.583644e+06  4.749507e+06  1.539297e+06  1171.721968  8.959150e+07   \n",
       "fold5  2.721772e+06  5.547086e+06  1.524310e+06  1449.998162  1.719161e+08   \n",
       "\n",
       "       5th percentile  25th percentile  75th percentile  95th percentile  \n",
       "fold1   123228.997873    664753.033244     2.897938e+06     7.895525e+06  \n",
       "fold2   139188.033889    690338.891790     2.903467e+06     7.819995e+06  \n",
       "fold3   134270.548587    696940.988241     2.868266e+06     7.785975e+06  \n",
       "fold4   159013.956815    710379.932369     2.828817e+06     7.179486e+06  \n",
       "fold5   142657.442577    713914.421696     2.866038e+06     7.961756e+06  "
      ]
     },
     "execution_count": 51,
     "metadata": {},
     "output_type": "execute_result"
    }
   ],
   "source": [
    "# ================================\n",
    "# MODEL: ElasticNet Regression\n",
    "# ================================\n",
    "from sklearn.linear_model import ElasticNet\n",
    "\n",
    "en_model_cv = ElasticNet(random_state=42, alpha=0.01, l1_ratio=0.5)\n",
    "mae_df_en, mape_df_en, avg_imp_en = compute_cv_metrics(\n",
    "    en_model_cv, X_linear, y_train, is_linear=True, group_mapping=linear_feature_groups\n",
    ")\n",
    "feature_importance_results[\"ElasticNet\"] = {\n",
    "    \"linear\": {\n",
    "        \"cv_mae\": mae_df_en,\n",
    "        \"cv_mape\": mape_df_en,\n",
    "        \"scores\": avg_imp_en\n",
    "    }\n",
    "}\n",
    "\n",
    "mae_df_en"
   ]
  },
  {
   "cell_type": "code",
   "execution_count": 52,
   "metadata": {},
   "outputs": [
    {
     "data": {
      "text/html": [
       "<div>\n",
       "<style scoped>\n",
       "    .dataframe tbody tr th:only-of-type {\n",
       "        vertical-align: middle;\n",
       "    }\n",
       "\n",
       "    .dataframe tbody tr th {\n",
       "        vertical-align: top;\n",
       "    }\n",
       "\n",
       "    .dataframe thead th {\n",
       "        text-align: right;\n",
       "    }\n",
       "</style>\n",
       "<table border=\"1\" class=\"dataframe\">\n",
       "  <thead>\n",
       "    <tr style=\"text-align: right;\">\n",
       "      <th></th>\n",
       "      <th>mean</th>\n",
       "      <th>std</th>\n",
       "      <th>median</th>\n",
       "      <th>min</th>\n",
       "      <th>max</th>\n",
       "      <th>5th percentile</th>\n",
       "      <th>25th percentile</th>\n",
       "      <th>75th percentile</th>\n",
       "      <th>95th percentile</th>\n",
       "    </tr>\n",
       "  </thead>\n",
       "  <tbody>\n",
       "    <tr>\n",
       "      <th>fold1</th>\n",
       "      <td>28.422466</td>\n",
       "      <td>33.753230</td>\n",
       "      <td>19.516235</td>\n",
       "      <td>0.003410</td>\n",
       "      <td>628.504849</td>\n",
       "      <td>1.602799</td>\n",
       "      <td>8.646134</td>\n",
       "      <td>36.512017</td>\n",
       "      <td>82.711682</td>\n",
       "    </tr>\n",
       "    <tr>\n",
       "      <th>fold2</th>\n",
       "      <td>29.141762</td>\n",
       "      <td>33.205723</td>\n",
       "      <td>19.678744</td>\n",
       "      <td>0.003949</td>\n",
       "      <td>427.245216</td>\n",
       "      <td>1.712825</td>\n",
       "      <td>8.786773</td>\n",
       "      <td>37.766133</td>\n",
       "      <td>86.449234</td>\n",
       "    </tr>\n",
       "    <tr>\n",
       "      <th>fold3</th>\n",
       "      <td>28.415126</td>\n",
       "      <td>31.092100</td>\n",
       "      <td>19.362479</td>\n",
       "      <td>0.004345</td>\n",
       "      <td>398.713609</td>\n",
       "      <td>1.827253</td>\n",
       "      <td>9.275924</td>\n",
       "      <td>36.763890</td>\n",
       "      <td>85.006033</td>\n",
       "    </tr>\n",
       "    <tr>\n",
       "      <th>fold4</th>\n",
       "      <td>28.848617</td>\n",
       "      <td>31.558606</td>\n",
       "      <td>19.672171</td>\n",
       "      <td>0.013019</td>\n",
       "      <td>374.199613</td>\n",
       "      <td>1.971376</td>\n",
       "      <td>9.288111</td>\n",
       "      <td>37.504932</td>\n",
       "      <td>83.892668</td>\n",
       "    </tr>\n",
       "    <tr>\n",
       "      <th>fold5</th>\n",
       "      <td>28.824922</td>\n",
       "      <td>31.388359</td>\n",
       "      <td>19.933212</td>\n",
       "      <td>0.024167</td>\n",
       "      <td>397.650794</td>\n",
       "      <td>1.930022</td>\n",
       "      <td>8.983392</td>\n",
       "      <td>37.597410</td>\n",
       "      <td>83.965810</td>\n",
       "    </tr>\n",
       "  </tbody>\n",
       "</table>\n",
       "</div>"
      ],
      "text/plain": [
       "            mean        std     median       min         max  5th percentile  \\\n",
       "fold1  28.422466  33.753230  19.516235  0.003410  628.504849        1.602799   \n",
       "fold2  29.141762  33.205723  19.678744  0.003949  427.245216        1.712825   \n",
       "fold3  28.415126  31.092100  19.362479  0.004345  398.713609        1.827253   \n",
       "fold4  28.848617  31.558606  19.672171  0.013019  374.199613        1.971376   \n",
       "fold5  28.824922  31.388359  19.933212  0.024167  397.650794        1.930022   \n",
       "\n",
       "       25th percentile  75th percentile  95th percentile  \n",
       "fold1         8.646134        36.512017        82.711682  \n",
       "fold2         8.786773        37.766133        86.449234  \n",
       "fold3         9.275924        36.763890        85.006033  \n",
       "fold4         9.288111        37.504932        83.892668  \n",
       "fold5         8.983392        37.597410        83.965810  "
      ]
     },
     "execution_count": 52,
     "metadata": {},
     "output_type": "execute_result"
    }
   ],
   "source": [
    "mape_df_en"
   ]
  },
  {
   "cell_type": "code",
   "execution_count": 53,
   "metadata": {},
   "outputs": [
    {
     "data": {
      "text/plain": [
       "carpetArea          14049.501523\n",
       "bedrooms             2434.442764\n",
       "localityName          807.462533\n",
       "bathrooms             710.879518\n",
       "transactionType       651.274929\n",
       "totalFloorNumber      649.432902\n",
       "ageofcons             323.648595\n",
       "furnished             164.512944\n",
       "floorNumber            68.962298\n",
       "ReservedParking        10.378841\n",
       "dtype: float64"
      ]
     },
     "execution_count": 53,
     "metadata": {},
     "output_type": "execute_result"
    }
   ],
   "source": [
    "pd.Series(avg_imp_en).sort_values(ascending=False)/1000"
   ]
  },
  {
   "cell_type": "markdown",
   "metadata": {},
   "source": [
    "### Random Forest Regressor"
   ]
  },
  {
   "cell_type": "code",
   "execution_count": 54,
   "metadata": {},
   "outputs": [
    {
     "data": {
      "text/html": [
       "<div>\n",
       "<style scoped>\n",
       "    .dataframe tbody tr th:only-of-type {\n",
       "        vertical-align: middle;\n",
       "    }\n",
       "\n",
       "    .dataframe tbody tr th {\n",
       "        vertical-align: top;\n",
       "    }\n",
       "\n",
       "    .dataframe thead th {\n",
       "        text-align: right;\n",
       "    }\n",
       "</style>\n",
       "<table border=\"1\" class=\"dataframe\">\n",
       "  <thead>\n",
       "    <tr style=\"text-align: right;\">\n",
       "      <th></th>\n",
       "      <th>mean</th>\n",
       "      <th>std</th>\n",
       "      <th>median</th>\n",
       "      <th>min</th>\n",
       "      <th>max</th>\n",
       "      <th>5th percentile</th>\n",
       "      <th>25th percentile</th>\n",
       "      <th>75th percentile</th>\n",
       "      <th>95th percentile</th>\n",
       "    </tr>\n",
       "  </thead>\n",
       "  <tbody>\n",
       "    <tr>\n",
       "      <th>fold1</th>\n",
       "      <td>1.925788e+06</td>\n",
       "      <td>4.045584e+06</td>\n",
       "      <td>922942.613333</td>\n",
       "      <td>636.666667</td>\n",
       "      <td>7.836317e+07</td>\n",
       "      <td>76666.666667</td>\n",
       "      <td>390263.806667</td>\n",
       "      <td>1.914872e+06</td>\n",
       "      <td>6.586252e+06</td>\n",
       "    </tr>\n",
       "    <tr>\n",
       "      <th>fold2</th>\n",
       "      <td>1.886130e+06</td>\n",
       "      <td>3.822332e+06</td>\n",
       "      <td>915477.793333</td>\n",
       "      <td>0.000000</td>\n",
       "      <td>8.070733e+07</td>\n",
       "      <td>66456.650000</td>\n",
       "      <td>372606.720000</td>\n",
       "      <td>1.931758e+06</td>\n",
       "      <td>6.263854e+06</td>\n",
       "    </tr>\n",
       "    <tr>\n",
       "      <th>fold3</th>\n",
       "      <td>1.824317e+06</td>\n",
       "      <td>3.762166e+06</td>\n",
       "      <td>882333.143333</td>\n",
       "      <td>333.333333</td>\n",
       "      <td>9.713913e+07</td>\n",
       "      <td>71673.002619</td>\n",
       "      <td>391819.927778</td>\n",
       "      <td>1.879167e+06</td>\n",
       "      <td>6.382062e+06</td>\n",
       "    </tr>\n",
       "    <tr>\n",
       "      <th>fold4</th>\n",
       "      <td>1.797188e+06</td>\n",
       "      <td>3.802100e+06</td>\n",
       "      <td>862123.526667</td>\n",
       "      <td>666.666667</td>\n",
       "      <td>1.063720e+08</td>\n",
       "      <td>67528.541667</td>\n",
       "      <td>381204.180000</td>\n",
       "      <td>1.853239e+06</td>\n",
       "      <td>6.049960e+06</td>\n",
       "    </tr>\n",
       "    <tr>\n",
       "      <th>fold5</th>\n",
       "      <td>2.002789e+06</td>\n",
       "      <td>5.046544e+06</td>\n",
       "      <td>927877.210000</td>\n",
       "      <td>306.666667</td>\n",
       "      <td>1.663929e+08</td>\n",
       "      <td>72669.333333</td>\n",
       "      <td>391525.771667</td>\n",
       "      <td>1.915255e+06</td>\n",
       "      <td>6.745680e+06</td>\n",
       "    </tr>\n",
       "  </tbody>\n",
       "</table>\n",
       "</div>"
      ],
      "text/plain": [
       "               mean           std         median         min           max  \\\n",
       "fold1  1.925788e+06  4.045584e+06  922942.613333  636.666667  7.836317e+07   \n",
       "fold2  1.886130e+06  3.822332e+06  915477.793333    0.000000  8.070733e+07   \n",
       "fold3  1.824317e+06  3.762166e+06  882333.143333  333.333333  9.713913e+07   \n",
       "fold4  1.797188e+06  3.802100e+06  862123.526667  666.666667  1.063720e+08   \n",
       "fold5  2.002789e+06  5.046544e+06  927877.210000  306.666667  1.663929e+08   \n",
       "\n",
       "       5th percentile  25th percentile  75th percentile  95th percentile  \n",
       "fold1    76666.666667    390263.806667     1.914872e+06     6.586252e+06  \n",
       "fold2    66456.650000    372606.720000     1.931758e+06     6.263854e+06  \n",
       "fold3    71673.002619    391819.927778     1.879167e+06     6.382062e+06  \n",
       "fold4    67528.541667    381204.180000     1.853239e+06     6.049960e+06  \n",
       "fold5    72669.333333    391525.771667     1.915255e+06     6.745680e+06  "
      ]
     },
     "execution_count": 54,
     "metadata": {},
     "output_type": "execute_result"
    }
   ],
   "source": [
    "# ================================\n",
    "# MODEL: Random Forest Regressor\n",
    "# ================================\n",
    "from sklearn.ensemble import RandomForestRegressor\n",
    "\n",
    "rf_cv_model = RandomForestRegressor(n_estimators=150, random_state=42)\n",
    "mae_df_rf, mape_df_rf, avg_imp_rf = compute_cv_metrics(\n",
    "    rf_cv_model, X_tree, y_train, is_linear=False, feature_names=tree_feature_names\n",
    ")\n",
    "feature_importance_results[\"RandomForest\"] = {\n",
    "    \"tree\": {\n",
    "        \"cv_mae\": mae_df_rf,\n",
    "        \"cv_mape\": mape_df_rf,\n",
    "        \"scores\": avg_imp_rf\n",
    "    }\n",
    "}\n",
    "\n",
    "mae_df_rf"
   ]
  },
  {
   "cell_type": "code",
   "execution_count": 55,
   "metadata": {},
   "outputs": [
    {
     "data": {
      "text/html": [
       "<div>\n",
       "<style scoped>\n",
       "    .dataframe tbody tr th:only-of-type {\n",
       "        vertical-align: middle;\n",
       "    }\n",
       "\n",
       "    .dataframe tbody tr th {\n",
       "        vertical-align: top;\n",
       "    }\n",
       "\n",
       "    .dataframe thead th {\n",
       "        text-align: right;\n",
       "    }\n",
       "</style>\n",
       "<table border=\"1\" class=\"dataframe\">\n",
       "  <thead>\n",
       "    <tr style=\"text-align: right;\">\n",
       "      <th></th>\n",
       "      <th>mean</th>\n",
       "      <th>std</th>\n",
       "      <th>median</th>\n",
       "      <th>min</th>\n",
       "      <th>max</th>\n",
       "      <th>5th percentile</th>\n",
       "      <th>25th percentile</th>\n",
       "      <th>75th percentile</th>\n",
       "      <th>95th percentile</th>\n",
       "    </tr>\n",
       "  </thead>\n",
       "  <tbody>\n",
       "    <tr>\n",
       "      <th>fold1</th>\n",
       "      <td>18.509533</td>\n",
       "      <td>21.038349</td>\n",
       "      <td>12.599036</td>\n",
       "      <td>0.003167</td>\n",
       "      <td>358.594963</td>\n",
       "      <td>0.930007</td>\n",
       "      <td>5.198305</td>\n",
       "      <td>24.190444</td>\n",
       "      <td>55.380693</td>\n",
       "    </tr>\n",
       "    <tr>\n",
       "      <th>fold2</th>\n",
       "      <td>18.306414</td>\n",
       "      <td>20.663835</td>\n",
       "      <td>12.305556</td>\n",
       "      <td>0.000000</td>\n",
       "      <td>249.022222</td>\n",
       "      <td>0.944180</td>\n",
       "      <td>5.277721</td>\n",
       "      <td>24.173914</td>\n",
       "      <td>53.334083</td>\n",
       "    </tr>\n",
       "    <tr>\n",
       "      <th>fold3</th>\n",
       "      <td>17.434963</td>\n",
       "      <td>18.381166</td>\n",
       "      <td>12.366942</td>\n",
       "      <td>0.004831</td>\n",
       "      <td>223.333332</td>\n",
       "      <td>1.050156</td>\n",
       "      <td>5.464877</td>\n",
       "      <td>23.411983</td>\n",
       "      <td>49.925782</td>\n",
       "    </tr>\n",
       "    <tr>\n",
       "      <th>fold4</th>\n",
       "      <td>17.605871</td>\n",
       "      <td>18.368881</td>\n",
       "      <td>12.309671</td>\n",
       "      <td>0.007667</td>\n",
       "      <td>213.203922</td>\n",
       "      <td>0.903191</td>\n",
       "      <td>5.440236</td>\n",
       "      <td>23.639514</td>\n",
       "      <td>51.893762</td>\n",
       "    </tr>\n",
       "    <tr>\n",
       "      <th>fold5</th>\n",
       "      <td>18.077218</td>\n",
       "      <td>19.178380</td>\n",
       "      <td>12.587829</td>\n",
       "      <td>0.002899</td>\n",
       "      <td>260.606974</td>\n",
       "      <td>1.082893</td>\n",
       "      <td>5.492672</td>\n",
       "      <td>24.554238</td>\n",
       "      <td>52.148276</td>\n",
       "    </tr>\n",
       "  </tbody>\n",
       "</table>\n",
       "</div>"
      ],
      "text/plain": [
       "            mean        std     median       min         max  5th percentile  \\\n",
       "fold1  18.509533  21.038349  12.599036  0.003167  358.594963        0.930007   \n",
       "fold2  18.306414  20.663835  12.305556  0.000000  249.022222        0.944180   \n",
       "fold3  17.434963  18.381166  12.366942  0.004831  223.333332        1.050156   \n",
       "fold4  17.605871  18.368881  12.309671  0.007667  213.203922        0.903191   \n",
       "fold5  18.077218  19.178380  12.587829  0.002899  260.606974        1.082893   \n",
       "\n",
       "       25th percentile  75th percentile  95th percentile  \n",
       "fold1         5.198305        24.190444        55.380693  \n",
       "fold2         5.277721        24.173914        53.334083  \n",
       "fold3         5.464877        23.411983        49.925782  \n",
       "fold4         5.440236        23.639514        51.893762  \n",
       "fold5         5.492672        24.554238        52.148276  "
      ]
     },
     "execution_count": 55,
     "metadata": {},
     "output_type": "execute_result"
    }
   ],
   "source": [
    "mape_df_rf"
   ]
  },
  {
   "cell_type": "code",
   "execution_count": 56,
   "metadata": {},
   "outputs": [
    {
     "data": {
      "text/plain": [
       "carpetArea          874.812740\n",
       "localityName         43.464510\n",
       "totalFloorNumber     27.879728\n",
       "floorNumber          20.737438\n",
       "ageofcons            11.716094\n",
       "bathrooms             8.733228\n",
       "furnished             5.453966\n",
       "bedrooms              4.413348\n",
       "transactionType       2.424028\n",
       "ReservedParking       0.364919\n",
       "dtype: float64"
      ]
     },
     "execution_count": 56,
     "metadata": {},
     "output_type": "execute_result"
    }
   ],
   "source": [
    "pd.Series(avg_imp_rf).sort_values(ascending=False)*1000"
   ]
  },
  {
   "cell_type": "markdown",
   "metadata": {},
   "source": [
    "### XGBoost"
   ]
  },
  {
   "cell_type": "code",
   "execution_count": 57,
   "metadata": {},
   "outputs": [
    {
     "data": {
      "text/html": [
       "<div>\n",
       "<style scoped>\n",
       "    .dataframe tbody tr th:only-of-type {\n",
       "        vertical-align: middle;\n",
       "    }\n",
       "\n",
       "    .dataframe tbody tr th {\n",
       "        vertical-align: top;\n",
       "    }\n",
       "\n",
       "    .dataframe thead th {\n",
       "        text-align: right;\n",
       "    }\n",
       "</style>\n",
       "<table border=\"1\" class=\"dataframe\">\n",
       "  <thead>\n",
       "    <tr style=\"text-align: right;\">\n",
       "      <th></th>\n",
       "      <th>mean</th>\n",
       "      <th>std</th>\n",
       "      <th>median</th>\n",
       "      <th>min</th>\n",
       "      <th>max</th>\n",
       "      <th>5th percentile</th>\n",
       "      <th>25th percentile</th>\n",
       "      <th>75th percentile</th>\n",
       "      <th>95th percentile</th>\n",
       "    </tr>\n",
       "  </thead>\n",
       "  <tbody>\n",
       "    <tr>\n",
       "      <th>fold1</th>\n",
       "      <td>1.725574e+06</td>\n",
       "      <td>3.377805e+06</td>\n",
       "      <td>815828.500</td>\n",
       "      <td>57.5</td>\n",
       "      <td>60554064.0</td>\n",
       "      <td>65402.3750</td>\n",
       "      <td>353082.0000</td>\n",
       "      <td>1719681.625</td>\n",
       "      <td>6073456.0</td>\n",
       "    </tr>\n",
       "    <tr>\n",
       "      <th>fold2</th>\n",
       "      <td>1.774902e+06</td>\n",
       "      <td>3.815683e+06</td>\n",
       "      <td>814539.000</td>\n",
       "      <td>120.0</td>\n",
       "      <td>78676552.0</td>\n",
       "      <td>65715.0000</td>\n",
       "      <td>345691.5000</td>\n",
       "      <td>1705065.500</td>\n",
       "      <td>6156630.5</td>\n",
       "    </tr>\n",
       "    <tr>\n",
       "      <th>fold3</th>\n",
       "      <td>1.695726e+06</td>\n",
       "      <td>3.520353e+06</td>\n",
       "      <td>829844.125</td>\n",
       "      <td>177.5</td>\n",
       "      <td>85343408.0</td>\n",
       "      <td>65831.2500</td>\n",
       "      <td>345196.7500</td>\n",
       "      <td>1685972.375</td>\n",
       "      <td>5572884.1</td>\n",
       "    </tr>\n",
       "    <tr>\n",
       "      <th>fold4</th>\n",
       "      <td>1.620103e+06</td>\n",
       "      <td>3.373456e+06</td>\n",
       "      <td>794858.000</td>\n",
       "      <td>817.0</td>\n",
       "      <td>92259024.0</td>\n",
       "      <td>63094.4625</td>\n",
       "      <td>340969.5625</td>\n",
       "      <td>1699741.250</td>\n",
       "      <td>5346217.0</td>\n",
       "    </tr>\n",
       "    <tr>\n",
       "      <th>fold5</th>\n",
       "      <td>1.758928e+06</td>\n",
       "      <td>4.115093e+06</td>\n",
       "      <td>773385.000</td>\n",
       "      <td>6.0</td>\n",
       "      <td>111942847.0</td>\n",
       "      <td>71458.1500</td>\n",
       "      <td>350629.6250</td>\n",
       "      <td>1729196.000</td>\n",
       "      <td>5719594.7</td>\n",
       "    </tr>\n",
       "  </tbody>\n",
       "</table>\n",
       "</div>"
      ],
      "text/plain": [
       "               mean           std      median    min          max  \\\n",
       "fold1  1.725574e+06  3.377805e+06  815828.500   57.5   60554064.0   \n",
       "fold2  1.774902e+06  3.815683e+06  814539.000  120.0   78676552.0   \n",
       "fold3  1.695726e+06  3.520353e+06  829844.125  177.5   85343408.0   \n",
       "fold4  1.620103e+06  3.373456e+06  794858.000  817.0   92259024.0   \n",
       "fold5  1.758928e+06  4.115093e+06  773385.000    6.0  111942847.0   \n",
       "\n",
       "       5th percentile  25th percentile  75th percentile  95th percentile  \n",
       "fold1      65402.3750      353082.0000      1719681.625        6073456.0  \n",
       "fold2      65715.0000      345691.5000      1705065.500        6156630.5  \n",
       "fold3      65831.2500      345196.7500      1685972.375        5572884.1  \n",
       "fold4      63094.4625      340969.5625      1699741.250        5346217.0  \n",
       "fold5      71458.1500      350629.6250      1729196.000        5719594.7  "
      ]
     },
     "execution_count": 57,
     "metadata": {},
     "output_type": "execute_result"
    }
   ],
   "source": [
    "# ================================\n",
    "# MODEL: XGBoost Regressor\n",
    "# ================================\n",
    "import xgboost as xgb\n",
    "\n",
    "xgb_cv_model = xgb.XGBRegressor(objective='reg:squarederror', random_state=42, n_estimators=500)\n",
    "mae_df_xgb, mape_df_xgb, avg_imp_xgb = compute_cv_metrics(\n",
    "    xgb_cv_model, X_tree, y_train, is_linear=False, feature_names=tree_feature_names\n",
    ")\n",
    "feature_importance_results[\"XGBoost\"] = {\n",
    "    \"tree\": {\n",
    "        \"cv_mae\": mae_df_xgb,\n",
    "        \"cv_mape\": mape_df_xgb,\n",
    "        \"scores\": avg_imp_xgb\n",
    "    }\n",
    "}\n",
    "\n",
    "mae_df_xgb"
   ]
  },
  {
   "cell_type": "code",
   "execution_count": 58,
   "metadata": {},
   "outputs": [
    {
     "data": {
      "text/html": [
       "<div>\n",
       "<style scoped>\n",
       "    .dataframe tbody tr th:only-of-type {\n",
       "        vertical-align: middle;\n",
       "    }\n",
       "\n",
       "    .dataframe tbody tr th {\n",
       "        vertical-align: top;\n",
       "    }\n",
       "\n",
       "    .dataframe thead th {\n",
       "        text-align: right;\n",
       "    }\n",
       "</style>\n",
       "<table border=\"1\" class=\"dataframe\">\n",
       "  <thead>\n",
       "    <tr style=\"text-align: right;\">\n",
       "      <th></th>\n",
       "      <th>mean</th>\n",
       "      <th>std</th>\n",
       "      <th>median</th>\n",
       "      <th>min</th>\n",
       "      <th>max</th>\n",
       "      <th>5th percentile</th>\n",
       "      <th>25th percentile</th>\n",
       "      <th>75th percentile</th>\n",
       "      <th>95th percentile</th>\n",
       "    </tr>\n",
       "  </thead>\n",
       "  <tbody>\n",
       "    <tr>\n",
       "      <th>fold1</th>\n",
       "      <td>16.005157</td>\n",
       "      <td>17.717695</td>\n",
       "      <td>11.711850</td>\n",
       "      <td>0.001369</td>\n",
       "      <td>373.114000</td>\n",
       "      <td>0.840433</td>\n",
       "      <td>5.052301</td>\n",
       "      <td>20.857784</td>\n",
       "      <td>45.330650</td>\n",
       "    </tr>\n",
       "    <tr>\n",
       "      <th>fold2</th>\n",
       "      <td>15.839584</td>\n",
       "      <td>16.918288</td>\n",
       "      <td>11.227659</td>\n",
       "      <td>0.001739</td>\n",
       "      <td>250.374100</td>\n",
       "      <td>0.894030</td>\n",
       "      <td>4.989708</td>\n",
       "      <td>21.491648</td>\n",
       "      <td>43.443164</td>\n",
       "    </tr>\n",
       "    <tr>\n",
       "      <th>fold3</th>\n",
       "      <td>15.420644</td>\n",
       "      <td>17.031121</td>\n",
       "      <td>11.089538</td>\n",
       "      <td>0.003367</td>\n",
       "      <td>485.146490</td>\n",
       "      <td>0.944972</td>\n",
       "      <td>5.069766</td>\n",
       "      <td>20.879603</td>\n",
       "      <td>41.279905</td>\n",
       "    </tr>\n",
       "    <tr>\n",
       "      <th>fold4</th>\n",
       "      <td>15.327258</td>\n",
       "      <td>15.131621</td>\n",
       "      <td>11.182174</td>\n",
       "      <td>0.011347</td>\n",
       "      <td>168.989528</td>\n",
       "      <td>0.970472</td>\n",
       "      <td>4.879466</td>\n",
       "      <td>21.066793</td>\n",
       "      <td>43.765524</td>\n",
       "    </tr>\n",
       "    <tr>\n",
       "      <th>fold5</th>\n",
       "      <td>15.418104</td>\n",
       "      <td>15.981992</td>\n",
       "      <td>11.253673</td>\n",
       "      <td>0.000059</td>\n",
       "      <td>294.144769</td>\n",
       "      <td>1.035491</td>\n",
       "      <td>4.973198</td>\n",
       "      <td>20.699186</td>\n",
       "      <td>42.555666</td>\n",
       "    </tr>\n",
       "  </tbody>\n",
       "</table>\n",
       "</div>"
      ],
      "text/plain": [
       "            mean        std     median       min         max  5th percentile  \\\n",
       "fold1  16.005157  17.717695  11.711850  0.001369  373.114000        0.840433   \n",
       "fold2  15.839584  16.918288  11.227659  0.001739  250.374100        0.894030   \n",
       "fold3  15.420644  17.031121  11.089538  0.003367  485.146490        0.944972   \n",
       "fold4  15.327258  15.131621  11.182174  0.011347  168.989528        0.970472   \n",
       "fold5  15.418104  15.981992  11.253673  0.000059  294.144769        1.035491   \n",
       "\n",
       "       25th percentile  75th percentile  95th percentile  \n",
       "fold1         5.052301        20.857784        45.330650  \n",
       "fold2         4.989708        21.491648        43.443164  \n",
       "fold3         5.069766        20.879603        41.279905  \n",
       "fold4         4.879466        21.066793        43.765524  \n",
       "fold5         4.973198        20.699186        42.555666  "
      ]
     },
     "execution_count": 58,
     "metadata": {},
     "output_type": "execute_result"
    }
   ],
   "source": [
    "mape_df_xgb"
   ]
  },
  {
   "cell_type": "code",
   "execution_count": 59,
   "metadata": {},
   "outputs": [
    {
     "data": {
      "text/plain": [
       "carpetArea          698.647339\n",
       "localityName         69.265602\n",
       "bathrooms            51.246113\n",
       "bedrooms             39.623142\n",
       "totalFloorNumber     38.292507\n",
       "transactionType      29.050331\n",
       "ageofcons            27.078617\n",
       "floorNumber          24.227726\n",
       "furnished            18.192623\n",
       "ReservedParking       4.375976\n",
       "dtype: float32"
      ]
     },
     "execution_count": 59,
     "metadata": {},
     "output_type": "execute_result"
    }
   ],
   "source": [
    "pd.Series(avg_imp_xgb).sort_values(ascending=False)*1000"
   ]
  },
  {
   "cell_type": "markdown",
   "metadata": {},
   "source": [
    "### Decision Tree"
   ]
  },
  {
   "cell_type": "code",
   "execution_count": 60,
   "metadata": {},
   "outputs": [
    {
     "data": {
      "text/html": [
       "<div>\n",
       "<style scoped>\n",
       "    .dataframe tbody tr th:only-of-type {\n",
       "        vertical-align: middle;\n",
       "    }\n",
       "\n",
       "    .dataframe tbody tr th {\n",
       "        vertical-align: top;\n",
       "    }\n",
       "\n",
       "    .dataframe thead th {\n",
       "        text-align: right;\n",
       "    }\n",
       "</style>\n",
       "<table border=\"1\" class=\"dataframe\">\n",
       "  <thead>\n",
       "    <tr style=\"text-align: right;\">\n",
       "      <th></th>\n",
       "      <th>mean</th>\n",
       "      <th>std</th>\n",
       "      <th>median</th>\n",
       "      <th>min</th>\n",
       "      <th>max</th>\n",
       "      <th>5th percentile</th>\n",
       "      <th>25th percentile</th>\n",
       "      <th>75th percentile</th>\n",
       "      <th>95th percentile</th>\n",
       "    </tr>\n",
       "  </thead>\n",
       "  <tbody>\n",
       "    <tr>\n",
       "      <th>fold1</th>\n",
       "      <td>2.557901e+06</td>\n",
       "      <td>5.739065e+06</td>\n",
       "      <td>1200000.0</td>\n",
       "      <td>0.0</td>\n",
       "      <td>175000000.0</td>\n",
       "      <td>1000.000</td>\n",
       "      <td>499499.0</td>\n",
       "      <td>2500000.0</td>\n",
       "      <td>8899600.0</td>\n",
       "    </tr>\n",
       "    <tr>\n",
       "      <th>fold2</th>\n",
       "      <td>2.540177e+06</td>\n",
       "      <td>5.568921e+06</td>\n",
       "      <td>1200000.0</td>\n",
       "      <td>0.0</td>\n",
       "      <td>105000000.0</td>\n",
       "      <td>28904.000</td>\n",
       "      <td>500000.0</td>\n",
       "      <td>2516596.5</td>\n",
       "      <td>8500000.0</td>\n",
       "    </tr>\n",
       "    <tr>\n",
       "      <th>fold3</th>\n",
       "      <td>2.422857e+06</td>\n",
       "      <td>5.143593e+06</td>\n",
       "      <td>1100000.0</td>\n",
       "      <td>0.0</td>\n",
       "      <td>113000000.0</td>\n",
       "      <td>200.350</td>\n",
       "      <td>500000.0</td>\n",
       "      <td>2500000.0</td>\n",
       "      <td>8000000.0</td>\n",
       "    </tr>\n",
       "    <tr>\n",
       "      <th>fold4</th>\n",
       "      <td>2.458849e+06</td>\n",
       "      <td>5.225909e+06</td>\n",
       "      <td>1100000.0</td>\n",
       "      <td>0.0</td>\n",
       "      <td>87500000.0</td>\n",
       "      <td>3993.400</td>\n",
       "      <td>450000.0</td>\n",
       "      <td>2500000.0</td>\n",
       "      <td>8433000.0</td>\n",
       "    </tr>\n",
       "    <tr>\n",
       "      <th>fold5</th>\n",
       "      <td>2.595117e+06</td>\n",
       "      <td>6.073459e+06</td>\n",
       "      <td>1100000.0</td>\n",
       "      <td>0.0</td>\n",
       "      <td>178382015.0</td>\n",
       "      <td>287.625</td>\n",
       "      <td>500000.0</td>\n",
       "      <td>2500000.0</td>\n",
       "      <td>8919000.0</td>\n",
       "    </tr>\n",
       "  </tbody>\n",
       "</table>\n",
       "</div>"
      ],
      "text/plain": [
       "               mean           std     median  min          max  \\\n",
       "fold1  2.557901e+06  5.739065e+06  1200000.0  0.0  175000000.0   \n",
       "fold2  2.540177e+06  5.568921e+06  1200000.0  0.0  105000000.0   \n",
       "fold3  2.422857e+06  5.143593e+06  1100000.0  0.0  113000000.0   \n",
       "fold4  2.458849e+06  5.225909e+06  1100000.0  0.0   87500000.0   \n",
       "fold5  2.595117e+06  6.073459e+06  1100000.0  0.0  178382015.0   \n",
       "\n",
       "       5th percentile  25th percentile  75th percentile  95th percentile  \n",
       "fold1        1000.000         499499.0        2500000.0        8899600.0  \n",
       "fold2       28904.000         500000.0        2516596.5        8500000.0  \n",
       "fold3         200.350         500000.0        2500000.0        8000000.0  \n",
       "fold4        3993.400         450000.0        2500000.0        8433000.0  \n",
       "fold5         287.625         500000.0        2500000.0        8919000.0  "
      ]
     },
     "execution_count": 60,
     "metadata": {},
     "output_type": "execute_result"
    }
   ],
   "source": [
    "# ================================\n",
    "# MODEL: Decision Tree Regressor\n",
    "# ================================\n",
    "import pandas as pd\n",
    "from sklearn.tree import DecisionTreeRegressor\n",
    "\n",
    "tree_cv_model = DecisionTreeRegressor(random_state=42)\n",
    "mae_df_tree, mape_df_tree, avg_imp_tree = compute_cv_metrics(\n",
    "    tree_cv_model, X_tree, y_train, is_linear=False, feature_names=tree_feature_names\n",
    ")\n",
    "feature_importance_results[\"DecisionTree\"] = {\n",
    "    \"tree\": {\n",
    "        \"cv_mae\": mae_df_tree,\n",
    "        \"cv_mape\": mape_df_tree,\n",
    "        \"scores\": avg_imp_tree\n",
    "    }\n",
    "}\n",
    "\n",
    "mae_df_tree"
   ]
  },
  {
   "cell_type": "code",
   "execution_count": 61,
   "metadata": {},
   "outputs": [
    {
     "data": {
      "text/html": [
       "<div>\n",
       "<style scoped>\n",
       "    .dataframe tbody tr th:only-of-type {\n",
       "        vertical-align: middle;\n",
       "    }\n",
       "\n",
       "    .dataframe tbody tr th {\n",
       "        vertical-align: top;\n",
       "    }\n",
       "\n",
       "    .dataframe thead th {\n",
       "        text-align: right;\n",
       "    }\n",
       "</style>\n",
       "<table border=\"1\" class=\"dataframe\">\n",
       "  <thead>\n",
       "    <tr style=\"text-align: right;\">\n",
       "      <th></th>\n",
       "      <th>mean</th>\n",
       "      <th>std</th>\n",
       "      <th>median</th>\n",
       "      <th>min</th>\n",
       "      <th>max</th>\n",
       "      <th>5th percentile</th>\n",
       "      <th>25th percentile</th>\n",
       "      <th>75th percentile</th>\n",
       "      <th>95th percentile</th>\n",
       "    </tr>\n",
       "  </thead>\n",
       "  <tbody>\n",
       "    <tr>\n",
       "      <th>fold1</th>\n",
       "      <td>23.836361</td>\n",
       "      <td>28.975872</td>\n",
       "      <td>16.328372</td>\n",
       "      <td>0.0</td>\n",
       "      <td>483.333333</td>\n",
       "      <td>0.013563</td>\n",
       "      <td>6.163343</td>\n",
       "      <td>31.793758</td>\n",
       "      <td>70.942982</td>\n",
       "    </tr>\n",
       "    <tr>\n",
       "      <th>fold2</th>\n",
       "      <td>24.122695</td>\n",
       "      <td>29.800228</td>\n",
       "      <td>15.921926</td>\n",
       "      <td>0.0</td>\n",
       "      <td>483.333333</td>\n",
       "      <td>0.305361</td>\n",
       "      <td>6.250000</td>\n",
       "      <td>31.578947</td>\n",
       "      <td>72.783389</td>\n",
       "    </tr>\n",
       "    <tr>\n",
       "      <th>fold3</th>\n",
       "      <td>23.431261</td>\n",
       "      <td>26.473575</td>\n",
       "      <td>15.921578</td>\n",
       "      <td>0.0</td>\n",
       "      <td>306.250000</td>\n",
       "      <td>0.002774</td>\n",
       "      <td>6.075110</td>\n",
       "      <td>31.818182</td>\n",
       "      <td>70.239523</td>\n",
       "    </tr>\n",
       "    <tr>\n",
       "      <th>fold4</th>\n",
       "      <td>24.051338</td>\n",
       "      <td>27.236465</td>\n",
       "      <td>15.954545</td>\n",
       "      <td>0.0</td>\n",
       "      <td>285.714286</td>\n",
       "      <td>0.034272</td>\n",
       "      <td>6.060606</td>\n",
       "      <td>32.626941</td>\n",
       "      <td>74.262097</td>\n",
       "    </tr>\n",
       "    <tr>\n",
       "      <th>fold5</th>\n",
       "      <td>23.951067</td>\n",
       "      <td>28.390803</td>\n",
       "      <td>15.789474</td>\n",
       "      <td>0.0</td>\n",
       "      <td>382.142857</td>\n",
       "      <td>0.006680</td>\n",
       "      <td>6.303357</td>\n",
       "      <td>31.804663</td>\n",
       "      <td>71.559524</td>\n",
       "    </tr>\n",
       "  </tbody>\n",
       "</table>\n",
       "</div>"
      ],
      "text/plain": [
       "            mean        std     median  min         max  5th percentile  \\\n",
       "fold1  23.836361  28.975872  16.328372  0.0  483.333333        0.013563   \n",
       "fold2  24.122695  29.800228  15.921926  0.0  483.333333        0.305361   \n",
       "fold3  23.431261  26.473575  15.921578  0.0  306.250000        0.002774   \n",
       "fold4  24.051338  27.236465  15.954545  0.0  285.714286        0.034272   \n",
       "fold5  23.951067  28.390803  15.789474  0.0  382.142857        0.006680   \n",
       "\n",
       "       25th percentile  75th percentile  95th percentile  \n",
       "fold1         6.163343        31.793758        70.942982  \n",
       "fold2         6.250000        31.578947        72.783389  \n",
       "fold3         6.075110        31.818182        70.239523  \n",
       "fold4         6.060606        32.626941        74.262097  \n",
       "fold5         6.303357        31.804663        71.559524  "
      ]
     },
     "execution_count": 61,
     "metadata": {},
     "output_type": "execute_result"
    }
   ],
   "source": [
    "mape_df_tree"
   ]
  },
  {
   "cell_type": "code",
   "execution_count": 62,
   "metadata": {},
   "outputs": [
    {
     "data": {
      "text/plain": [
       "carpetArea          8727.229211\n",
       "localityName         447.755467\n",
       "totalFloorNumber     288.546037\n",
       "floorNumber          211.763536\n",
       "ageofcons            123.395049\n",
       "bathrooms             83.172257\n",
       "furnished             52.484466\n",
       "bedrooms              43.348401\n",
       "transactionType       18.786378\n",
       "ReservedParking        3.519200\n",
       "dtype: float64"
      ]
     },
     "execution_count": 62,
     "metadata": {},
     "output_type": "execute_result"
    }
   ],
   "source": [
    "pd.Series(avg_imp_tree).sort_values(ascending=False)*10000"
   ]
  },
  {
   "cell_type": "markdown",
   "metadata": {},
   "source": [
    "## Permutation Importance"
   ]
  },
  {
   "cell_type": "markdown",
   "metadata": {},
   "source": [
    "### Defining Metrics"
   ]
  },
  {
   "cell_type": "code",
   "execution_count": 38,
   "metadata": {},
   "outputs": [],
   "source": [
    "from sklearn.inspection import permutation_importance\n",
    "from sklearn.linear_model import LinearRegression\n",
    "# from sklearn.svm import SVR\n",
    "import xgboost as xgb\n",
    "from sklearn.ensemble import RandomForestRegressor\n",
    "from sklearn.metrics import mean_absolute_error"
   ]
  },
  {
   "cell_type": "markdown",
   "metadata": {},
   "source": [
    "### Random Forests"
   ]
  },
  {
   "cell_type": "code",
   "execution_count": 30,
   "metadata": {},
   "outputs": [
    {
     "data": {
      "text/plain": [
       "count            19252.0\n",
       "mean       685216.530009\n",
       "std       1516956.770171\n",
       "min                  0.0\n",
       "25%        139634.926667\n",
       "50%             327000.0\n",
       "75%        684816.493333\n",
       "max      63942939.597778\n",
       "Name: price, dtype: Float64"
      ]
     },
     "execution_count": 30,
     "metadata": {},
     "output_type": "execute_result"
    }
   ],
   "source": [
    "# ------------------------------------------------------------------------------------------------\n",
    "# (A) Permutation Importance for Random Forest (using X_tree)\n",
    "# ------------------------------------------------------------------------------------------------\n",
    "rf_perm_model = RandomForestRegressor(n_estimators=150, random_state=42)\n",
    "rf_perm_model.fit(X_tree, y_train)\n",
    "\n",
    "# Compute baseline MAE on X_tree with the fitted Random Forest model.\n",
    "y_pred_rf = rf_perm_model.predict(X_tree)\n",
    "baseline_mae_rf = mean_absolute_error(y_train, y_pred_rf)\n",
    "\n",
    "rf_perm_result = permutation_importance(\n",
    "    rf_perm_model,\n",
    "    X_tree,\n",
    "    y_train,\n",
    "    scoring=\"neg_mean_absolute_error\",\n",
    "    n_repeats=10,\n",
    "    random_state=42,\n",
    ")\n",
    "# Map permutation importance to feature names.\n",
    "rf_perm_importances = dict(zip(tree_feature_names, rf_perm_result.importances_mean))\n",
    "feature_importance_results[\"Permutation_RandomForest\"] = {\n",
    "    \"tree\":{\n",
    "        \"baseline_mae\": baseline_mae_rf,\n",
    "        \"scores\": rf_perm_importances,\n",
    "    }\n",
    "}\n",
    "\n",
    "pd.Series(np.abs(y_train - y_pred_rf)).describe()"
   ]
  },
  {
   "cell_type": "code",
   "execution_count": 31,
   "metadata": {},
   "outputs": [
    {
     "data": {
      "text/plain": [
       "count     19252.0\n",
       "mean     6.533811\n",
       "std      7.222083\n",
       "min           0.0\n",
       "25%      1.938708\n",
       "50%      4.476445\n",
       "75%      8.670791\n",
       "max      151.8978\n",
       "Name: price, dtype: Float64"
      ]
     },
     "execution_count": 31,
     "metadata": {},
     "output_type": "execute_result"
    }
   ],
   "source": [
    "pd.Series(np.abs(y_train - y_pred_rf)/ (np.abs(y_train) + 1e-10) * 100).describe()"
   ]
  },
  {
   "cell_type": "code",
   "execution_count": 32,
   "metadata": {},
   "outputs": [
    {
     "data": {
      "text/plain": [
       "carpetArea          8485.056481\n",
       "localityName        1584.384040\n",
       "totalFloorNumber    1106.993713\n",
       "floorNumber          511.468982\n",
       "ageofcons            381.141288\n",
       "bedrooms             329.112221\n",
       "bathrooms            315.006583\n",
       "furnished            260.479803\n",
       "transactionType      149.698285\n",
       "ReservedParking       27.087448\n",
       "dtype: float64"
      ]
     },
     "execution_count": 32,
     "metadata": {},
     "output_type": "execute_result"
    }
   ],
   "source": [
    "pd.Series(rf_perm_importances).sort_values(ascending=False)/1000"
   ]
  },
  {
   "cell_type": "markdown",
   "metadata": {},
   "source": [
    "### Linear Regression"
   ]
  },
  {
   "cell_type": "code",
   "execution_count": 33,
   "metadata": {},
   "outputs": [
    {
     "data": {
      "text/plain": [
       "count             19252.0\n",
       "mean       2506209.059422\n",
       "std        4458696.955061\n",
       "min             11.298849\n",
       "25%         662709.664199\n",
       "50%        1467088.644356\n",
       "75%        2764570.054779\n",
       "max      147363046.665414\n",
       "Name: price, dtype: Float64"
      ]
     },
     "execution_count": 33,
     "metadata": {},
     "output_type": "execute_result"
    }
   ],
   "source": [
    "# ------------------------------------------------------------------------------------------------\n",
    "# (B) Permutation Importance for Regular Linear Regression (using X_linear)\n",
    "# ------------------------------------------------------------------------------------------------\n",
    "lin_perm_model = LinearRegression()\n",
    "lin_perm_model.fit(X_linear, y_train)\n",
    "\n",
    "# Compute baseline MAE on X_linear using regular Linear Regression.\n",
    "y_pred_lin = lin_perm_model.predict(X_linear)\n",
    "baseline_mae_lin = mean_absolute_error(y_train, y_pred_lin)\n",
    "\n",
    "lin_perm_result = permutation_importance(\n",
    "    lin_perm_model,\n",
    "    X_linear,\n",
    "    y_train,\n",
    "    scoring=\"neg_mean_absolute_error\",\n",
    "    n_repeats=10,\n",
    "    random_state=42,\n",
    ")\n",
    "lin_perm_scores = lin_perm_result.importances_mean\n",
    "group_lin_perm_importances = {}\n",
    "for feat, indices in linear_feature_groups.items():\n",
    "    group_lin_perm_importances[feat] = np.mean(lin_perm_scores[indices])\n",
    "feature_importance_results[\"Permutation_LinearRegression\"] = {\n",
    "    \"linear\":{\n",
    "        \"baseline_mae\": baseline_mae_lin,\n",
    "        \"scores\": group_lin_perm_importances,\n",
    "    }\n",
    "}\n",
    "\n",
    "pd.Series(np.abs(y_train - y_pred_lin)).describe()"
   ]
  },
  {
   "cell_type": "code",
   "execution_count": 34,
   "metadata": {},
   "outputs": [
    {
     "data": {
      "text/plain": [
       "count        19252.0\n",
       "mean       27.882572\n",
       "std        33.627918\n",
       "min         0.000226\n",
       "25%         8.566909\n",
       "50%        18.611929\n",
       "75%        35.647136\n",
       "max      1236.302912\n",
       "Name: price, dtype: Float64"
      ]
     },
     "execution_count": 34,
     "metadata": {},
     "output_type": "execute_result"
    }
   ],
   "source": [
    "pd.Series(np.abs(y_train - y_pred_lin)/ (np.abs(y_train) + 1e-10) * 100).describe()"
   ]
  },
  {
   "cell_type": "code",
   "execution_count": 35,
   "metadata": {},
   "outputs": [
    {
     "data": {
      "text/plain": [
       "carpetArea          9011.842229\n",
       "bedrooms            1312.877690\n",
       "totalFloorNumber     124.092897\n",
       "ageofcons             76.365198\n",
       "transactionType       61.673505\n",
       "localityName          12.876313\n",
       "ReservedParking        5.602599\n",
       "furnished              5.526991\n",
       "floorNumber            1.259844\n",
       "bathrooms             -1.295076\n",
       "dtype: float64"
      ]
     },
     "execution_count": 35,
     "metadata": {},
     "output_type": "execute_result"
    }
   ],
   "source": [
    "pd.Series(group_lin_perm_importances).sort_values(ascending=False)/1000"
   ]
  },
  {
   "cell_type": "markdown",
   "metadata": {},
   "source": [
    "### SVM RBF kernel"
   ]
  },
  {
   "cell_type": "code",
   "execution_count": 36,
   "metadata": {},
   "outputs": [
    {
     "data": {
      "text/plain": [
       "count             19252.0\n",
       "mean       6683294.137221\n",
       "std       13621374.502576\n",
       "min              0.851693\n",
       "25%        1499617.584976\n",
       "50%        3299871.242141\n",
       "75%        5399223.150647\n",
       "max      270880886.387316\n",
       "Name: price, dtype: Float64"
      ]
     },
     "execution_count": 36,
     "metadata": {},
     "output_type": "execute_result"
    }
   ],
   "source": [
    "# # ------------------------------------------------------------------------------------------------\n",
    "# # (C) Permutation Importance for SVR with RBF Kernel on X_linear (one-hot encoding)\n",
    "# # ------------------------------------------------------------------------------------------------\n",
    "# svr_rbf_linear = SVR(kernel=\"rbf\")\n",
    "# svr_rbf_linear.fit(X_linear, y_train)\n",
    "\n",
    "# # Compute baseline MAE for SVR (RBF) on X_linear.\n",
    "# y_pred_svr_rbf_linear = svr_rbf_linear.predict(X_linear)\n",
    "# baseline_mae_svr_rbf_linear = mean_absolute_error(y_train, y_pred_svr_rbf_linear)\n",
    "\n",
    "# pd.Series(np.abs(y_train - y_pred_svr_rbf_linear)).describe()"
   ]
  },
  {
   "cell_type": "code",
   "execution_count": 37,
   "metadata": {},
   "outputs": [
    {
     "data": {
      "text/plain": [
       "count       19252.0\n",
       "mean      63.102583\n",
       "std       69.137487\n",
       "min        0.000011\n",
       "25%       19.619728\n",
       "50%       44.431852\n",
       "75%       78.561398\n",
       "max      1149.98215\n",
       "Name: price, dtype: Float64"
      ]
     },
     "execution_count": 37,
     "metadata": {},
     "output_type": "execute_result"
    }
   ],
   "source": [
    "# pd.Series(np.abs(y_train - y_pred_svr_rbf_linear)/ (np.abs(y_train) + 1e-10) * 100).describe()"
   ]
  },
  {
   "cell_type": "code",
   "execution_count": null,
   "metadata": {},
   "outputs": [],
   "source": [
    "# svr_rbf_linear_result = permutation_importance(\n",
    "#     svr_rbf_linear,\n",
    "#     X_linear,\n",
    "#     y_train,\n",
    "#     scoring=\"neg_mean_absolute_error\",\n",
    "#     n_repeats=10,\n",
    "#     random_state=42,\n",
    "# )\n",
    "# svr_rbf_linear_scores = svr_rbf_linear_result.importances_mean\n",
    "# group_svr_rbf_linear_importances = {}\n",
    "# for feat, indices in linear_feature_groups.items():\n",
    "#     group_svr_rbf_linear_importances[feat] = np.mean(svr_rbf_linear_scores[indices])\n",
    "# feature_importance_results[\"Permutation_SVR_RBF_linear\"] = {\n",
    "#     \"baseline_mae\": baseline_mae_svr_rbf_linear,\n",
    "#     \"perm_importances\": group_svr_rbf_linear_importances,\n",
    "# }\n",
    "\n",
    "# print(\"\\nPermutation Importance (SVR RBF on Linear Encoding):\")\n",
    "# print(\"Baseline MAE:\", baseline_mae_svr_rbf_linear)\n",
    "# print(group_svr_rbf_linear_importances)"
   ]
  },
  {
   "cell_type": "code",
   "execution_count": 8,
   "metadata": {},
   "outputs": [
    {
     "data": {
      "text/plain": [
       "count             19252.0\n",
       "mean        6683310.67684\n",
       "std       13621354.030016\n",
       "min              0.106972\n",
       "25%        1499614.190652\n",
       "50%        3299949.095296\n",
       "75%        5399287.815574\n",
       "max      270880794.600432\n",
       "Name: price, dtype: Float64"
      ]
     },
     "execution_count": 8,
     "metadata": {},
     "output_type": "execute_result"
    }
   ],
   "source": [
    "# # ------------------------------------------------------------------------------------------------\n",
    "# # (D) Permutation Importance for SVR with RBF Kernel on X_tree (ordinal encoding)\n",
    "# # ------------------------------------------------------------------------------------------------\n",
    "# svr_rbf_tree = SVR(kernel=\"rbf\")\n",
    "# svr_rbf_tree.fit(X_tree, y_train)\n",
    "\n",
    "# # Compute baseline MAE for SVR (RBF) on X_tree.\n",
    "# y_pred_svr_rbf_tree = svr_rbf_tree.predict(X_tree)\n",
    "# baseline_mae_svr_rbf_tree = mean_absolute_error(y_train, y_pred_svr_rbf_tree)\n",
    "\n",
    "# pd.Series(np.abs(y_train - y_pred_svr_rbf_tree)).describe()"
   ]
  },
  {
   "cell_type": "code",
   "execution_count": 9,
   "metadata": {},
   "outputs": [
    {
     "data": {
      "text/plain": [
       "count        19252.0\n",
       "mean       63.103344\n",
       "std        69.138594\n",
       "min         0.000001\n",
       "25%        19.623718\n",
       "50%        44.431997\n",
       "75%        78.563557\n",
       "max      1150.008844\n",
       "Name: price, dtype: Float64"
      ]
     },
     "execution_count": 9,
     "metadata": {},
     "output_type": "execute_result"
    }
   ],
   "source": [
    "# pd.Series(np.abs(y_train - y_pred_svr_rbf_tree)/ (np.abs(y_train) + 1e-10) * 100).describe()"
   ]
  },
  {
   "cell_type": "code",
   "execution_count": null,
   "metadata": {},
   "outputs": [],
   "source": [
    "# svr_rbf_tree_result = permutation_importance(\n",
    "#     svr_rbf_tree,\n",
    "#     X_tree,\n",
    "#     y_train,\n",
    "#     scoring=\"neg_mean_absolute_error\",\n",
    "#     n_repeats=10,\n",
    "#     random_state=42,\n",
    "# )\n",
    "# svr_rbf_tree_importances = dict(zip(tree_feature_names, svr_rbf_tree_result.importances_mean))\n",
    "# feature_importance_results[\"Permutation_SVR_RBF_tree\"] = {\n",
    "#     \"baseline_mae\": baseline_mae_svr_rbf_tree,\n",
    "#     \"perm_importances\": svr_rbf_tree_importances,\n",
    "# }\n",
    "\n",
    "# print(\"\\nPermutation Importance (SVR RBF on Tree Encoding):\")\n",
    "# print(\"Baseline MAE:\", baseline_mae_svr_rbf_tree)\n",
    "# print(svr_rbf_tree_importances)"
   ]
  },
  {
   "cell_type": "markdown",
   "metadata": {},
   "source": [
    "### SVM Ploynomial Kernel"
   ]
  },
  {
   "cell_type": "code",
   "execution_count": 10,
   "metadata": {},
   "outputs": [
    {
     "data": {
      "text/plain": [
       "count             19252.0\n",
       "mean       6683331.060127\n",
       "std       13619991.696468\n",
       "min              0.325752\n",
       "25%        1499919.687774\n",
       "50%        3300149.155254\n",
       "75%        5400183.817031\n",
       "max      270871098.289348\n",
       "Name: price, dtype: Float64"
      ]
     },
     "execution_count": 10,
     "metadata": {},
     "output_type": "execute_result"
    }
   ],
   "source": [
    "# # ------------------------------------------------------------------------------------------------\n",
    "# # (E) Permutation Importance for SVR with Polynomial Kernel on X_linear (one-hot encoding)\n",
    "# # ------------------------------------------------------------------------------------------------\n",
    "# svr_poly_linear = SVR(kernel=\"poly\", degree=2)\n",
    "# svr_poly_linear.fit(X_linear, y_train)\n",
    "\n",
    "# # Compute baseline MAE for SVR (Poly) on X_linear.\n",
    "# y_pred_svr_poly_linear = svr_poly_linear.predict(X_linear)\n",
    "# baseline_mae_svr_poly_linear = mean_absolute_error(y_train, y_pred_svr_poly_linear)\n",
    "\n",
    "# pd.Series(np.abs(y_train - y_pred_svr_poly_linear)).describe()"
   ]
  },
  {
   "cell_type": "code",
   "execution_count": 11,
   "metadata": {},
   "outputs": [
    {
     "data": {
      "text/plain": [
       "count        19252.0\n",
       "mean       63.109016\n",
       "std         69.14669\n",
       "min         0.000004\n",
       "25%        19.614098\n",
       "50%         44.43732\n",
       "75%        78.570088\n",
       "max      1149.813439\n",
       "Name: price, dtype: Float64"
      ]
     },
     "execution_count": 11,
     "metadata": {},
     "output_type": "execute_result"
    }
   ],
   "source": [
    "# pd.Series(np.abs(y_train - y_pred_svr_poly_linear)/ (np.abs(y_train) + 1e-10) * 100).describe()"
   ]
  },
  {
   "cell_type": "code",
   "execution_count": null,
   "metadata": {},
   "outputs": [],
   "source": [
    "# svr_poly_linear_result = permutation_importance(\n",
    "#     svr_poly_linear,\n",
    "#     X_linear,\n",
    "#     y_train,\n",
    "#     scoring=\"neg_mean_absolute_error\",\n",
    "#     n_repeats=10,\n",
    "#     random_state=42,\n",
    "# )\n",
    "# svr_poly_linear_scores = svr_poly_linear_result.importances_mean\n",
    "# group_svr_poly_linear_importances = {}\n",
    "# for feat, indices in linear_feature_groups.items():\n",
    "#     group_svr_poly_linear_importances[feat] = np.mean(svr_poly_linear_scores[indices])\n",
    "# feature_importance_results[\"Permutation_SVR_Poly_linear\"] = {\n",
    "#     \"baseline_mae\": baseline_mae_svr_poly_linear,\n",
    "#     \"perm_importances\": group_svr_poly_linear_importances,\n",
    "# }\n",
    "\n",
    "# print(\"\\nPermutation Importance (SVR Poly on Linear Encoding):\")\n",
    "# print(\"Baseline MAE:\", baseline_mae_svr_poly_linear)\n",
    "# print(group_svr_poly_linear_importances)"
   ]
  },
  {
   "cell_type": "code",
   "execution_count": null,
   "metadata": {},
   "outputs": [],
   "source": [
    "# # ------------------------------------------------------------------------------------------------\n",
    "# # (F) Permutation Importance for SVR with Polynomial Kernel on X_tree (ordinal encoding)\n",
    "# # ------------------------------------------------------------------------------------------------\n",
    "# svr_poly_tree = SVR(kernel=\"poly\", degree=2)\n",
    "# svr_poly_tree.fit(X_tree, y_train)\n",
    "\n",
    "# # Compute baseline MAE for SVR (Poly) on X_tree.\n",
    "# y_pred_svr_poly_tree = svr_poly_tree.predict(X_tree)\n",
    "# baseline_mae_svr_poly_tree = mean_absolute_error(y_train, y_pred_svr_poly_tree)\n",
    "\n",
    "# pd.Series(np.abs(y_train - y_pred_svr_poly_tree)).describe()"
   ]
  },
  {
   "cell_type": "code",
   "execution_count": null,
   "metadata": {},
   "outputs": [],
   "source": [
    "# pd.Series(np.abs(y_train - y_pred_svr_poly_tree)/ (np.abs(y_train) + 1e-10) * 100).describe()"
   ]
  },
  {
   "cell_type": "code",
   "execution_count": null,
   "metadata": {},
   "outputs": [],
   "source": [
    "# svr_poly_tree_result = permutation_importance(\n",
    "#     svr_poly_tree,\n",
    "#     X_tree,\n",
    "#     y_train,\n",
    "#     scoring=\"neg_mean_absolute_error\",\n",
    "#     n_repeats=10,\n",
    "#     random_state=42,\n",
    "# )\n",
    "# svr_poly_tree_importances = dict(zip(tree_feature_names, svr_poly_tree_result.importances_mean))\n",
    "# feature_importance_results[\"Permutation_SVR_Poly_tree\"] = {\n",
    "#     \"baseline_mae\": baseline_mae_svr_poly_tree,\n",
    "#     \"perm_importances\": svr_poly_tree_importances,\n",
    "# }\n",
    "\n",
    "# print(\"\\nPermutation Importance (SVR Poly on Tree Encoding):\")\n",
    "# print(\"Baseline MAE:\", baseline_mae_svr_poly_tree)\n",
    "# print(svr_poly_tree_importances)"
   ]
  },
  {
   "cell_type": "code",
   "execution_count": null,
   "metadata": {},
   "outputs": [],
   "source": []
  },
  {
   "cell_type": "markdown",
   "metadata": {},
   "source": [
    "### XGBoost"
   ]
  },
  {
   "cell_type": "code",
   "execution_count": 39,
   "metadata": {},
   "outputs": [
    {
     "data": {
      "text/plain": [
       "count          19252.0\n",
       "mean     596873.825664\n",
       "std      623418.132451\n",
       "min               14.0\n",
       "25%           181962.0\n",
       "50%         408891.375\n",
       "75%         805922.625\n",
       "max          9989488.0\n",
       "Name: price, dtype: Float64"
      ]
     },
     "execution_count": 39,
     "metadata": {},
     "output_type": "execute_result"
    }
   ],
   "source": [
    "# ------------------------------------------------------------------------------------------------\n",
    "# (G) Permutation Importance for XGBoost (using X_tree)\n",
    "# ------------------------------------------------------------------------------------------------\n",
    "xgb_perm_model = xgb.XGBRegressor(objective=\"reg:squarederror\", random_state=42, n_estimators=500)\n",
    "xgb_perm_model.fit(X_tree, y_train)\n",
    "\n",
    "# Compute baseline MAE for XGBoost on X_tree.\n",
    "y_pred_xgb = xgb_perm_model.predict(X_tree)\n",
    "baseline_mae_xgb = mean_absolute_error(y_train, y_pred_xgb)\n",
    "\n",
    "pd.Series(np.abs(y_train - y_pred_xgb)).describe()"
   ]
  },
  {
   "cell_type": "code",
   "execution_count": 40,
   "metadata": {},
   "outputs": [
    {
     "data": {
      "text/plain": [
       "count       19252.0\n",
       "mean       8.184065\n",
       "std        8.982448\n",
       "min        0.000045\n",
       "25%        2.179812\n",
       "50%        5.443474\n",
       "75%       11.190972\n",
       "max      132.376514\n",
       "Name: price, dtype: Float64"
      ]
     },
     "execution_count": 40,
     "metadata": {},
     "output_type": "execute_result"
    }
   ],
   "source": [
    "pd.Series((np.abs(y_train - y_pred_xgb)/ (np.abs(y_train) + 1e-10)) * 100).describe()"
   ]
  },
  {
   "cell_type": "code",
   "execution_count": null,
   "metadata": {},
   "outputs": [
    {
     "data": {
      "text/plain": [
       "carpetArea          711.127049\n",
       "localityName        229.015221\n",
       "totalFloorNumber    131.902752\n",
       "bedrooms             78.085027\n",
       "floorNumber          67.210795\n",
       "bathrooms            60.539532\n",
       "ageofcons            50.500718\n",
       "furnished            23.445045\n",
       "transactionType      16.837171\n",
       "ReservedParking       4.755343\n",
       "dtype: float64"
      ]
     },
     "execution_count": 28,
     "metadata": {},
     "output_type": "execute_result"
    }
   ],
   "source": [
    "xgb_perm_result = permutation_importance(\n",
    "    xgb_perm_model,\n",
    "    X_tree,\n",
    "    y_train,\n",
    "    scoring=\"neg_mean_absolute_error\",\n",
    "    n_repeats=10,\n",
    "    random_state=42,\n",
    ")\n",
    "xgb_perm_importances = dict(zip(tree_feature_names, xgb_perm_result.importances_mean))\n",
    "feature_importance_results[\"Permutation_XGBoost\"] = {\n",
    "    \"baseline_mae\": baseline_mae_xgb,\n",
    "    \"scores\": xgb_perm_importances,\n",
    "}\n",
    "\n",
    "pd.Series(xgb_perm_importances).sort_values(ascending=False)/10000"
   ]
  },
  {
   "cell_type": "markdown",
   "metadata": {},
   "source": [
    "### Decision Tree"
   ]
  },
  {
   "cell_type": "code",
   "execution_count": null,
   "metadata": {},
   "outputs": [],
   "source": [
    "# ------------------------------------------------------------------------------------------------\n",
    "# (H) Permutation Importance for Decision Trees\n",
    "# ------------------------------------------------------------------------------------------------\n",
    "dt_perm_model = DecisionTreeRegressor(random_state=0)\n",
    "dt_perm_model.fit(X_train, y_train)\n",
    "\n",
    "# Compute baseline MAE for Decision Tree on X_train.\n",
    "y_pred_dt = dt_perm_model.predict(X_train)\n",
    "baseline_mae_dt = mean_absolute_error(y_train, y_pred_dt)\n",
    "\n",
    "pd.Series(np.abs(y_train - y_pred_dt)).describe()\n"
   ]
  },
  {
   "cell_type": "code",
   "execution_count": null,
   "metadata": {},
   "outputs": [],
   "source": []
  },
  {
   "cell_type": "markdown",
   "metadata": {},
   "source": [
    "## SHAP feature importance"
   ]
  },
  {
   "cell_type": "code",
   "execution_count": 6,
   "metadata": {},
   "outputs": [],
   "source": [
    "import shap\n",
    "import numpy as np\n",
    "import matplotlib.pyplot as plt\n",
    "from sklearn.linear_model import LinearRegression\n",
    "from sklearn.ensemble import RandomForestRegressor\n",
    "from sklearn.tree import DecisionTreeRegressor\n",
    "import xgboost as xgb\n",
    "\n",
    "# Set random seed for reproducibility\n",
    "np.random.seed(42)\n",
    "\n",
    "# Select a sample of 100 observations for SHAP (for speed)\n",
    "sample_idx_linear = np.random.choice(X_linear.shape[0], size=500, replace=False)\n",
    "sample_idx_tree   = np.random.choice(X_tree.shape[0], size=500, replace=False)\n"
   ]
  },
  {
   "cell_type": "markdown",
   "metadata": {},
   "source": [
    "### Linear Regression"
   ]
  },
  {
   "cell_type": "code",
   "execution_count": 7,
   "metadata": {},
   "outputs": [
    {
     "data": {
      "text/plain": [
       "carpetArea          8879.060465\n",
       "bedrooms            1833.941779\n",
       "totalFloorNumber     576.642299\n",
       "ageofcons            469.927333\n",
       "bathrooms            311.804043\n",
       "transactionType      293.823189\n",
       "furnished            107.717870\n",
       "ReservedParking       57.513180\n",
       "localityName          31.946705\n",
       "floorNumber           11.229566\n",
       "dtype: float64"
      ]
     },
     "execution_count": 7,
     "metadata": {},
     "output_type": "execute_result"
    }
   ],
   "source": [
    "# ===========================================================\n",
    "# 1. SHAP for Regular Linear Regression (using X_linear)\n",
    "# ===========================================================\n",
    "lin_model_shap = LinearRegression()\n",
    "lin_model_shap.fit(X_linear, y_train)\n",
    "\n",
    "# Use the LinearExplainer for linear models.\n",
    "lin_explainer = shap.LinearExplainer(lin_model_shap, X_linear)\n",
    "# Compute SHAP values on the sample.\n",
    "shap_values_lin = lin_explainer.shap_values(X_linear[sample_idx_linear])\n",
    "\n",
    "# Aggregate SHAP values for the one-hot encoded data.\n",
    "# Compute mean absolute SHAP value per column.\n",
    "mean_shap_values_lin = np.mean(np.abs(shap_values_lin), axis=0)\n",
    "\n",
    "# Aggregate per feature group (for example, localityName is spread over multiple columns).\n",
    "group_shap_importance_lin = {}\n",
    "for feat, indices in linear_feature_groups.items():\n",
    "    group_shap_importance_lin[feat] = np.mean(mean_shap_values_lin[indices])\n",
    "\n",
    "# Store results in the global dictionary.\n",
    "feature_importance_results[\"SHAP_LinearRegression\"] = {\n",
    "    \"model\": lin_model_shap,\n",
    "    \"shap_values\": shap_values_lin,\n",
    "    \"data\": X_linear[sample_idx_linear],\n",
    "    \"scores\": group_shap_importance_lin\n",
    "}\n",
    "\n",
    "pd.Series(group_shap_importance_lin).sort_values(ascending=False)/1000"
   ]
  },
  {
   "cell_type": "code",
   "execution_count": 22,
   "metadata": {},
   "outputs": [
    {
     "name": "stderr",
     "output_type": "stream",
     "text": [
      "C:\\Users\\bhagy\\AppData\\Local\\Temp\\ipykernel_36252\\567745476.py:24: FutureWarning: The NumPy global RNG was seeded by calling `np.random.seed`. In a future version this function will no longer use the global RNG. Pass `rng` explicitly to opt-in to the new behaviour and silence this warning.\n",
      "  shap.summary_plot(shap_values_lin, X_linear[sample_idx_linear],\n"
     ]
    },
    {
     "data": {
      "image/png": "[encoded data removed]",
      "text/plain": [
       "<Figure size 800x950 with 1 Axes>"
      ]
     },
     "metadata": {},
     "output_type": "display_data"
    }
   ],
   "source": [
    "# # Create feature names for the one-hot encoded array (X_linear)\n",
    "# feature_names_linear = np.empty(X_linear.shape[1], dtype=object)\n",
    "# # Numeric columns:\n",
    "# feature_names_linear[0] = \"carpetArea\"\n",
    "# feature_names_linear[1] = \"floorNumber\"\n",
    "# feature_names_linear[2] = \"totalFloorNumber\"\n",
    "# feature_names_linear[3] = \"bedrooms\"\n",
    "# feature_names_linear[4] = \"bathrooms\"\n",
    "# # Sample names for localityName (154 columns)\n",
    "# for i in range(5, 5+154):\n",
    "#     feature_names_linear[i] = f\"localityName_{i-4}\"\n",
    "# # Sample names for transactionType (2 columns)\n",
    "# for i in range(5+154, 5+154+2):\n",
    "#     feature_names_linear[i] = f\"transactionType_{i-2}\"\n",
    "# # furnished (1 columns)\n",
    "# feature_names_linear[-3] = \"furnished\"\n",
    "# # ReservedParking (1 column)\n",
    "# feature_names_linear[-2] = \"ReservedParking\"\n",
    "# # ageofcons (1 column)\n",
    "# feature_names_linear[-1] = \"ageofcons\"\n",
    "\n",
    "# # Generate SHAP summary plot for Linear Regression\n",
    "# plt.figure()\n",
    "# shap.summary_plot(shap_values_lin, X_linear[sample_idx_linear],\n",
    "#                   feature_names=feature_names_linear,\n",
    "#                   show=False, plot_type=\"bar\")\n",
    "# plt.title(\"SHAP Summary Plot: Linear Regression\")\n",
    "# plt.show()"
   ]
  },
  {
   "cell_type": "code",
   "execution_count": 24,
   "metadata": {},
   "outputs": [
    {
     "data": {
      "text/plain": [
       "(5000, 164)"
      ]
     },
     "execution_count": 24,
     "metadata": {},
     "output_type": "execute_result"
    }
   ],
   "source": [
    "shap_values_lin.shape"
   ]
  },
  {
   "cell_type": "code",
   "execution_count": 26,
   "metadata": {},
   "outputs": [
    {
     "data": {
      "text/plain": [
       "(164,)"
      ]
     },
     "execution_count": 26,
     "metadata": {},
     "output_type": "execute_result"
    }
   ],
   "source": [
    "mean_shap_values_lin.shape"
   ]
  },
  {
   "cell_type": "code",
   "execution_count": null,
   "metadata": {},
   "outputs": [],
   "source": []
  },
  {
   "cell_type": "markdown",
   "metadata": {},
   "source": [
    "### Random Forest"
   ]
  },
  {
   "cell_type": "code",
   "execution_count": 11,
   "metadata": {},
   "outputs": [
    {
     "data": {
      "text/plain": [
       "carpetArea          7093.805291\n",
       "localityName         840.498200\n",
       "totalFloorNumber     658.284605\n",
       "ageofcons            189.430215\n",
       "furnished            183.470886\n",
       "bedrooms             169.533981\n",
       "floorNumber          163.292165\n",
       "bathrooms            110.252430\n",
       "transactionType      103.669391\n",
       "ReservedParking       11.020150\n",
       "dtype: float64"
      ]
     },
     "execution_count": 11,
     "metadata": {},
     "output_type": "execute_result"
    }
   ],
   "source": [
    "# ===========================================================\n",
    "# 2. SHAP for Random Forest Regressor (using X_tree)\n",
    "# ===========================================================\n",
    "rf_model_shap = RandomForestRegressor(n_estimators=150, random_state=42)\n",
    "rf_model_shap.fit(X_tree, y_train)\n",
    "\n",
    "# Use the TreeExplainer for tree-based models.\n",
    "rf_explainer = shap.TreeExplainer(rf_model_shap)\n",
    "shap_values_rf = rf_explainer.shap_values(X_tree[sample_idx_tree])\n",
    "\n",
    "# Aggregate SHAP feature importances: mean absolute SHAP per feature.\n",
    "mean_shap_values_rf = np.mean(np.abs(shap_values_rf), axis=0)\n",
    "rf_shap_importance = dict(zip(tree_feature_names, mean_shap_values_rf))\n",
    "\n",
    "pd.Series(rf_shap_importance).sort_values(ascending=False)/1000"
   ]
  },
  {
   "cell_type": "code",
   "execution_count": 15,
   "metadata": {},
   "outputs": [
    {
     "name": "stderr",
     "output_type": "stream",
     "text": [
      "C:\\Users\\bhagy\\AppData\\Local\\Temp\\ipykernel_36252\\2525000887.py:10: FutureWarning: The NumPy global RNG was seeded by calling `np.random.seed`. In a future version this function will no longer use the global RNG. Pass `rng` explicitly to opt-in to the new behaviour and silence this warning.\n",
      "  shap.summary_plot(shap_values_rf, X_tree[sample_idx_tree],\n"
     ]
    },
    {
     "data": {
      "image/png": "[encoded data removed]",
      "text/plain": [
       "<Figure size 800x550 with 1 Axes>"
      ]
     },
     "metadata": {},
     "output_type": "display_data"
    }
   ],
   "source": [
    "# Store in the global dictionary.\n",
    "feature_importance_results[\"SHAP_RandomForest\"] = {\n",
    "    \"model\": rf_model_shap,\n",
    "    \"shap_values\": shap_values_rf,\n",
    "    \"data\": X_tree[sample_idx_tree],\n",
    "    \"agg_importance\": rf_shap_importance\n",
    "}\n",
    "\n",
    "plt.figure()\n",
    "shap.summary_plot(shap_values_rf, X_tree[sample_idx_tree],\n",
    "                  feature_names=tree_feature_names,\n",
    "                  show=False,\n",
    "                  plot_type = \"bar\")\n",
    "plt.title(\"SHAP Summary Plot: Random Forest\")\n",
    "plt.show()"
   ]
  },
  {
   "cell_type": "code",
   "execution_count": null,
   "metadata": {},
   "outputs": [],
   "source": []
  },
  {
   "cell_type": "markdown",
   "metadata": {},
   "source": [
    "### XGBoost"
   ]
  },
  {
   "cell_type": "code",
   "execution_count": 17,
   "metadata": {},
   "outputs": [
    {
     "data": {
      "text/plain": [
       "carpetArea          6509.825684\n",
       "localityName        1425.487915\n",
       "totalFloorNumber     797.018677\n",
       "bedrooms             330.545319\n",
       "bathrooms            254.671204\n",
       "floorNumber          188.182831\n",
       "furnished            186.429749\n",
       "ageofcons            166.400696\n",
       "transactionType      152.688248\n",
       "ReservedParking       28.421686\n",
       "dtype: float32"
      ]
     },
     "execution_count": 17,
     "metadata": {},
     "output_type": "execute_result"
    }
   ],
   "source": [
    "# ===========================================================\n",
    "# 3. SHAP for XGBoost Regressor (using X_tree)\n",
    "# ===========================================================\n",
    "xgb_model_shap = xgb.XGBRegressor(objective=\"reg:squarederror\", random_state=42, n_estimators=100)\n",
    "xgb_model_shap.fit(X_tree, y_train)\n",
    "\n",
    "xgb_explainer = shap.TreeExplainer(xgb_model_shap)\n",
    "shap_values_xgb = xgb_explainer.shap_values(X_tree[sample_idx_tree])\n",
    "\n",
    "mean_shap_values_xgb = np.mean(np.abs(shap_values_xgb), axis=0)\n",
    "xgb_shap_importance = dict(zip(tree_feature_names, mean_shap_values_xgb))\n",
    "\n",
    "feature_importance_results[\"SHAP_XGBoost\"] = {\n",
    "    \"model\": xgb_model_shap,\n",
    "    \"shap_values\": shap_values_xgb,\n",
    "    \"data\": X_tree[sample_idx_tree],\n",
    "    \"agg_importance\": xgb_shap_importance\n",
    "}\n",
    "\n",
    "pd.Series(xgb_shap_importance).sort_values(ascending=False)/1000"
   ]
  },
  {
   "cell_type": "code",
   "execution_count": 18,
   "metadata": {},
   "outputs": [
    {
     "name": "stderr",
     "output_type": "stream",
     "text": [
      "C:\\Users\\bhagy\\AppData\\Local\\Temp\\ipykernel_36252\\3583545312.py:2: FutureWarning: The NumPy global RNG was seeded by calling `np.random.seed`. In a future version this function will no longer use the global RNG. Pass `rng` explicitly to opt-in to the new behaviour and silence this warning.\n",
      "  shap.summary_plot(shap_values_xgb, X_tree[sample_idx_tree],\n"
     ]
    },
    {
     "data": {
      "image/png": "[encoded data removed]",
      "text/plain": [
       "<Figure size 800x550 with 1 Axes>"
      ]
     },
     "metadata": {},
     "output_type": "display_data"
    }
   ],
   "source": [
    "plt.figure()\n",
    "shap.summary_plot(shap_values_xgb, X_tree[sample_idx_tree],\n",
    "                  feature_names=tree_feature_names,\n",
    "                  show=False,\n",
    "                  plot_type=\"bar\")\n",
    "plt.title(\"SHAP Summary Plot: XGBoost\")\n",
    "plt.show()"
   ]
  },
  {
   "cell_type": "markdown",
   "metadata": {},
   "source": [
    "### Decision Trees"
   ]
  },
  {
   "cell_type": "code",
   "execution_count": 20,
   "metadata": {},
   "outputs": [
    {
     "data": {
      "text/plain": [
       "carpetArea          7121.797325\n",
       "localityName        1101.652597\n",
       "totalFloorNumber     758.218258\n",
       "ageofcons            408.491674\n",
       "floorNumber          283.715045\n",
       "bedrooms             242.345399\n",
       "furnished            235.646097\n",
       "bathrooms            146.058728\n",
       "transactionType      108.913475\n",
       "ReservedParking       16.531689\n",
       "dtype: float64"
      ]
     },
     "execution_count": 20,
     "metadata": {},
     "output_type": "execute_result"
    }
   ],
   "source": [
    "# ===========================================================\n",
    "# 4. SHAP for DecisionTree Regressor (using X_tree)\n",
    "# ===========================================================\n",
    "dt_model_shap = DecisionTreeRegressor(random_state=42)\n",
    "dt_model_shap.fit(X_tree, y_train)\n",
    "\n",
    "dt_explainer = shap.TreeExplainer(dt_model_shap)\n",
    "shap_values_dt = dt_explainer.shap_values(X_tree[sample_idx_tree])\n",
    "\n",
    "mean_shap_values_dt = np.mean(np.abs(shap_values_dt), axis=0)\n",
    "dt_shap_importance = dict(zip(tree_feature_names, mean_shap_values_dt))\n",
    "\n",
    "feature_importance_results[\"SHAP_DecisionTree\"] = {\n",
    "    \"model\": dt_model_shap,\n",
    "    \"shap_values\": shap_values_dt,\n",
    "    \"data\": X_tree[sample_idx_tree],\n",
    "    \"agg_importance\": dt_shap_importance\n",
    "}\n",
    "\n",
    "pd.Series(dt_shap_importance).sort_values(ascending=False)/1000"
   ]
  },
  {
   "cell_type": "code",
   "execution_count": 21,
   "metadata": {},
   "outputs": [
    {
     "name": "stderr",
     "output_type": "stream",
     "text": [
      "C:\\Users\\bhagy\\AppData\\Local\\Temp\\ipykernel_36252\\1835119326.py:2: FutureWarning: The NumPy global RNG was seeded by calling `np.random.seed`. In a future version this function will no longer use the global RNG. Pass `rng` explicitly to opt-in to the new behaviour and silence this warning.\n",
      "  shap.summary_plot(shap_values_dt, X_tree[sample_idx_tree],\n"
     ]
    },
    {
     "data": {
      "image/png": "[encoded data removed]",
      "text/plain": [
       "<Figure size 800x550 with 1 Axes>"
      ]
     },
     "metadata": {},
     "output_type": "display_data"
    }
   ],
   "source": [
    "plt.figure()\n",
    "shap.summary_plot(shap_values_dt, X_tree[sample_idx_tree],\n",
    "                  feature_names=tree_feature_names,\n",
    "                  show=False, plot_type=\"bar\")\n",
    "plt.title(\"SHAP Summary Plot: Decision Tree\")\n",
    "plt.show()"
   ]
  },
  {
   "cell_type": "markdown",
   "metadata": {},
   "source": [
    "## Final Aggregation of All scores"
   ]
  },
  {
   "cell_type": "code",
   "execution_count": null,
   "metadata": {},
   "outputs": [],
   "source": []
  },
  {
   "cell_type": "code",
   "execution_count": null,
   "metadata": {},
   "outputs": [],
   "source": []
  },
  {
   "cell_type": "markdown",
   "metadata": {},
   "source": [
    "### Observations\n",
    "\n",
    "- Overall, ReservedParking is the least important feature. Can be removed."
   ]
  }
 ],
 "metadata": {
  "kernelspec": {
   "display_name": ".venv",
   "language": "python",
   "name": "python3"
  },
  "language_info": {
   "codemirror_mode": {
    "name": "ipython",
    "version": 3
   },
   "file_extension": ".py",
   "mimetype": "text/x-python",
   "name": "python",
   "nbconvert_exporter": "python",
   "pygments_lexer": "ipython3",
   "version": "3.12.3"
  }
 },
 "nbformat": 4,
 "nbformat_minor": 2
}
