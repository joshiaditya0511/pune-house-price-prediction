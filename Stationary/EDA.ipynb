{
 "cells": [
  {
   "cell_type": "markdown",
   "metadata": {},
   "source": [
    "# Imports"
   ]
  },
  {
   "cell_type": "code",
   "execution_count": 2,
   "metadata": {},
   "outputs": [],
   "source": [
    "import pandas as pd\n",
    "import numpy as np\n",
    "import missingno as msno\n",
    "import plotly.express as px\n",
    "import plotly.graph_objects as go"
   ]
  },
  {
   "cell_type": "code",
   "execution_count": 3,
   "metadata": {},
   "outputs": [],
   "source": [
    "dtype_mapping = {\n",
    "    'localityName': pd.StringDtype(),\n",
    "    'landMarks': pd.StringDtype(),\n",
    "    'locality': pd.StringDtype(),\n",
    "    'price': pd.Int64Dtype(),\n",
    "    'nameOfSociety': pd.StringDtype(),\n",
    "    'projectName': pd.StringDtype(),\n",
    "    'carpetArea': pd.Int64Dtype(),\n",
    "    'coveredArea': pd.Int64Dtype(),\n",
    "    'carpetAreaSqft': pd.Int64Dtype(),\n",
    "    'possessionStatus': pd.StringDtype(),\n",
    "    'developerName': pd.StringDtype(),\n",
    "    'flooringType': pd.StringDtype(),\n",
    "    'floorNumber': pd.StringDtype(),\n",
    "    'unitCountonFloor': pd.Int64Dtype(),\n",
    "    'totalFloorNumber': pd.Int64Dtype(),\n",
    "    'electricityStatus': pd.StringDtype(),\n",
    "    'waterStatus': pd.StringDtype(),\n",
    "    'longitude': 'float64',\n",
    "    'latitude': 'float64',\n",
    "    'transactionType': pd.StringDtype(),\n",
    "    'facing': pd.StringDtype(),\n",
    "    'ownershipType': pd.StringDtype(),\n",
    "    'carParking': pd.StringDtype(),\n",
    "    'furnished': 'category',\n",
    "    'bedrooms': pd.StringDtype(),\n",
    "    'bathrooms': pd.StringDtype(),\n",
    "    'numberOfBalconied': pd.StringDtype(),\n",
    "    'propertyType': 'category',\n",
    "    'additionalRooms': pd.StringDtype(),\n",
    "    'bookingAmountExact': pd.Int64Dtype(),\n",
    "    'maintenanceChargesFrequency': 'category',\n",
    "    'maintenanceCharges': pd.Int64Dtype(),\n",
    "    'ageofcons': 'category',\n",
    "    'isVerified': 'category',\n",
    "    'listingTypeDesc': 'category',\n",
    "    'premiumProperty': 'boolean',\n",
    "    'noOfLifts': pd.Int64Dtype(),\n",
    "    'propertyAmenities': pd.StringDtype(),\n",
    "    'facilitiesDesc': pd.StringDtype(),\n",
    "    'uuid': pd.StringDtype(),\n",
    "    'flooringType_Vitrified': 'boolean',\n",
    "    'flooringType_CeramicTiles': 'boolean',\n",
    "    'flooringType_Marble': 'boolean',\n",
    "    'flooringType_NormalTilesKotahStone': 'boolean',\n",
    "    'flooringType_Granite': 'boolean',\n",
    "    'flooringType_Wooden': 'boolean',\n",
    "    'flooringType_Mosaic': 'boolean',\n",
    "    'flooringType_Marbonite': 'boolean',\n",
    "    'additionalRoom_PujaRoom': 'boolean',\n",
    "    'additionalRoom_Study': 'boolean',\n",
    "    'additionalRoom_Store': 'boolean',\n",
    "    'additionalRoom_ServantRoom': 'boolean',\n",
    "    'carParking_Open': pd.Int64Dtype(),\n",
    "    'carParking_Covered': pd.Int64Dtype(),\n",
    "}\n"
   ]
  },
  {
   "cell_type": "code",
   "execution_count": 10,
   "metadata": {},
   "outputs": [],
   "source": [
    "df = pd.read_csv(\n",
    "    'cleaned_data.csv',\n",
    "    dtype = dtype_mapping,\n",
    "    index_col=0\n",
    ")\n",
    "\n",
    "df.fillna(pd.NA, inplace=True)"
   ]
  },
  {
   "cell_type": "code",
   "execution_count": 11,
   "metadata": {},
   "outputs": [
    {
     "name": "stdout",
     "output_type": "stream",
     "text": [
      "<class 'pandas.core.frame.DataFrame'>\n",
      "Index: 33194 entries, 0 to 33193\n",
      "Data columns (total 54 columns):\n",
      " #   Column                              Non-Null Count  Dtype   \n",
      "---  ------                              --------------  -----   \n",
      " 0   localityName                        32526 non-null  string  \n",
      " 1   landMarks                           17285 non-null  string  \n",
      " 2   locality                            32593 non-null  string  \n",
      " 3   price                               32790 non-null  Int64   \n",
      " 4   nameOfSociety                       26658 non-null  string  \n",
      " 5   projectName                         26643 non-null  string  \n",
      " 6   carpetArea                          26090 non-null  Int64   \n",
      " 7   coveredArea                         32051 non-null  Int64   \n",
      " 8   carpetAreaSqft                      26088 non-null  Int64   \n",
      " 9   possessionStatus                    26081 non-null  string  \n",
      " 10  developerName                       22986 non-null  string  \n",
      " 11  flooringType                        16944 non-null  string  \n",
      " 12  floorNumber                         32714 non-null  string  \n",
      " 13  unitCountonFloor                    15721 non-null  Int64   \n",
      " 14  totalFloorNumber                    32871 non-null  Int64   \n",
      " 15  electricityStatus                   15609 non-null  string  \n",
      " 16  waterStatus                         15662 non-null  string  \n",
      " 17  longitude                           32642 non-null  float64 \n",
      " 18  latitude                            32642 non-null  float64 \n",
      " 19  transactionType                     33159 non-null  string  \n",
      " 20  facing                              18737 non-null  string  \n",
      " 21  ownershipType                       18783 non-null  string  \n",
      " 22  carParking                          15348 non-null  string  \n",
      " 23  furnished                           32629 non-null  category\n",
      " 24  bedrooms                            32902 non-null  string  \n",
      " 25  bathrooms                           32916 non-null  string  \n",
      " 26  numberOfBalconied                   20103 non-null  string  \n",
      " 27  propertyType                        33194 non-null  category\n",
      " 28  additionalRooms                     16030 non-null  string  \n",
      " 29  bookingAmountExact                  17505 non-null  Int64   \n",
      " 30  maintenanceChargesFrequency         12074 non-null  category\n",
      " 31  maintenanceCharges                  12074 non-null  Int64   \n",
      " 32  ageofcons                           28212 non-null  category\n",
      " 33  isVerified                          33193 non-null  category\n",
      " 34  listingTypeDesc                     33194 non-null  category\n",
      " 35  premiumProperty                     33194 non-null  boolean \n",
      " 36  noOfLifts                           15080 non-null  Int64   \n",
      " 37  propertyAmenities                   25388 non-null  string  \n",
      " 38  facilitiesDesc                      25388 non-null  string  \n",
      " 39  uuid                                33194 non-null  string  \n",
      " 40  flooringType_Vitrified              16944 non-null  boolean \n",
      " 41  flooringType_CeramicTiles           16944 non-null  boolean \n",
      " 42  flooringType_Marble                 16944 non-null  boolean \n",
      " 43  flooringType_NormalTilesKotahStone  16944 non-null  boolean \n",
      " 44  flooringType_Granite                16944 non-null  boolean \n",
      " 45  flooringType_Wooden                 16944 non-null  boolean \n",
      " 46  flooringType_Mosaic                 16944 non-null  boolean \n",
      " 47  flooringType_Marbonite              16944 non-null  boolean \n",
      " 48  additionalRoom_PujaRoom             16030 non-null  boolean \n",
      " 49  additionalRoom_Study                16030 non-null  boolean \n",
      " 50  additionalRoom_Store                16030 non-null  boolean \n",
      " 51  additionalRoom_ServantRoom          16030 non-null  boolean \n",
      " 52  carParking_Open                     15348 non-null  Int64   \n",
      " 53  carParking_Covered                  15348 non-null  Int64   \n",
      "dtypes: Int64(11), boolean(13), category(6), float64(2), string(22)\n",
      "memory usage: 10.5 MB\n"
     ]
    }
   ],
   "source": [
    "df.info()"
   ]
  },
  {
   "cell_type": "markdown",
   "metadata": {},
   "source": [
    "#### Investigating locality columns"
   ]
  },
  {
   "cell_type": "code",
   "execution_count": 18,
   "metadata": {},
   "outputs": [],
   "source": [
    "(\n",
    "    df.loc[df['locality'] != df['localityName'], ['locality', 'localityName']]\n",
    "    .dropna(how='any')\n",
    "    .drop_duplicates()\n",
    "    .sort_values(['locality', 'localityName'])\n",
    "    .to_csv('temp2.csv', index = True)\n",
    ")"
   ]
  },
  {
   "cell_type": "markdown",
   "metadata": {},
   "source": [
    "#### Investigating projectName and nameOfSociety column"
   ]
  },
  {
   "cell_type": "code",
   "execution_count": 31,
   "metadata": {},
   "outputs": [],
   "source": [
    "(\n",
    "    df.loc[:, ['nameOfSociety', 'projectName']]\n",
    "    .dropna(how='any')\n",
    "    .drop_duplicates()\n",
    "    .query(\"nameOfSociety != projectName\")\n",
    "    .sort_values('nameOfSociety')\n",
    "    .to_csv('temp3.csv', index=True)\n",
    ")"
   ]
  },
  {
   "cell_type": "markdown",
   "metadata": {},
   "source": [
    "#### Investigating area columns"
   ]
  },
  {
   "cell_type": "code",
   "execution_count": 108,
   "metadata": {},
   "outputs": [
    {
     "data": {
      "text/plain": [
       "np.int64(20103)"
      ]
     },
     "execution_count": 108,
     "metadata": {},
     "output_type": "execute_result"
    }
   ],
   "source": [
    "(\n",
    "    df['numberOfBalconied']\n",
    "    .value_counts()\n",
    "    .sum()\n",
    ")"
   ]
  },
  {
   "cell_type": "code",
   "execution_count": 48,
   "metadata": {},
   "outputs": [
    {
     "data": {
      "text/plain": [
       "0.7909090909090909"
      ]
     },
     "execution_count": 48,
     "metadata": {},
     "output_type": "execute_result"
    }
   ],
   "source": [
    "26100/33000"
   ]
  },
  {
   "cell_type": "code",
   "execution_count": null,
   "metadata": {},
   "outputs": [],
   "source": []
  },
  {
   "cell_type": "code",
   "execution_count": null,
   "metadata": {},
   "outputs": [],
   "source": []
  },
  {
   "cell_type": "code",
   "execution_count": null,
   "metadata": {},
   "outputs": [],
   "source": []
  },
  {
   "cell_type": "code",
   "execution_count": null,
   "metadata": {},
   "outputs": [],
   "source": []
  },
  {
   "cell_type": "code",
   "execution_count": null,
   "metadata": {},
   "outputs": [],
   "source": []
  },
  {
   "cell_type": "code",
   "execution_count": null,
   "metadata": {},
   "outputs": [],
   "source": []
  }
 ],
 "metadata": {
  "kernelspec": {
   "display_name": ".env",
   "language": "python",
   "name": "python3"
  },
  "language_info": {
   "codemirror_mode": {
    "name": "ipython",
    "version": 3
   },
   "file_extension": ".py",
   "mimetype": "text/x-python",
   "name": "python",
   "nbconvert_exporter": "python",
   "pygments_lexer": "ipython3",
   "version": "3.12.3"
  }
 },
 "nbformat": 4,
 "nbformat_minor": 2
}
