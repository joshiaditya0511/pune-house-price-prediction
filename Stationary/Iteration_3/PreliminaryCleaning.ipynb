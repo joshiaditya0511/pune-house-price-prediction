{
 "cells": [
  {
   "cell_type": "markdown",
   "metadata": {},
   "source": [
    "## Importing libraries and dataset"
   ]
  },
  {
   "cell_type": "code",
   "execution_count": null,
   "metadata": {},
   "outputs": [
    {
     "name": "stderr",
     "output_type": "stream",
     "text": [
      "C:\\Users\\bhagy\\AppData\\Local\\Temp\\ipykernel_20644\\2226575153.py:5: DtypeWarning: Columns (10,11,30,31,32,34,35) have mixed types. Specify dtype option on import or set low_memory=False.\n",
      "  df = pd.read_csv('../Data/rawExtractedPropertyDetails.csv')\n"
     ]
    }
   ],
   "source": [
    "import pandas as pd\n",
    "import missingno as msno\n",
    "import re\n",
    "\n",
    "df = pd.read_csv('Data/rawExtractedPropertyDetails.csv')"
   ]
  },
  {
   "cell_type": "markdown",
   "metadata": {},
   "source": [
    "### General Info"
   ]
  },
  {
   "cell_type": "code",
   "execution_count": 2,
   "metadata": {},
   "outputs": [
    {
     "name": "stdout",
     "output_type": "stream",
     "text": [
      "<class 'pandas.core.frame.DataFrame'>\n",
      "RangeIndex: 33502 entries, 0 to 33501\n",
      "Data columns (total 51 columns):\n",
      " #   Column                       Non-Null Count  Dtype  \n",
      "---  ------                       --------------  -----  \n",
      " 0   localityName                 32813 non-null  object \n",
      " 1   landMarks                    17384 non-null  object \n",
      " 2   locality                     32880 non-null  object \n",
      " 3   price                        33071 non-null  float64\n",
      " 4   minPrice                     0 non-null      float64\n",
      " 5   maxPrice                     0 non-null      float64\n",
      " 6   exactSaleRentPrice           33071 non-null  float64\n",
      " 7   marketPrice                  33068 non-null  float64\n",
      " 8   nameOfSociety                26921 non-null  object \n",
      " 9   projectName                  26906 non-null  object \n",
      " 10  carpetArea                   26271 non-null  object \n",
      " 11  coveredArea                  32327 non-null  object \n",
      " 12  carpetAreaSqft               26269 non-null  object \n",
      " 13  possessionStatus             26274 non-null  object \n",
      " 14  developerName                23223 non-null  object \n",
      " 15  flooringType                 17043 non-null  object \n",
      " 16  floorNumber                  32985 non-null  object \n",
      " 17  unitCountonFloor             15819 non-null  float64\n",
      " 18  totalFloorNumber             33142 non-null  float64\n",
      " 19  electricityStatus            15706 non-null  object \n",
      " 20  waterStatus                  15759 non-null  object \n",
      " 21  longitude                    32929 non-null  float64\n",
      " 22  latitude                     32929 non-null  float64\n",
      " 23  transactionType              33464 non-null  object \n",
      " 24  facing                       18835 non-null  object \n",
      " 25  ownershipType                18882 non-null  object \n",
      " 26  carParking                   15445 non-null  object \n",
      " 27  carParkingCoWo               0 non-null      float64\n",
      " 28  bikeParkingCoWo              0 non-null      float64\n",
      " 29  furnished                    32909 non-null  object \n",
      " 30  bedrooms                     33188 non-null  object \n",
      " 31  bedroomDesc                  33188 non-null  object \n",
      " 32  bathrooms                    33197 non-null  object \n",
      " 33  bathroomsDesc                0 non-null      float64\n",
      " 34  numberOfBalconied            20217 non-null  object \n",
      " 35  numberOfBalconiedDesc        20217 non-null  object \n",
      " 36  propertyType                 33502 non-null  object \n",
      " 37  additionalRoom               16128 non-null  object \n",
      " 38  additionalRooms              16129 non-null  object \n",
      " 39  bookingAmountExact           17607 non-null  float64\n",
      " 40  maintenanceChargesFrequency  12162 non-null  object \n",
      " 41  maintenanceCharges           12162 non-null  object \n",
      " 42  ageofcons                    28402 non-null  object \n",
      " 43  isVerified                   33501 non-null  object \n",
      " 44  listingTypeDesc              33502 non-null  object \n",
      " 45  premiumProperty              33502 non-null  bool   \n",
      " 46  noOfLifts                    15177 non-null  float64\n",
      " 47  propertyAmenities            25574 non-null  object \n",
      " 48  facilitiesDesc               25574 non-null  object \n",
      " 49  propertyId                   33502 non-null  int64  \n",
      " 50  url                          33499 non-null  object \n",
      "dtypes: bool(1), float64(14), int64(1), object(35)\n",
      "memory usage: 12.8+ MB\n"
     ]
    }
   ],
   "source": [
    "df.info()"
   ]
  },
  {
   "cell_type": "code",
   "execution_count": 4,
   "metadata": {},
   "outputs": [
    {
     "data": {
      "text/plain": [
       "localityName                     2.056594\n",
       "landMarks                       48.110561\n",
       "locality                         1.856606\n",
       "price                            1.286490\n",
       "minPrice                       100.000000\n",
       "maxPrice                       100.000000\n",
       "exactSaleRentPrice               1.286490\n",
       "marketPrice                      1.295445\n",
       "nameOfSociety                   19.643603\n",
       "projectName                     19.688377\n",
       "carpetArea                      21.583786\n",
       "coveredArea                      3.507253\n",
       "carpetAreaSqft                  21.589756\n",
       "possessionStatus                21.574831\n",
       "developerName                   30.681750\n",
       "flooringType                    49.128410\n",
       "floorNumber                      1.543191\n",
       "unitCountonFloor                52.781923\n",
       "totalFloorNumber                 1.074563\n",
       "electricityStatus               53.119217\n",
       "waterStatus                     52.961017\n",
       "longitude                        1.710346\n",
       "latitude                         1.710346\n",
       "transactionType                  0.113426\n",
       "facing                          43.779476\n",
       "ownershipType                   43.639186\n",
       "carParking                      53.898275\n",
       "carParkingCoWo                 100.000000\n",
       "bikeParkingCoWo                100.000000\n",
       "furnished                        1.770044\n",
       "bedrooms                         0.937257\n",
       "bedroomDesc                      0.937257\n",
       "bathrooms                        0.910393\n",
       "bathroomsDesc                  100.000000\n",
       "numberOfBalconied               39.654349\n",
       "numberOfBalconiedDesc           39.654349\n",
       "propertyType                     0.000000\n",
       "additionalRoom                  51.859590\n",
       "additionalRooms                 51.856606\n",
       "bookingAmountExact              47.444929\n",
       "maintenanceChargesFrequency     63.697690\n",
       "maintenanceCharges              63.697690\n",
       "ageofcons                       15.222972\n",
       "isVerified                       0.002985\n",
       "listingTypeDesc                  0.000000\n",
       "premiumProperty                  0.000000\n",
       "noOfLifts                       54.698227\n",
       "propertyAmenities               23.664259\n",
       "facilitiesDesc                  23.664259\n",
       "propertyId                       0.000000\n",
       "url                              0.008955\n",
       "dtype: float64"
      ]
     },
     "execution_count": 4,
     "metadata": {},
     "output_type": "execute_result"
    }
   ],
   "source": [
    "df.isna().sum()/df.shape[0]*100"
   ]
  },
  {
   "cell_type": "code",
   "execution_count": 43,
   "metadata": {},
   "outputs": [
    {
     "data": {
      "text/plain": [
       "1042"
      ]
     },
     "execution_count": 43,
     "metadata": {},
     "output_type": "execute_result"
    }
   ],
   "source": [
    "df['localityName'].nunique()"
   ]
  },
  {
   "cell_type": "markdown",
   "metadata": {},
   "source": [
    "### Dataset Description and Notes\n",
    "\n",
    "1. The details on locality of the property is given by these columns - [localityName, landMarks, locality]. Of these, localityName and locality are almost the same. A few values here and there are different. Different in the sense that for some rows,  for example locality has value \"Pimple Saudagar\" and localityName has value \"Pimple Saudagar, Pimpri Chinchwad\" or vice versa. That is, extra info in one of them. As for the landMarks column, it has landmarks in detail. It's not that useful for EDA as there are a lot lot more unique values for landmark than locality and localityName.\n",
    "2. The price of the property is given in the price column. It's an integer throughout with few null values.\n",
    "3. The name of the society/building/project is given in [nameOfSociety, projectName] columns. Like locality and localityName, these too have few unique values relative to the dataset size. Also, most of rows have same values for both these columns except a few hundred.\n",
    "4. The area of the flat is given in [carpetArea, coveredArea] columns. The two areas are different. Generally, carpet area is smaller than covered area. Covered are also includes conventionally useless area like that of pillars, base, etc. In preliminary cleaning, I found that more number of carpetArea have null values than coveredArea. One good trick to impute carpetARea is to use coveredArea that is find relation between them to impute the values.\n",
    "5. The column carpetAreaSqft gives the price per square feet of carpetArea.\n",
    "6. The column possessionStatus is a categorical column describing the possession Status of the property with 3 possible values - 'Ready to Move', 'Under Construction' and 'Immediately'. However, there are a lot of missing values. Almost 25 percent.\n",
    "7. The column developerName gives the name of the developer who has built or is building the project or society.\n",
    "8. The column floorNumber is exactly what it looks like. It tells the floor number on which the flat is located in the building or apartment. The good thing is, it has almost no null values. The bad thing is, it's string type because of three specific unique values among rest of the numeric ones - 'Ground', 'Upper Basement' and 'Lower Basement'\n",
    "9. For column 'unitCountonFloor' - I don't exactly know what it means. I thought it's the number of flats per floor. But, that might not be the case for all values because It also has values like 501, 703, etc. The 501 value might suggest 1st flat on 5th floor and the flat number is 501. I checked the occurrence of these weird values greater than 100 and they are very very few compared to others. The bad thing is almost half values are null. This column won't be useful for price prediction as the user generally doesn't care about the number of flats per floor.\n",
    "10. The column totalFloorNumber gives the total number of floors in the building. Prelimary exploration showed a few outlier values like 100 and 200 but luckily, there are very few rows with these outlier values. Also a good thing is, there are very few null values in this column.\n",
    "11. The column electricityStatus tells the condition of powercuts and electricity availability for that property. It's categorical with almost all values being category 'No/Rare Powercut' and rest categories combined don't even sum it to 100. The bad thing is half the values are null. And the rest half have just a single category except a few. Just from this I can tell that this feature isn't useful at all.\n",
    "12. The column waterStatus is similar to electricityStatus but for water. Just like electricityStatus, here too half the rows are null and rest half have just a single value - '24 Hours Available' except a few of them. Similar to electricityStatus, this column or feature too seems useless at first glance.\n",
    "13. The columns [longitude, latitude] are exactly what they look like. good thing is very few values are null. Bad thing is we don't exactly have a way of validating the data or checking for outliers and stuff. One tip is that this is bound by location of pune City. So, there's a upper and lower bound on the latitudes and longtitudes.\n",
    "14. Column transactionType tells the type of transaction obviously. It's categorical with 2 majority categories being 'Resale' and 'New Property'. Rest of the categories ('Rent' and 'Others') combined don't even sum up to 50. So, they can be ignored probably. Also, because we don't want the rent transaction types. One more good thing is this column has only 35 null values.\n",
    "15. The column facing tells the direction in which the property is facing like East, West, North-West, etc. This might look unimportant to a common man's eye. But, in India, there's something called Vastu that people believe in. According to that, the direction of the property is important. But, there are two unfortunate things about it. We can't quantify people's feelings and beliefs and how it affects the prices and second is that half the rows have null values.\n",
    "16. The column ownershipType tells the type of ownership you get with the property. It's categorical with the four categories being 'Freehold', 'Co-operative Society', 'Leasehold' and 'Power of Attorney'. unfortunate thing is that 35-40 percent of the values are empty.\n",
    "17. The columns [carParking_Open, carParking_Covered] have number of car parkings alloted for that property also in terms of whether those parkings are covered, open or one or many of both. They have integer values. There is a small issue though. There are some weird values in either or both columns like 15 or 503 or 201 which are obviously impossible. Here's what I think. When the property lister filled the details for properties with such values, they misinterpreted what they were supposed to fill. Maybe instead of filling the number of parking spaces alloted to the property, they filled total available parking spaces which would justify 15 as the value. Similary, someone might have filled the flat number as the parking ID for this value which might justify values like 203 and 501 where they look like flat numbers. Luckily, these weird numbers are few in quantity. Unfortunately though, more than half the values are null. Also for the rows where there are null values, either both carParking_Covered and carParking_Open are null or none of them are.\n",
    "18. The column 'furnished' tells the furnishing type of the property. It's categorical with three categories - 'Unfurnished', 'Semi-furnished' and 'Furnished'. Good thing is, there are only a few hundred null values.\n",
    "19. The columns [bedrooms, bathrooms] have the number of bedrooms and bathrooms obviously in numeric form except one unique value which is 'More than 10'. Both the columns have this value. However, the number of properties which have this value is negligible (less than 10). So, if needed, can be substituted as 11 or 15 or some number like that. Another good thing is, there are very few null values in these columns.\n",
    "20. The column 'numberOfBalconied' is similar to bedrooms and bathrooms. It tells number of balconies in the property. It has all numeric values except one - 'More than 10'. But, there area only 2 rows with that value. Also, bad news is that almost 40 percent values are null.\n",
    "21. The column 'propertyType' has the type of the apartment or property. It has 4 categories - 'Multistorey Apartment', 'Builder Floor Apartment', 'Studio Apartment' and 'Penthouse' with almost all of them being 'Multistorey Apartment'. Good thing is almost no rows have null values. I don't know the meaning of 'Builder Floor Apartment'. Here's what I found on google - \"A builder floor apartment is a residential unit that is typically located on the ground, first, or second floor of a low-rise building. Each floor is a self-contained unit with its own entrance, and the owner has greater control over their personal space than in a flat or apartment.\"\n",
    "22. The column bookingAmountExact tells the booking amount needed to be paid to reserve the flat or property before buying it. Sort of like retainers for lawyers. But, it doesn't seem relevant as price will be the target variable. And based on the price, this amount will be dependent. Also, half the values are empty.\n",
    "23. The column 'maintenanceCharges' tells the maintenance charges that are to be paid by the owner of the property once they buy it. These charges are periodic.\n",
    "24. The column 'maintenanceChargesFrequency' tells the frequency of maintenance charges to be paid by the owner.\n",
    "25. The column 'ageofcons' is a categorical column that gives the age of construction of that property or the building the property is located in. The categories are ['Less than 5 years', 'Under Construction', '5 to 10 years', 'New Construction', '10 to 15 years', '15 to 20 years', 'Above 20 years']. Sort of bad thing is that almost 15 percent values are null.\n",
    "26. The column 'isVerified' is a categorical column telling the verification details of the property by the real estate site. The categories are 'Yes', 'No' and 'Others'. Most of them are 'No'. None of the values are null. But, I don't think this will be a relevant feature because it's too specific to this website and is not reproducible. And it's not a feature inherent to a property.\n",
    "27. The column 'listingTypeDesc' tells us the type of listing it is in specific terms. It's categorical with these categories - ['Standard', 'Premium', 'Prime', 'Certified', 'Titanium', 'Platinum']. The good thing is that very few rows are null. The unfortunate thing is that just like the 'isVerified' column, this feature is not inherent to a property. It's specific to the website and is not reproducible and cannot be taken as an input for new data point when prediciting price.\n",
    "28. The column 'premiumProperty' is a boolean column. It tells whether a property is Premium or not. Again, this is not an inherent characteristic of the property istelf. And the classification criterion for a property being premium is subjective. So, this feature too seems useless for price prediction.\n",
    "29. The column 'noOfLifts' gives the number of lifts or elevator units present in the property or the building housing the property. It's numeric with values ranging from 1 to 10. So, there are no outliers. But, more than half the values are null.\n",
    "30. The column 'uuid' contains the UUIDs I created and assigned to each row.\n",
    "31. There are a few columns with prefix 'flooringType' with the suffix as the specific flooring type. These are the columns - [flooringType_Vitrified, flooringType_CeramicTiles, flooringType_Marble, flooringType_NormalTilesKotahStone, flooringType_Granite, flooringType_Wooden, flooringType_Mosaic, flooringType_Marbonite]. They are boolean columns. They basically tell if that property has or doesn't have these specific flooring types. They also contain Null values.\n",
    "32. There are a few columns with prefix 'additionalRoom' with the suffix as the specific additional room. These are the columns - [additionalRoom_PujaRoom, additionalRoom_Study, additionalRoom_Store, additionalRoom_ServantRoom]\n",
    "33. The columns [propertyId, URL] are just metadata columns for the properties. They can't be used for prediction obviously, but can be useful for other things. Let's not touch them for now.\n",
    "34. The columns [facilitiesDesc, propertyAmenities] have the same data but in different formats. So, I only considered facilitiesDesc column. This column has a list in form of string which gives the amenities the property has. The issue was that there were too many unique amenties. So, I created another dataset entirely for this. In it, there's uuid column to match property with the amenities and each unique amenity as a boolean column. These columns have True if the property has that specific amenity and False if it doesn't. There are no null values. There's a major issue with this. There are sooo many amenities which have very very low number of true values. We should probably cut them down."
   ]
  },
  {
   "cell_type": "markdown",
   "metadata": {},
   "source": [
    "### Cleaning Notes and ToDo:\n",
    "\n",
    "1. Columns: [minPrice, maxPrice, carParkingCoWo, bikeParkingCoWo, bathroomsDesc] are empty. Need to be dropped.\n",
    "2. For columns ['coveredArea', 'carpetAreaSqft', 'carpetArea'], convert them first to object, then replace ',' with '' and then convert them to integer.\n",
    "3. Can directly convert [price, exactSaleRentPrice, marketPrice] to integer. price and exactSaleRentPrice are equal. Can drop exactSaleRentPrice. Can drop 'marketPrice' column as it has more NaNs than [price, exactSaleRentPrice]\n",
    "4. Columns [nameOfSociety, projectName] - convert to object, strip trailing spaces. Check for doublespaces, weird characters and remove them. Check and remove unicode characters if found. Then convert to title case.\n",
    "5. For possessionStatus column, simply convert to string, then apply title case.\n",
    "6. For [developerName, flooringType] - convert to object, strip trailing spaces. Check for doublespaces, weird characters and remove them.\n",
    "8. For floorNumber - convert to object, strip trailing spaces. Check for doublespaces. No other weird characters present. But, not all values are numeric. 3 of them are categories are 'Ground', 'Upper Basement' and 'Lower Basement'. Handle that in EDA and stuff\n",
    "9. For [unitCountonFloor, totalFloorNumber] directly convert to integer.\n",
    "10. For [electricityStatus, waterStatus, transactionType, facing, ownershipType] directly convert to string.\n",
    "11. For [latitude, longitude] directly convert to float.\n",
    "12. For column '' - convert to object, strip trailing spaces. Check for doublespaces, weird characters and remove them.\n",
    "13. For column 'furnished', convert to categorical directly. There are only 3 unique values along with NA values. So, convert to categorical directly.\n",
    "14. For [bedrooms, bedroomDesc], convert to string Dtype. Then, strip trailing spaces. Then removesuffix('.0') from it. Then, only one problem remains for '> 10' and '10-plus'. Replace them with 'More than 10'. Then, leave it as string. Will be handled in EDA. However, after this cleaning, these columns will be the same. SO, can drop 'bedroomDesc' column.\n",
    "15. Same for bathrooms column. Convert to string Dtype. Then, strip trailing spaces. Then removesuffix('.0') from it. Then, only one problem remains for '> 10'. Replace it with 'More than 10'. Then, leave it as string.\n",
    "16. Same for [numberOfBalconiedDesc, numberOfBalconied] convert to string Dtype. Then, strip trailing spaces. Then removesuffix('.0') from it. Then, only one problem remains for '> 10' and '10-plus'. Replace them with 'More than 10'. Then, leave it as string. Will be handled in EDA. However, after this cleaning, these columns will be the same. SO, can drop 'numberOfBalconiedDesc' column.\n",
    "17. For 'propertyType' column, convert to categorical directly. There are only 3 unique values along with NA values. So, convert to categorical directly.\n",
    "18. For 'additionalRooms' and 'flooringType' columns, they have lists of different values in rows. I can't keep them as lists obviously. So, I have written a function that takes in the dataframe and returns a modified one with additional columns. Directly use that function to transform the columns. The function is named 'transform_additionalRooms_and_flooringType'.\n",
    "19. Function 'bookingAmountExact' can be converted to integer directly.\n",
    "20. For 'maintenanceChargesFrequency' column, convert to categorical directly.\n",
    "21. For 'maintenanceCharges' column, convert to stringDtype firts. Then replace ',' with ''. Then check for values containing 'Lac' in them. For those values, strip ' Lac' from suffix. Then, remove . caharacter from those values. Then add 4 zeroes to the end. Then after all this, convert the column to integer.\n",
    "22. For 'ageofcons', directly convert to categorical.\n",
    "23. For 'isVerified', there are only 3 unique values - Y, N, O. So, replace them with Yes, No, Other respectively. Let NA values be NA only. Then, convert to categorical.\n",
    "24. For 'listingTypeDesc', convert to string dtype. Then, use series str replace to replace ' Listing| Listings' with empty string with regex True. Then, simply replace 'Primes' with 'Prime' and then directly convert to categorical.\n",
    "25. For 'premiumProperty' directly convert to boolean.\n",
    "26. For 'noOfLifts', directly convert to integer.\n",
    "27. For 'carParking' column, convert to string dtype. The values in this are either NaN or items like '1 Covered, 2 Open' or '2 Covered' or '1 Open'. So, I have a custom function extract_parking that takes in series items as input and returns a series with 2 indices - carParking_Open and carParking_Covered. You can create new columns from this function. Then, convert to int dtype.\n",
    "28. For 'propertyAmenities' and 'facilitiesDesc', convert directly to string Dtype.\n",
    "29. For columns 'localityName', 'landMarks', 'locality' convert to string Dtype, strip trailing spaces, remove any double spaces or unicode characters and fill null values with pd.NA\n",
    "\n",
    "**NOTE TO SELF**: \n",
    "1. When using data types, use pandas data types. Not numpy data types. Like pd.Int64Dtype(), pd.Float64Dtype() etc.\n",
    "2. Try to use method chaining and other pandas best practices and efficient code."
   ]
  },
  {
   "cell_type": "markdown",
   "metadata": {},
   "source": [
    "### EDA Notes and ToDo\n",
    "\n",
    "\n",
    "5. Create a new column 'localityNew' and copy all values from 'locality' column. Now, for all the rows where 'locality' and 'loclityName' are different, prompt an LLM to help choose which to keep based on specified criteria. Also, for rows where 'localityName' is null, just copy the value from 'locality' column. Drop 'locality', 'localityName' columns after completing the above step.\n",
    "7. Multi-pronged outlier detection and removal for 'price' column.\n",
    "8. Outlier detection and removal for 'area' columns.\n",
    "9. For floorNumber - Not all values are numeric. 3 of them are categories are 'Ground', 'Upper Basement' and 'Lower Basement'. Handle that in EDA and stuff\n",
    "10. For 'unitCountonFloor' - I don't exactly know what it means. I though it's the number of flats per floor. But, it's not. It also has values like 501, 703, etc.\n",
    "11. For 'totalFloorNumber' - check for outliers. Found values like 101 and 200.\n",
    "12. For 'facing', check for hyphens and spaces and use replace function to correct them.\n",
    "13. For column 'carParking' - values are like '1 Covered', '503 Open'. The numeric values are not given in same context. For example, for some rows, the values like '2 Covered' may imply that there are 2 covered parking spaces. But, for some other rows with values like '503 Open', it may imply that there is 1 open parking space for flat number 503. So, need to check for this and correct the values.\n",
    "14. Columns bedrooms - This columns is string type. There's one issue with this column. There's one value which is 'More than 10'. Rest are all numeric.\n",
    "15. Same for bathrooms - This columns is string type. There's one issue with this column. There's one value which is 'More than 10'. Rest are all numeric.\n",
    "16. Same for numberOfBalconied column - This columns is string type. There's one issue with this column. There's one value which is 'More than 10'. Rest are all numeric.\n",
    "17. There are multiple columns with prefix additionalRooms. These columns are boolean to represent which additional rooms the property has. For example, two of the columns are additionalRooms_Study and additionalRooms_ServantRoom.\n",
    "18. There are multiple columns with prefix flooringType. These are boolean to represent which flooring type the property has. For example, two of the columns are flooringType_Vitrified and flooringType_Ceramic.\n",
    "19. "
   ]
  },
  {
   "cell_type": "markdown",
   "metadata": {},
   "source": [
    "### Missing Values"
   ]
  },
  {
   "cell_type": "markdown",
   "metadata": {},
   "source": [
    "#### Inspecting Price columns for missing values"
   ]
  },
  {
   "cell_type": "code",
   "execution_count": 3,
   "metadata": {},
   "outputs": [
    {
     "data": {
      "text/plain": [
       "<Axes: >"
      ]
     },
     "execution_count": 3,
     "metadata": {},
     "output_type": "execute_result"
    },
    {
     "data": {
      "image/png": "[encoded data removed]",
      "text/plain": [
       "<Figure size 2500x1000 with 2 Axes>"
      ]
     },
     "metadata": {},
     "output_type": "display_data"
    }
   ],
   "source": [
    "msno.matrix(df[['price', 'exactSaleRentPrice', 'marketPrice']])"
   ]
  },
  {
   "cell_type": "markdown",
   "metadata": {
    "vscode": {
     "languageId": "html"
    }
   },
   "source": [
    "You can see that almost all the missing values are at same indices"
   ]
  },
  {
   "cell_type": "code",
   "execution_count": 65,
   "metadata": {},
   "outputs": [],
   "source": [
    "df.sort_values(by=['price'], ascending=True).head(20).to_csv('temp.csv', index=False)"
   ]
  },
  {
   "cell_type": "code",
   "execution_count": 4,
   "metadata": {},
   "outputs": [
    {
     "data": {
      "text/html": [
       "<div>\n",
       "<style scoped>\n",
       "    .dataframe tbody tr th:only-of-type {\n",
       "        vertical-align: middle;\n",
       "    }\n",
       "\n",
       "    .dataframe tbody tr th {\n",
       "        vertical-align: top;\n",
       "    }\n",
       "\n",
       "    .dataframe thead th {\n",
       "        text-align: right;\n",
       "    }\n",
       "</style>\n",
       "<table border=\"1\" class=\"dataframe\">\n",
       "  <thead>\n",
       "    <tr style=\"text-align: right;\">\n",
       "      <th></th>\n",
       "      <th>price</th>\n",
       "      <th>exactSaleRentPrice</th>\n",
       "      <th>marketPrice</th>\n",
       "    </tr>\n",
       "  </thead>\n",
       "  <tbody>\n",
       "    <tr>\n",
       "      <th>17790</th>\n",
       "      <td>13600000.0</td>\n",
       "      <td>13600000.0</td>\n",
       "      <td>NaN</td>\n",
       "    </tr>\n",
       "    <tr>\n",
       "      <th>33163</th>\n",
       "      <td>1900000.0</td>\n",
       "      <td>1900000.0</td>\n",
       "      <td>NaN</td>\n",
       "    </tr>\n",
       "    <tr>\n",
       "      <th>33323</th>\n",
       "      <td>2400000.0</td>\n",
       "      <td>2400000.0</td>\n",
       "      <td>NaN</td>\n",
       "    </tr>\n",
       "  </tbody>\n",
       "</table>\n",
       "</div>"
      ],
      "text/plain": [
       "            price  exactSaleRentPrice  marketPrice\n",
       "17790  13600000.0          13600000.0          NaN\n",
       "33163   1900000.0           1900000.0          NaN\n",
       "33323   2400000.0           2400000.0          NaN"
      ]
     },
     "execution_count": 4,
     "metadata": {},
     "output_type": "execute_result"
    }
   ],
   "source": [
    "mask1 = df['price'].isnull() | df['exactSaleRentPrice'].isnull() | df['marketPrice'].isnull()\n",
    "mask2 = df['price'].isnull() & df['exactSaleRentPrice'].isnull() & df['marketPrice'].isnull()\n",
    "\n",
    "df.loc[mask1 & ~mask2, ['price', 'exactSaleRentPrice', 'marketPrice']]"
   ]
  },
  {
   "cell_type": "markdown",
   "metadata": {},
   "source": [
    "This code was to check rows where atleast one value was NaN but not all 3. You can see that 'marketPrice' column can be dropped as it's the only column that has all NaNs where others don't."
   ]
  },
  {
   "cell_type": "code",
   "execution_count": 48,
   "metadata": {},
   "outputs": [
    {
     "data": {
      "text/plain": [
       "0"
      ]
     },
     "execution_count": 48,
     "metadata": {},
     "output_type": "execute_result"
    }
   ],
   "source": [
    "df[['price', 'exactSaleRentPrice']].astype('Int64').query('price != exactSaleRentPrice').shape[0]"
   ]
  },
  {
   "cell_type": "markdown",
   "metadata": {},
   "source": [
    "This tells that the columns 'price' and 'exactSaleRentPrice' are the same everywhere. So, we can drop 'exactSaleRentPrice'"
   ]
  },
  {
   "cell_type": "markdown",
   "metadata": {},
   "source": [
    "#### Inspecting Locality columns for missing values"
   ]
  },
  {
   "cell_type": "code",
   "execution_count": null,
   "metadata": {},
   "outputs": [
    {
     "data": {
      "text/plain": [
       "<Axes: >"
      ]
     },
     "execution_count": 6,
     "metadata": {},
     "output_type": "execute_result"
    },
    {
     "data": {
      "image/png": "[encoded data removed]",
      "text/plain": [
       "<Figure size 2500x1000 with 2 Axes>"
      ]
     },
     "metadata": {},
     "output_type": "display_data"
    }
   ],
   "source": [
    "msno.matrix(df[['locality', 'landMarks', 'localityName']])"
   ]
  },
  {
   "cell_type": "markdown",
   "metadata": {},
   "source": [
    "Most of the data in 'landMarks' column is missing. And 'locality' and 'localityName' have almost all missing values same rows."
   ]
  },
  {
   "cell_type": "code",
   "execution_count": 24,
   "metadata": {},
   "outputs": [
    {
     "data": {
      "text/html": [
       "<div>\n",
       "<style scoped>\n",
       "    .dataframe tbody tr th:only-of-type {\n",
       "        vertical-align: middle;\n",
       "    }\n",
       "\n",
       "    .dataframe tbody tr th {\n",
       "        vertical-align: top;\n",
       "    }\n",
       "\n",
       "    .dataframe thead th {\n",
       "        text-align: right;\n",
       "    }\n",
       "</style>\n",
       "<table border=\"1\" class=\"dataframe\">\n",
       "  <thead>\n",
       "    <tr style=\"text-align: right;\">\n",
       "      <th></th>\n",
       "      <th>locality</th>\n",
       "      <th>landMarks</th>\n",
       "      <th>localityName</th>\n",
       "    </tr>\n",
       "  </thead>\n",
       "  <tbody>\n",
       "    <tr>\n",
       "      <th>26905</th>\n",
       "      <td>Hadapsar</td>\n",
       "      <td>NaN</td>\n",
       "      <td>Hadapsar</td>\n",
       "    </tr>\n",
       "    <tr>\n",
       "      <th>5847</th>\n",
       "      <td>Wakad</td>\n",
       "      <td>Near to Mumbai-Bengaluru highway back side  of...</td>\n",
       "      <td>Wakad</td>\n",
       "    </tr>\n",
       "    <tr>\n",
       "      <th>23649</th>\n",
       "      <td>Kondhwa</td>\n",
       "      <td>NaN</td>\n",
       "      <td>Kondhwa</td>\n",
       "    </tr>\n",
       "    <tr>\n",
       "      <th>8986</th>\n",
       "      <td>Baner</td>\n",
       "      <td>Pancard Club Road</td>\n",
       "      <td>Baner</td>\n",
       "    </tr>\n",
       "    <tr>\n",
       "      <th>3842</th>\n",
       "      <td>Joggers Park</td>\n",
       "      <td>NaN</td>\n",
       "      <td>Joggers Park</td>\n",
       "    </tr>\n",
       "    <tr>\n",
       "      <th>31357</th>\n",
       "      <td>Pan Card Club Road</td>\n",
       "      <td>The property is close to Balewadi highstreet.</td>\n",
       "      <td>Pan Card Club Road</td>\n",
       "    </tr>\n",
       "    <tr>\n",
       "      <th>30701</th>\n",
       "      <td>Dattanagar Ambegaon BK</td>\n",
       "      <td>NaN</td>\n",
       "      <td>Dattanagar Ambegaon BK</td>\n",
       "    </tr>\n",
       "    <tr>\n",
       "      <th>14132</th>\n",
       "      <td>Wagholi</td>\n",
       "      <td>NaN</td>\n",
       "      <td>Wagholi</td>\n",
       "    </tr>\n",
       "    <tr>\n",
       "      <th>30056</th>\n",
       "      <td>Thergaon</td>\n",
       "      <td>NaN</td>\n",
       "      <td>Thergaon, Pimpri Chinchwad</td>\n",
       "    </tr>\n",
       "    <tr>\n",
       "      <th>7273</th>\n",
       "      <td>Mundhwa</td>\n",
       "      <td>Near EON IT park</td>\n",
       "      <td>Mundhwa</td>\n",
       "    </tr>\n",
       "  </tbody>\n",
       "</table>\n",
       "</div>"
      ],
      "text/plain": [
       "                     locality  \\\n",
       "26905                Hadapsar   \n",
       "5847                    Wakad   \n",
       "23649                 Kondhwa   \n",
       "8986                    Baner   \n",
       "3842             Joggers Park   \n",
       "31357      Pan Card Club Road   \n",
       "30701  Dattanagar Ambegaon BK   \n",
       "14132                 Wagholi   \n",
       "30056                Thergaon   \n",
       "7273                  Mundhwa   \n",
       "\n",
       "                                               landMarks  \\\n",
       "26905                                                NaN   \n",
       "5847   Near to Mumbai-Bengaluru highway back side  of...   \n",
       "23649                                                NaN   \n",
       "8986                                   Pancard Club Road   \n",
       "3842                                                 NaN   \n",
       "31357      The property is close to Balewadi highstreet.   \n",
       "30701                                                NaN   \n",
       "14132                                                NaN   \n",
       "30056                                                NaN   \n",
       "7273                                    Near EON IT park   \n",
       "\n",
       "                     localityName  \n",
       "26905                    Hadapsar  \n",
       "5847                        Wakad  \n",
       "23649                     Kondhwa  \n",
       "8986                        Baner  \n",
       "3842                 Joggers Park  \n",
       "31357          Pan Card Club Road  \n",
       "30701      Dattanagar Ambegaon BK  \n",
       "14132                     Wagholi  \n",
       "30056  Thergaon, Pimpri Chinchwad  \n",
       "7273                      Mundhwa  "
      ]
     },
     "execution_count": 24,
     "metadata": {},
     "output_type": "execute_result"
    }
   ],
   "source": [
    "df[['locality', 'localityName']].to_csv('temp.csv', index=True)\n",
    "df[['locality', 'landMarks', 'localityName']].sample(10)"
   ]
  },
  {
   "cell_type": "markdown",
   "metadata": {},
   "source": [
    "The landmark column has too many missing values. Also, loaclity and localityName seem to have required data about the locality. Can drop 'landmark' column."
   ]
  },
  {
   "cell_type": "code",
   "execution_count": 27,
   "metadata": {},
   "outputs": [
    {
     "name": "stdout",
     "output_type": "stream",
     "text": [
      "(67, 2)\n"
     ]
    },
    {
     "data": {
      "text/plain": [
       "locality         0\n",
       "localityName    67\n",
       "dtype: int64"
      ]
     },
     "execution_count": 27,
     "metadata": {},
     "output_type": "execute_result"
    }
   ],
   "source": [
    "mask1 = df['locality'].isnull() | df['localityName'].isnull()\n",
    "mask2 = df['locality'].isnull() & df['localityName'].isnull()\n",
    "\n",
    "print(df.loc[mask1 & ~mask2, ['locality', 'localityName']].shape)\n",
    "df.loc[mask1 & ~mask2, ['locality', 'localityName']].isnull().sum()"
   ]
  },
  {
   "cell_type": "markdown",
   "metadata": {},
   "source": [
    "This code was to check rows where atleast one value was NaN but not all 2. We can see that for those specific rows, locality column has values while localityName has all NaN. So, if only one column is to be kept, we can keep 'locality' column."
   ]
  },
  {
   "cell_type": "code",
   "execution_count": 28,
   "metadata": {},
   "outputs": [
    {
     "name": "stdout",
     "output_type": "stream",
     "text": [
      "(11471, 2)\n"
     ]
    },
    {
     "data": {
      "text/html": [
       "<div>\n",
       "<style scoped>\n",
       "    .dataframe tbody tr th:only-of-type {\n",
       "        vertical-align: middle;\n",
       "    }\n",
       "\n",
       "    .dataframe tbody tr th {\n",
       "        vertical-align: top;\n",
       "    }\n",
       "\n",
       "    .dataframe thead th {\n",
       "        text-align: right;\n",
       "    }\n",
       "</style>\n",
       "<table border=\"1\" class=\"dataframe\">\n",
       "  <thead>\n",
       "    <tr style=\"text-align: right;\">\n",
       "      <th></th>\n",
       "      <th>locality</th>\n",
       "      <th>localityName</th>\n",
       "    </tr>\n",
       "  </thead>\n",
       "  <tbody>\n",
       "    <tr>\n",
       "      <th>476</th>\n",
       "      <td>&lt;NA&gt;</td>\n",
       "      <td>&lt;NA&gt;</td>\n",
       "    </tr>\n",
       "    <tr>\n",
       "      <th>2958</th>\n",
       "      <td>Chikhali</td>\n",
       "      <td>Chikhali Pimpri Chinchwad</td>\n",
       "    </tr>\n",
       "    <tr>\n",
       "      <th>9358</th>\n",
       "      <td>&lt;NA&gt;</td>\n",
       "      <td>&lt;NA&gt;</td>\n",
       "    </tr>\n",
       "    <tr>\n",
       "      <th>29402</th>\n",
       "      <td>Manik Baug</td>\n",
       "      <td>Manik Baug, Anand Nagar</td>\n",
       "    </tr>\n",
       "    <tr>\n",
       "      <th>12781</th>\n",
       "      <td>Punawale</td>\n",
       "      <td>Punawale, Pimpri Chinchwad</td>\n",
       "    </tr>\n",
       "    <tr>\n",
       "      <th>13136</th>\n",
       "      <td>Bhonde Colony</td>\n",
       "      <td>Bhonde Colony, Erandwane, Karve Road</td>\n",
       "    </tr>\n",
       "    <tr>\n",
       "      <th>31136</th>\n",
       "      <td>&lt;NA&gt;</td>\n",
       "      <td>&lt;NA&gt;</td>\n",
       "    </tr>\n",
       "    <tr>\n",
       "      <th>26469</th>\n",
       "      <td>Charholi Budruk</td>\n",
       "      <td>Charholi BK</td>\n",
       "    </tr>\n",
       "    <tr>\n",
       "      <th>17332</th>\n",
       "      <td>Magarpatta City</td>\n",
       "      <td>Magarpatta</td>\n",
       "    </tr>\n",
       "    <tr>\n",
       "      <th>28921</th>\n",
       "      <td>Manaji Nagar</td>\n",
       "      <td>Manaji Nagar Narhe</td>\n",
       "    </tr>\n",
       "  </tbody>\n",
       "</table>\n",
       "</div>"
      ],
      "text/plain": [
       "              locality                          localityName\n",
       "476               <NA>                                  <NA>\n",
       "2958          Chikhali             Chikhali Pimpri Chinchwad\n",
       "9358              <NA>                                  <NA>\n",
       "29402       Manik Baug               Manik Baug, Anand Nagar\n",
       "12781         Punawale            Punawale, Pimpri Chinchwad\n",
       "13136    Bhonde Colony  Bhonde Colony, Erandwane, Karve Road\n",
       "31136             <NA>                                  <NA>\n",
       "26469  Charholi Budruk                           Charholi BK\n",
       "17332  Magarpatta City                            Magarpatta\n",
       "28921     Manaji Nagar                    Manaji Nagar Narhe"
      ]
     },
     "execution_count": 28,
     "metadata": {},
     "output_type": "execute_result"
    }
   ],
   "source": [
    "print(df[['locality', 'localityName']].astype(pd.StringDtype()).map(lambda x: x.strip() if pd.notnull(x) else x).query('locality != localityName').shape)\n",
    "df[['locality', 'localityName']].astype(pd.StringDtype()).map(lambda x: x.strip() if pd.notnull(x) else x).query('locality != localityName').sample(10)"
   ]
  },
  {
   "cell_type": "markdown",
   "metadata": {},
   "source": [
    "There are 11471 rows where locality and localityName aren't the same."
   ]
  },
  {
   "cell_type": "markdown",
   "metadata": {},
   "source": [
    "#### Inspecting nameOfSociety and projectName"
   ]
  },
  {
   "cell_type": "code",
   "execution_count": 30,
   "metadata": {},
   "outputs": [
    {
     "data": {
      "text/plain": [
       "<Axes: >"
      ]
     },
     "execution_count": 30,
     "metadata": {},
     "output_type": "execute_result"
    },
    {
     "data": {
      "image/png": "[encoded data removed]",
      "text/plain": [
       "<Figure size 2500x1000 with 2 Axes>"
      ]
     },
     "metadata": {},
     "output_type": "display_data"
    }
   ],
   "source": [
    "msno.matrix(df[['nameOfSociety', 'projectName']])"
   ]
  },
  {
   "cell_type": "code",
   "execution_count": 37,
   "metadata": {},
   "outputs": [
    {
     "name": "stdout",
     "output_type": "stream",
     "text": [
      "(0, 2)\n"
     ]
    },
    {
     "data": {
      "text/html": [
       "<div>\n",
       "<style scoped>\n",
       "    .dataframe tbody tr th:only-of-type {\n",
       "        vertical-align: middle;\n",
       "    }\n",
       "\n",
       "    .dataframe tbody tr th {\n",
       "        vertical-align: top;\n",
       "    }\n",
       "\n",
       "    .dataframe thead th {\n",
       "        text-align: right;\n",
       "    }\n",
       "</style>\n",
       "<table border=\"1\" class=\"dataframe\">\n",
       "  <thead>\n",
       "    <tr style=\"text-align: right;\">\n",
       "      <th></th>\n",
       "      <th>nameOfSociety</th>\n",
       "      <th>projectName</th>\n",
       "    </tr>\n",
       "  </thead>\n",
       "  <tbody>\n",
       "    <tr>\n",
       "      <th>39</th>\n",
       "      <td>Vignahar Apartments</td>\n",
       "      <td>Vighnahar Krupa Apartment</td>\n",
       "    </tr>\n",
       "    <tr>\n",
       "      <th>65</th>\n",
       "      <td>Kumar Prerna</td>\n",
       "      <td>Kumar Prerana</td>\n",
       "    </tr>\n",
       "    <tr>\n",
       "      <th>82</th>\n",
       "      <td>Rajveer App</td>\n",
       "      <td>Rajveer Apartment</td>\n",
       "    </tr>\n",
       "    <tr>\n",
       "      <th>104</th>\n",
       "      <td>Moraya Basil.</td>\n",
       "      <td>Moraya Darshan</td>\n",
       "    </tr>\n",
       "    <tr>\n",
       "      <th>109</th>\n",
       "      <td>Shree Samarth Sankul</td>\n",
       "      <td>Shree Swami Samarth Sankul Apartment</td>\n",
       "    </tr>\n",
       "    <tr>\n",
       "      <th>...</th>\n",
       "      <td>...</td>\n",
       "      <td>...</td>\n",
       "    </tr>\n",
       "    <tr>\n",
       "      <th>33222</th>\n",
       "      <td>Shiv Angan</td>\n",
       "      <td>Ace Almighty</td>\n",
       "    </tr>\n",
       "    <tr>\n",
       "      <th>33273</th>\n",
       "      <td>Kohinoor S3 Lifestyle</td>\n",
       "      <td>Mirchandani Palms</td>\n",
       "    </tr>\n",
       "    <tr>\n",
       "      <th>33412</th>\n",
       "      <td>Yuthika</td>\n",
       "      <td>Paranjape Yuthika</td>\n",
       "    </tr>\n",
       "    <tr>\n",
       "      <th>33458</th>\n",
       "      <td>Rohan Tarang</td>\n",
       "      <td>Latitude</td>\n",
       "    </tr>\n",
       "    <tr>\n",
       "      <th>33476</th>\n",
       "      <td>Rohan Tarang</td>\n",
       "      <td>Pristine Grandeur</td>\n",
       "    </tr>\n",
       "  </tbody>\n",
       "</table>\n",
       "<p>585 rows × 2 columns</p>\n",
       "</div>"
      ],
      "text/plain": [
       "               nameOfSociety                           projectName\n",
       "39       Vignahar Apartments             Vighnahar Krupa Apartment\n",
       "65              Kumar Prerna                         Kumar Prerana\n",
       "82               Rajveer App                     Rajveer Apartment\n",
       "104            Moraya Basil.                        Moraya Darshan\n",
       "109     Shree Samarth Sankul  Shree Swami Samarth Sankul Apartment\n",
       "...                      ...                                   ...\n",
       "33222             Shiv Angan                          Ace Almighty\n",
       "33273  Kohinoor S3 Lifestyle                     Mirchandani Palms\n",
       "33412                Yuthika                     Paranjape Yuthika\n",
       "33458           Rohan Tarang                              Latitude\n",
       "33476           Rohan Tarang                     Pristine Grandeur\n",
       "\n",
       "[585 rows x 2 columns]"
      ]
     },
     "execution_count": 37,
     "metadata": {},
     "output_type": "execute_result"
    }
   ],
   "source": [
    "mask1 = df['nameOfSociety'].isnull() | df['projectName'].isnull()\n",
    "mask2 = df['nameOfSociety'].isnull() | df['projectName'].isnull()\n",
    "\n",
    "print(df.loc[mask1 & ~mask2, ['nameOfSociety', 'projectName']].shape)\n",
    "df[['nameOfSociety', 'projectName']].map(lambda x: x.strip().title() if pd.notnull(x) else x).dropna().query('nameOfSociety != projectName')"
   ]
  },
  {
   "cell_type": "markdown",
   "metadata": {},
   "source": [
    "#### Inspecting area columns"
   ]
  },
  {
   "cell_type": "code",
   "execution_count": 34,
   "metadata": {},
   "outputs": [
    {
     "data": {
      "text/plain": [
       "0        1750\n",
       "1        1720\n",
       "2        1100\n",
       "3        1255\n",
       "4        3245\n",
       "         ... \n",
       "33497     950\n",
       "33498    1000\n",
       "33499     700\n",
       "33500     818\n",
       "33501     645\n",
       "Name: coveredArea, Length: 33502, dtype: Int64"
      ]
     },
     "execution_count": 34,
     "metadata": {},
     "output_type": "execute_result"
    }
   ],
   "source": [
    "df['coveredArea'].astype(pd.StringDtype()).str.replace(',', '', regex=False).str.removesuffix('.0').astype(pd.Int64Dtype())"
   ]
  },
  {
   "cell_type": "markdown",
   "metadata": {},
   "source": [
    "#### Inspecting miscellaneous data"
   ]
  },
  {
   "cell_type": "code",
   "execution_count": 72,
   "metadata": {},
   "outputs": [
    {
     "data": {
      "text/plain": [
       "<StringArray>\n",
       "['Ready To Move', 'Immediately', <NA>, 'Under Construction']\n",
       "Length: 4, dtype: string"
      ]
     },
     "execution_count": 72,
     "metadata": {},
     "output_type": "execute_result"
    }
   ],
   "source": [
    "df['possessionStatus'].astype(pd.StringDtype()).str.title().unique()"
   ]
  },
  {
   "cell_type": "code",
   "execution_count": 86,
   "metadata": {},
   "outputs": [
    {
     "data": {
      "text/plain": [
       "count       2295.0\n",
       "mean     10.118954\n",
       "std      35.589496\n",
       "min            1.0\n",
       "25%            1.0\n",
       "50%            3.0\n",
       "75%            7.0\n",
       "max          717.0\n",
       "Name: count, dtype: Float64"
      ]
     },
     "execution_count": 86,
     "metadata": {},
     "output_type": "execute_result"
    }
   ],
   "source": [
    "df['developerName'].astype(pd.StringDtype()).str.strip().str.title().value_counts().describe()"
   ]
  },
  {
   "cell_type": "code",
   "execution_count": 247,
   "metadata": {},
   "outputs": [
    {
     "name": "stdout",
     "output_type": "stream",
     "text": [
      "['Vitrified', 'Ceramic Tiles', 'Marble', 'Normal Tiles/Kotah Stone', 'Granite', 'Wooden', 'Mosaic', 'Marbonite']\n"
     ]
    }
   ],
   "source": [
    "srs = df['flooringType'].astype(pd.StringDtype()).str.strip().str.split(', ')\n",
    "\n",
    "li = []\n",
    "for items in srs:\n",
    "    if type(items) is list:\n",
    "        for item in items:\n",
    "            li.append(item) if item not in li else None\n",
    "\n",
    "print(li)"
   ]
  },
  {
   "cell_type": "code",
   "execution_count": 102,
   "metadata": {},
   "outputs": [
    {
     "data": {
      "text/plain": [
       "<StringArray>\n",
       "[             '1',             '13',              '2',             <NA>,\n",
       "             '21',             '29',              '4',              '3',\n",
       "              '6',              '5',             '11',              '8',\n",
       "              '7',         'Ground',              '9',             '10',\n",
       "             '14',             '12',             '15', 'Upper Basement',\n",
       "             '16',             '24',             '34', 'Lower Basement',\n",
       "             '20',             '18',             '22',             '19',\n",
       "             '23',             '27',             '25',             '17',\n",
       "             '28',             '37',             '40',             '33',\n",
       "             '30',             '31',             '32',             '26',\n",
       "             '38',             '39']\n",
       "Length: 42, dtype: string"
      ]
     },
     "execution_count": 102,
     "metadata": {},
     "output_type": "execute_result"
    }
   ],
   "source": [
    "df['floorNumber'].astype(pd.StringDtype()).unique()"
   ]
  },
  {
   "cell_type": "code",
   "execution_count": 106,
   "metadata": {},
   "outputs": [
    {
     "data": {
      "text/html": [
       "<div>\n",
       "<style scoped>\n",
       "    .dataframe tbody tr th:only-of-type {\n",
       "        vertical-align: middle;\n",
       "    }\n",
       "\n",
       "    .dataframe tbody tr th {\n",
       "        vertical-align: top;\n",
       "    }\n",
       "\n",
       "    .dataframe thead th {\n",
       "        text-align: right;\n",
       "    }\n",
       "</style>\n",
       "<table border=\"1\" class=\"dataframe\">\n",
       "  <thead>\n",
       "    <tr style=\"text-align: right;\">\n",
       "      <th></th>\n",
       "      <th>locality</th>\n",
       "      <th>price</th>\n",
       "      <th>nameOfSociety</th>\n",
       "      <th>developerName</th>\n",
       "      <th>floorNumber</th>\n",
       "    </tr>\n",
       "  </thead>\n",
       "  <tbody>\n",
       "    <tr>\n",
       "      <th>644</th>\n",
       "      <td>Shivajinagar</td>\n",
       "      <td>15000000.0</td>\n",
       "      <td>NaN</td>\n",
       "      <td>NaN</td>\n",
       "      <td>Lower Basement</td>\n",
       "    </tr>\n",
       "    <tr>\n",
       "      <th>646</th>\n",
       "      <td>Pimple Gurav</td>\n",
       "      <td>3000000.0</td>\n",
       "      <td>NaN</td>\n",
       "      <td>NaN</td>\n",
       "      <td>Lower Basement</td>\n",
       "    </tr>\n",
       "    <tr>\n",
       "      <th>1374</th>\n",
       "      <td>Narhe</td>\n",
       "      <td>3500000.0</td>\n",
       "      <td>Shivam Heights</td>\n",
       "      <td>Shyam Nandan Group</td>\n",
       "      <td>Lower Basement</td>\n",
       "    </tr>\n",
       "    <tr>\n",
       "      <th>1455</th>\n",
       "      <td>Tathawade</td>\n",
       "      <td>10100000.0</td>\n",
       "      <td>Austin Arena</td>\n",
       "      <td>Gravity Landmarks</td>\n",
       "      <td>Lower Basement</td>\n",
       "    </tr>\n",
       "    <tr>\n",
       "      <th>1471</th>\n",
       "      <td>Pimpri Chinchwad</td>\n",
       "      <td>2100000.0</td>\n",
       "      <td>Daya Apartment</td>\n",
       "      <td>NaN</td>\n",
       "      <td>Lower Basement</td>\n",
       "    </tr>\n",
       "    <tr>\n",
       "      <th>...</th>\n",
       "      <td>...</td>\n",
       "      <td>...</td>\n",
       "      <td>...</td>\n",
       "      <td>...</td>\n",
       "      <td>...</td>\n",
       "    </tr>\n",
       "    <tr>\n",
       "      <th>31547</th>\n",
       "      <td>Ravet</td>\n",
       "      <td>9700000.0</td>\n",
       "      <td>Shubharambh Clara</td>\n",
       "      <td>Shubharambh properties</td>\n",
       "      <td>Lower Basement</td>\n",
       "    </tr>\n",
       "    <tr>\n",
       "      <th>31558</th>\n",
       "      <td>Punawale</td>\n",
       "      <td>6500000.0</td>\n",
       "      <td>Rudraksh</td>\n",
       "      <td>Shree Bhagwati Builders</td>\n",
       "      <td>Lower Basement</td>\n",
       "    </tr>\n",
       "    <tr>\n",
       "      <th>31751</th>\n",
       "      <td>Punawale</td>\n",
       "      <td>4700000.0</td>\n",
       "      <td>NaN</td>\n",
       "      <td>NaN</td>\n",
       "      <td>Lower Basement</td>\n",
       "    </tr>\n",
       "    <tr>\n",
       "      <th>33238</th>\n",
       "      <td>EON Free Zone</td>\n",
       "      <td>38400000.0</td>\n",
       "      <td>Bramha the Collection</td>\n",
       "      <td>Bramhacorp Ltd.</td>\n",
       "      <td>Lower Basement</td>\n",
       "    </tr>\n",
       "    <tr>\n",
       "      <th>33240</th>\n",
       "      <td>EON Free Zone</td>\n",
       "      <td>39100000.0</td>\n",
       "      <td>Bramha the Collection</td>\n",
       "      <td>Bramhacorp Ltd.</td>\n",
       "      <td>Lower Basement</td>\n",
       "    </tr>\n",
       "  </tbody>\n",
       "</table>\n",
       "<p>106 rows × 5 columns</p>\n",
       "</div>"
      ],
      "text/plain": [
       "               locality       price          nameOfSociety  \\\n",
       "644        Shivajinagar  15000000.0                    NaN   \n",
       "646        Pimple Gurav   3000000.0                    NaN   \n",
       "1374              Narhe   3500000.0         Shivam Heights   \n",
       "1455          Tathawade  10100000.0           Austin Arena   \n",
       "1471   Pimpri Chinchwad   2100000.0        Daya Apartment    \n",
       "...                 ...         ...                    ...   \n",
       "31547             Ravet   9700000.0      Shubharambh Clara   \n",
       "31558          Punawale   6500000.0               Rudraksh   \n",
       "31751          Punawale   4700000.0                    NaN   \n",
       "33238     EON Free Zone  38400000.0  Bramha the Collection   \n",
       "33240     EON Free Zone  39100000.0  Bramha the Collection   \n",
       "\n",
       "                 developerName     floorNumber  \n",
       "644                        NaN  Lower Basement  \n",
       "646                        NaN  Lower Basement  \n",
       "1374        Shyam Nandan Group  Lower Basement  \n",
       "1455         Gravity Landmarks  Lower Basement  \n",
       "1471                       NaN  Lower Basement  \n",
       "...                        ...             ...  \n",
       "31547   Shubharambh properties  Lower Basement  \n",
       "31558  Shree Bhagwati Builders  Lower Basement  \n",
       "31751                      NaN  Lower Basement  \n",
       "33238          Bramhacorp Ltd.  Lower Basement  \n",
       "33240          Bramhacorp Ltd.  Lower Basement  \n",
       "\n",
       "[106 rows x 5 columns]"
      ]
     },
     "execution_count": 106,
     "metadata": {},
     "output_type": "execute_result"
    }
   ],
   "source": [
    "df.loc[df['floorNumber'] == 'Lower Basement', ['locality', 'price', 'nameOfSociety', 'developerName', 'floorNumber']]"
   ]
  },
  {
   "cell_type": "code",
   "execution_count": 109,
   "metadata": {},
   "outputs": [
    {
     "data": {
      "text/plain": [
       "<IntegerArray>\n",
       "[<NA>,    4,    3,    7,    2,    1,    5,    8,    6,   12,  704,   32,   10,\n",
       "   14,   24,   11,  402,  701,    9,   18,  101,   13,   22,  801,   16,  107,\n",
       "   20,   15,   35,  509,   28,  307,   25,  502,   17,  200,  508,   36,   48,\n",
       "   19,   26,   30,   21,   40,   23,  240,  204,   56,  503,  103,  203,  100,\n",
       "  104,  303,  112,  505,  501,   50,   80,  302,   84,  404,  804,   69]\n",
       "Length: 64, dtype: Int64"
      ]
     },
     "execution_count": 109,
     "metadata": {},
     "output_type": "execute_result"
    }
   ],
   "source": [
    "df['unitCountonFloor'].astype('Int64').unique()"
   ]
  },
  {
   "cell_type": "code",
   "execution_count": 111,
   "metadata": {},
   "outputs": [
    {
     "data": {
      "text/plain": [
       "<IntegerArray>\n",
       "[   4,   30,    6,   12,   25,   11,   10,    9,    5,    3,    2,    8,    7,\n",
       " <NA>,   15,   24,   13,   14,   22,    1,   26,   16,   21,   34,   18,   19,\n",
       "   20,   23,   17,   29,   27,   32,   35,   28,   31,   33,   39,   37,   36,\n",
       "   45,   42,   40,   75,   38,   43,   41,   46,   77,   80,   74,   44,  200,\n",
       "  101]\n",
       "Length: 53, dtype: Int64"
      ]
     },
     "execution_count": 111,
     "metadata": {},
     "output_type": "execute_result"
    }
   ],
   "source": [
    "df['totalFloorNumber'].astype('Int64').unique()"
   ]
  },
  {
   "cell_type": "code",
   "execution_count": 116,
   "metadata": {},
   "outputs": [
    {
     "data": {
      "text/plain": [
       "array([nan, 'No/Rare Powercut', 'Less Than 2 Hour Powercut',\n",
       "       '4 To 6 Hours Powercut', 'Over 6 Hours Powercut',\n",
       "       '2 To 4 Hours Powercut'], dtype=object)"
      ]
     },
     "execution_count": 116,
     "metadata": {},
     "output_type": "execute_result"
    }
   ],
   "source": [
    "df['electricityStatus'].unique()"
   ]
  },
  {
   "cell_type": "code",
   "execution_count": 119,
   "metadata": {},
   "outputs": [
    {
     "data": {
      "text/plain": [
       "waterStatus\n",
       "24 Hours Available    15697\n",
       "12 Hours Available       37\n",
       "6 Hours Available        11\n",
       "2 Hours Available         9\n",
       "1 Hour Available          5\n",
       "Name: count, dtype: int64"
      ]
     },
     "execution_count": 119,
     "metadata": {},
     "output_type": "execute_result"
    }
   ],
   "source": [
    "df['waterStatus'].value_counts()"
   ]
  },
  {
   "cell_type": "code",
   "execution_count": 122,
   "metadata": {},
   "outputs": [
    {
     "data": {
      "text/plain": [
       "count      32929.0\n",
       "mean     18.562862\n",
       "std       0.549802\n",
       "min       8.517944\n",
       "25%      18.501097\n",
       "50%      18.552719\n",
       "75%      18.598592\n",
       "max      73.825241\n",
       "Name: latitude, dtype: Float64"
      ]
     },
     "execution_count": 122,
     "metadata": {},
     "output_type": "execute_result"
    }
   ],
   "source": [
    "df['latitude'].astype(pd.Float64Dtype()).describe()"
   ]
  },
  {
   "cell_type": "code",
   "execution_count": 123,
   "metadata": {},
   "outputs": [
    {
     "data": {
      "text/plain": [
       "array(['Resale', 'New Property', 'Rent', nan, 'Other'], dtype=object)"
      ]
     },
     "execution_count": 123,
     "metadata": {},
     "output_type": "execute_result"
    }
   ],
   "source": [
    "df['transactionType'].unique()"
   ]
  },
  {
   "cell_type": "code",
   "execution_count": 124,
   "metadata": {},
   "outputs": [
    {
     "data": {
      "text/plain": [
       "array(['East', nan, 'West', 'North', 'North - East', 'South -West',\n",
       "       'South', 'South - East', 'North - West'], dtype=object)"
      ]
     },
     "execution_count": 124,
     "metadata": {},
     "output_type": "execute_result"
    }
   ],
   "source": [
    "df['facing'].unique()"
   ]
  },
  {
   "cell_type": "code",
   "execution_count": 125,
   "metadata": {},
   "outputs": [
    {
     "data": {
      "text/plain": [
       "array(['Freehold', 'Leasehold', 'Co-operative Society', nan,\n",
       "       'Power Of Attorney'], dtype=object)"
      ]
     },
     "execution_count": 125,
     "metadata": {},
     "output_type": "execute_result"
    }
   ],
   "source": [
    "df['ownershipType'].unique()"
   ]
  },
  {
   "cell_type": "code",
   "execution_count": 126,
   "metadata": {},
   "outputs": [
    {
     "data": {
      "text/plain": [
       "array([nan, '1 Covered', '2 Covered', '1 Covered, 1 Open', '4 Covered',\n",
       "       '3 Covered', '1 Open', '9 Covered', '5 Open', '25 Open', '7 Open',\n",
       "       '9 Open', '40 Open', '5 Covered', '401 Covered', '206 Open',\n",
       "       '45 Open', '505 Covered', '2 Open', '501 Covered', '703 Open',\n",
       "       '702 Covered', '207 Open', '6 Covered', '2 Covered, 1 Open',\n",
       "       '3 Covered, 1 Open', '15 Open', '201 Covered', '10 Open',\n",
       "       '1 Covered, 3 Open', '904 Covered', '5 Covered, 11 Open',\n",
       "       '20 Covered', '22 Covered', '5 Covered, 5 Open', '44 Covered',\n",
       "       '34 Covered', '17 Covered, 11 Open', '15 Covered, 5 Open',\n",
       "       '15 Covered, 15 Open', '4 Covered, 4 Open', '11 Covered, 11 Open',\n",
       "       '120 Covered, 20 Open', '30 Covered, 15 Open',\n",
       "       '10 Covered, 5 Open', '27 Covered, 13 Open', '28 Covered, 12 Open',\n",
       "       '10 Covered, 12 Open', '20 Covered, 8 Open', '22 Covered, 5 Open',\n",
       "       '25 Covered, 15 Open', '10 Covered, 15 Open', '20 Covered, 5 Open',\n",
       "       '18 Covered, 12 Open', '32 Covered', '18 Covered', '604 Covered',\n",
       "       '30 Covered, 10 Open', '11 Covered, 9 Open', '902 Covered',\n",
       "       '10 Covered, 3 Open', '88 Covered', '6 Open',\n",
       "       '35 Covered, 13 Open', '58 Open', '123 Open', '12 Covered, 8 Open',\n",
       "       '8 Covered', '1 Covered, 2 Open', '703 Covered',\n",
       "       '4 Covered, 1 Open', '9 Covered, 6 Open', '204 Open',\n",
       "       '15 Covered, 2 Open', '2 Covered, 2 Open', '521 Covered',\n",
       "       '12 Covered, 12 Open', '3 Open', '502 Covered', '12 Open',\n",
       "       '107 Covered', '20 Open', '2 Covered, 3 Open', '14 Covered',\n",
       "       '301 Covered', '1 Covered, 301 Open', '9 Covered, 1 Open',\n",
       "       '104 Covered', '3 Covered, 2 Open', '902 Open', '8 Open',\n",
       "       '12 Covered, 4 Open', '435 Covered', '805 Covered',\n",
       "       '22 Covered, 3 Open', '4 Covered, 10 Open', '10 Covered',\n",
       "       '15 Covered, 4 Open', '30 Open', '6 Covered, 6 Open',\n",
       "       '203 Covered', '11 Open', '408 Covered', '11 Covered',\n",
       "       '12 Covered', '15 Covered', '303 Covered', '108 Covered',\n",
       "       '701 Open', '35 Covered', '153 Covered', '3 Covered, 3 Open',\n",
       "       '305 Covered', '204 Covered', '302 Covered', '17 Covered',\n",
       "       '25 Covered', '123 Covered', '105 Covered', '4 Covered, 2 Open',\n",
       "       '706 Open', '504 Covered', '48 Open', '205 Covered', '55 Covered',\n",
       "       '60 Open', '805 Open', '706 Covered', '404 Covered',\n",
       "       '4 Covered, 3 Open', '363 Covered', '99 Open', '304 Covered',\n",
       "       '901 Covered', '110 Covered', '100 Covered', '16 Covered',\n",
       "       '101 Covered', '41 Open', '1 Covered, 300 Open', '106 Covered',\n",
       "       '4 Open', '108 Open', '49 Covered, 35 Open', '313 Open',\n",
       "       '103 Open', '106 Open', '455 Covered', '234 Covered', '905 Open',\n",
       "       '7 Covered', '47 Covered', '103 Covered, 1 Open', '109 Open',\n",
       "       '26 Open'], dtype=object)"
      ]
     },
     "execution_count": 126,
     "metadata": {},
     "output_type": "execute_result"
    }
   ],
   "source": [
    "df['carParking'].unique()"
   ]
  },
  {
   "cell_type": "code",
   "execution_count": 14,
   "metadata": {},
   "outputs": [
    {
     "data": {
      "text/html": [
       "<div>\n",
       "<style scoped>\n",
       "    .dataframe tbody tr th:only-of-type {\n",
       "        vertical-align: middle;\n",
       "    }\n",
       "\n",
       "    .dataframe tbody tr th {\n",
       "        vertical-align: top;\n",
       "    }\n",
       "\n",
       "    .dataframe thead th {\n",
       "        text-align: right;\n",
       "    }\n",
       "</style>\n",
       "<table border=\"1\" class=\"dataframe\">\n",
       "  <thead>\n",
       "    <tr style=\"text-align: right;\">\n",
       "      <th></th>\n",
       "      <th>carParking_Open</th>\n",
       "      <th>carParking_Covered</th>\n",
       "    </tr>\n",
       "  </thead>\n",
       "  <tbody>\n",
       "    <tr>\n",
       "      <th>0</th>\n",
       "      <td>NaN</td>\n",
       "      <td>NaN</td>\n",
       "    </tr>\n",
       "    <tr>\n",
       "      <th>1</th>\n",
       "      <td>0.0</td>\n",
       "      <td>1.0</td>\n",
       "    </tr>\n",
       "    <tr>\n",
       "      <th>2</th>\n",
       "      <td>NaN</td>\n",
       "      <td>NaN</td>\n",
       "    </tr>\n",
       "    <tr>\n",
       "      <th>3</th>\n",
       "      <td>NaN</td>\n",
       "      <td>NaN</td>\n",
       "    </tr>\n",
       "    <tr>\n",
       "      <th>4</th>\n",
       "      <td>0.0</td>\n",
       "      <td>2.0</td>\n",
       "    </tr>\n",
       "    <tr>\n",
       "      <th>...</th>\n",
       "      <td>...</td>\n",
       "      <td>...</td>\n",
       "    </tr>\n",
       "    <tr>\n",
       "      <th>33497</th>\n",
       "      <td>0.0</td>\n",
       "      <td>1.0</td>\n",
       "    </tr>\n",
       "    <tr>\n",
       "      <th>33498</th>\n",
       "      <td>1.0</td>\n",
       "      <td>0.0</td>\n",
       "    </tr>\n",
       "    <tr>\n",
       "      <th>33499</th>\n",
       "      <td>0.0</td>\n",
       "      <td>1.0</td>\n",
       "    </tr>\n",
       "    <tr>\n",
       "      <th>33500</th>\n",
       "      <td>NaN</td>\n",
       "      <td>NaN</td>\n",
       "    </tr>\n",
       "    <tr>\n",
       "      <th>33501</th>\n",
       "      <td>NaN</td>\n",
       "      <td>NaN</td>\n",
       "    </tr>\n",
       "  </tbody>\n",
       "</table>\n",
       "<p>33502 rows × 2 columns</p>\n",
       "</div>"
      ],
      "text/plain": [
       "       carParking_Open  carParking_Covered\n",
       "0                  NaN                 NaN\n",
       "1                  0.0                 1.0\n",
       "2                  NaN                 NaN\n",
       "3                  NaN                 NaN\n",
       "4                  0.0                 2.0\n",
       "...                ...                 ...\n",
       "33497              0.0                 1.0\n",
       "33498              1.0                 0.0\n",
       "33499              0.0                 1.0\n",
       "33500              NaN                 NaN\n",
       "33501              NaN                 NaN\n",
       "\n",
       "[33502 rows x 2 columns]"
      ]
     },
     "execution_count": 14,
     "metadata": {},
     "output_type": "execute_result"
    }
   ],
   "source": [
    "srs = df['carParking'].astype(pd.StringDtype()).dropna()\n",
    "\n",
    "def extract_parking(val: str) -> pd.Series:\n",
    "    srs = pd.Series(index=['carParking_Open', 'carParking_Covered'], data=[pd.NA, pd.NA], dtype=pd.Int64Dtype())\n",
    "    if pd.isna(val):\n",
    "        srs['carParking_Open'] = pd.NA\n",
    "        srs['carParking_Covered'] = pd.NA\n",
    "        return srs\n",
    "    open_parking = pd.NA\n",
    "    close_parking = pd.NA\n",
    "    if len(val.split(', ')) == 1:\n",
    "        if 'Open' in val:\n",
    "            open_parking = int(val.removesuffix(' Open'))\n",
    "        elif 'Covered' in val:\n",
    "            close_parking = int(val.removesuffix(' Covered'))\n",
    "    else:\n",
    "        open_parking = int(re.search(r'(\\d*) Open$', val).group(1))\n",
    "        close_parking = int(re.search(r'^(\\d*) Covered', val).group(1))\n",
    "    srs['carParking_Open'] = open_parking\n",
    "    srs['carParking_Covered'] = close_parking\n",
    "    return srs\n",
    "\n",
    "# def extract_parking(srs: pd.Series) -> pd.Series:\n",
    "#     val = srs['carParking']\n",
    "#     if pd.isna(val):\n",
    "#         srs['carParking_Open'] = pd.NA\n",
    "#         srs['carParking_Covered'] = pd.NA\n",
    "#         return srs\n",
    "#     open_parking = 0\n",
    "#     close_parking = 0\n",
    "#     if len(val.split(', ')) == 1:\n",
    "#         if 'Open' in val:\n",
    "#             open_parking = int(val.removesuffix(' Open'))\n",
    "#         elif 'Covered' in val:\n",
    "#             close_parking = int(val.removesuffix(' Covered'))\n",
    "#     else:\n",
    "#         open_parking = int(re.search(r'(\\d*) Open$', val).group(1))\n",
    "#         close_parking = int(re.search(r'^(\\d*) Covered', val).group(1))\n",
    "#     srs['carParking_Open'] = open_parking\n",
    "#     srs['carParking_Covered'] = close_parking\n",
    "#     return srs\n",
    "\n",
    "df['carParking'].apply(extract_parking)\n"
   ]
  },
  {
   "cell_type": "code",
   "execution_count": 131,
   "metadata": {},
   "outputs": [
    {
     "data": {
      "text/plain": [
       "<Axes: >"
      ]
     },
     "execution_count": 131,
     "metadata": {},
     "output_type": "execute_result"
    },
    {
     "data": {
      "image/png": "[encoded data removed]",
      "text/plain": [
       "<Figure size 2500x1000 with 2 Axes>"
      ]
     },
     "metadata": {},
     "output_type": "display_data"
    }
   ],
   "source": [
    "msno.matrix(df[['bedrooms', 'bedroomDesc']])"
   ]
  },
  {
   "cell_type": "code",
   "execution_count": 174,
   "metadata": {},
   "outputs": [],
   "source": [
    "temp = df[['bedrooms', 'bedroomDesc']].dropna(how='all').astype(pd.StringDtype())\n",
    "temp['bedrooms'] = temp['bedrooms'].str.replace('> 10', '20')\n",
    "temp['bedroomDesc'] = temp['bedroomDesc'].str.replace('10-plus', '20')\n",
    "temp[['bedrooms', 'bedroomDesc']] = temp[['bedrooms', 'bedroomDesc']].astype(pd.Float32Dtype()).astype(pd.Int32Dtype())"
   ]
  },
  {
   "cell_type": "code",
   "execution_count": 177,
   "metadata": {},
   "outputs": [
    {
     "data": {
      "text/plain": [
       "0"
      ]
     },
     "execution_count": 177,
     "metadata": {},
     "output_type": "execute_result"
    }
   ],
   "source": [
    "temp.query('bedrooms != bedroomDesc').shape[0]"
   ]
  },
  {
   "cell_type": "code",
   "execution_count": 184,
   "metadata": {},
   "outputs": [
    {
     "data": {
      "text/plain": [
       "<StringArray>\n",
       "['4', '3', '2', '5', '1', <NA>, '8', '10-plus', '7', '6', '10']\n",
       "Length: 11, dtype: string"
      ]
     },
     "execution_count": 184,
     "metadata": {},
     "output_type": "execute_result"
    }
   ],
   "source": [
    "df['bedroomDesc'].astype(pd.StringDtype()).str.strip().str.removesuffix('.0').str.replace('> 10', 'More than 10').unique()"
   ]
  },
  {
   "cell_type": "code",
   "execution_count": 194,
   "metadata": {},
   "outputs": [
    {
     "data": {
      "text/plain": [
       "array([nan, '2', '1', '3', '5', '4', '10', '6', '10-plus', '7', '8', '9',\n",
       "       1.0, 2.0, 3.0, 4.0, 5.0], dtype=object)"
      ]
     },
     "execution_count": 194,
     "metadata": {},
     "output_type": "execute_result"
    }
   ],
   "source": [
    "df['numberOfBalconiedDesc'].unique()"
   ]
  },
  {
   "cell_type": "code",
   "execution_count": 191,
   "metadata": {},
   "outputs": [],
   "source": [
    "temp = df[['numberOfBalconied', 'numberOfBalconiedDesc']].dropna(how='all').astype(pd.StringDtype())\n",
    "temp['numberOfBalconied'] = temp['numberOfBalconied'].str.replace('> 10', '20')\n",
    "temp['numberOfBalconiedDesc'] = temp['numberOfBalconiedDesc'].str.replace('10-plus', '20')\n",
    "temp[['numberOfBalconied', 'numberOfBalconiedDesc']] = temp[['numberOfBalconied', 'numberOfBalconiedDesc']].astype(pd.Float32Dtype()).astype(pd.Int32Dtype())"
   ]
  },
  {
   "cell_type": "code",
   "execution_count": 192,
   "metadata": {},
   "outputs": [
    {
     "data": {
      "text/plain": [
       "0"
      ]
     },
     "execution_count": 192,
     "metadata": {},
     "output_type": "execute_result"
    }
   ],
   "source": [
    "temp.query('numberOfBalconied != numberOfBalconiedDesc').shape[0]"
   ]
  },
  {
   "cell_type": "code",
   "execution_count": 196,
   "metadata": {},
   "outputs": [
    {
     "data": {
      "text/plain": [
       "array(['Multistorey Apartment', 'Builder Floor Apartment', 'Penthouse',\n",
       "       'Studio Apartment'], dtype=object)"
      ]
     },
     "execution_count": 196,
     "metadata": {},
     "output_type": "execute_result"
    }
   ],
   "source": [
    "df['propertyType'].unique()"
   ]
  },
  {
   "cell_type": "code",
   "execution_count": 22,
   "metadata": {},
   "outputs": [
    {
     "data": {
      "text/plain": [
       "'Puja Room, Study, Store'"
      ]
     },
     "execution_count": 22,
     "metadata": {},
     "output_type": "execute_result"
    }
   ],
   "source": [
    "df['additionalRooms'][0]"
   ]
  },
  {
   "cell_type": "code",
   "execution_count": 246,
   "metadata": {},
   "outputs": [
    {
     "data": {
      "text/plain": [
       "['Puja Room', 'Study', 'Store', 'None of these', 'Servant Room']"
      ]
     },
     "execution_count": 246,
     "metadata": {},
     "output_type": "execute_result"
    }
   ],
   "source": [
    "li = []\n",
    "srs = df['additionalRooms'].astype(pd.StringDtype()).str.strip('[] ')\n",
    "srs = srs.str.replace(\"'\", \"\")\n",
    "srs = srs.str.split(', ')\n",
    "\n",
    "for items in srs:\n",
    "    if type(items) is list:\n",
    "        for item in items:\n",
    "            li.append(item) if item not in li else None\n",
    "\n",
    "li"
   ]
  },
  {
   "cell_type": "code",
   "execution_count": 261,
   "metadata": {},
   "outputs": [],
   "source": [
    "\n",
    "def transform_additionalRooms_and_flooringType(df: pd.DataFrame) -> pd.DataFrame:\n",
    "    # Make a copy so we don't modify the original dataframe\n",
    "    df_new = df.copy()\n",
    "\n",
    "    # Define the parsing function\n",
    "    def parse_list_string(s):\n",
    "        if pd.isna(s):\n",
    "            return pd.NA\n",
    "        s = s.strip(\"[] \")\n",
    "        if not s:\n",
    "            return pd.NA\n",
    "        items = [x.strip().strip(\"'\") for x in s.split(\",\") if x.strip() != \"\"]\n",
    "        return items if len(items) > 0 else pd.NA\n",
    "\n",
    "    # Parse the columns\n",
    "    df_new['flooringType_parsed'] = df_new['flooringType'].apply(parse_list_string)\n",
    "    df_new['additionalRooms_parsed'] = df_new['additionalRooms'].apply(parse_list_string)\n",
    "\n",
    "    # Unique categories\n",
    "    flooring_cats = [\n",
    "        'Vitrified', 'Ceramic Tiles', 'Marble', 'Normal Tiles/Kotah Stone',\n",
    "        'Granite', 'Wooden', 'Mosaic', 'Marbonite'\n",
    "    ]\n",
    "    add_rooms_cats = ['Puja Room', 'Study', 'Store', 'Servant Room']\n",
    "    # (We exclude 'None of these' from the columns)\n",
    "\n",
    "    # Create new columns for flooringType\n",
    "    for cat in flooring_cats:\n",
    "        col_name = f\"flooringType_{cat.replace(' ', '').replace('/', '')}\"\n",
    "        df_new[col_name] = pd.Series(dtype=\"boolean\")  # nullable boolean column\n",
    "        for i, vals in df_new['flooringType_parsed'].items():\n",
    "            if vals is pd.NA:\n",
    "                df_new.loc[i, col_name] = pd.NA\n",
    "            else:\n",
    "                df_new.loc[i, col_name] = (cat in vals)\n",
    "\n",
    "\n",
    "    # Create new columns for additionalRooms\n",
    "    for cat in add_rooms_cats:\n",
    "        col_name = f\"additionalRoom_{cat.replace(' ', '')}\"\n",
    "        df_new[col_name] = pd.Series(dtype=\"boolean\")\n",
    "        for i, vals in df_new['additionalRooms_parsed'].items():\n",
    "            if vals is pd.NA:\n",
    "                df_new.loc[i, col_name] = pd.NA\n",
    "            else:\n",
    "                if vals == ['None of these']:\n",
    "                    df_new.loc[i, col_name] = False\n",
    "                else:\n",
    "                    df_new.loc[i, col_name] = (cat in vals)\n",
    "\n",
    "\n",
    "    # Optionally, drop the parsed columns if not needed\n",
    "    df_new = df_new.drop(columns=['flooringType_parsed', 'additionalRooms_parsed'])\n",
    "\n",
    "    return df_new\n",
    "\n",
    "tempdf = transform_additionalRooms_and_flooringType(df)\n"
   ]
  },
  {
   "cell_type": "code",
   "execution_count": 285,
   "metadata": {},
   "outputs": [],
   "source": [
    "tempdf[['flooringType'] + tempdf.columns.to_list()[-12:-4] + ['additionalRooms'] + tempdf.columns.to_list()[-4:]].to_csv('temp.csv', index=False)"
   ]
  },
  {
   "cell_type": "code",
   "execution_count": null,
   "metadata": {},
   "outputs": [],
   "source": []
  },
  {
   "cell_type": "code",
   "execution_count": null,
   "metadata": {},
   "outputs": [
    {
     "data": {
      "text/plain": [
       "count           17607.0\n",
       "mean      400021.429999\n",
       "std      1136067.998644\n",
       "min                 0.0\n",
       "25%            100000.0\n",
       "50%            200000.0\n",
       "75%            500000.0\n",
       "max          54000000.0\n",
       "Name: bookingAmountExact, dtype: Float64"
      ]
     },
     "execution_count": 288,
     "metadata": {},
     "output_type": "execute_result"
    }
   ],
   "source": [
    "df['bookingAmountExact'].astype('Int64')"
   ]
  },
  {
   "cell_type": "code",
   "execution_count": 314,
   "metadata": {},
   "outputs": [
    {
     "data": {
      "text/plain": [
       "853      15.0 Lac\n",
       "1469      3.0 Lac\n",
       "1527      8.0 Lac\n",
       "1679      1.8 Lac\n",
       "1760      1.3 Lac\n",
       "           ...   \n",
       "33312     1.0 Lac\n",
       "33316     1.0 Lac\n",
       "33318     1.0 Lac\n",
       "33320     1.0 Lac\n",
       "33322     1.0 Lac\n",
       "Name: maintenanceCharges, Length: 110, dtype: object"
      ]
     },
     "execution_count": 314,
     "metadata": {},
     "output_type": "execute_result"
    }
   ],
   "source": [
    "df['maintenanceCharges'].dropna().loc[df['maintenanceCharges'].dropna().astype(pd.StringDtype()).str.replace(',', '').str.contains(r'\\W', regex=True)]"
   ]
  },
  {
   "cell_type": "code",
   "execution_count": 310,
   "metadata": {},
   "outputs": [
    {
     "data": {
      "text/plain": [
       "1         7200\n",
       "4        11375\n",
       "7         7500\n",
       "11        7500\n",
       "13       10000\n",
       "         ...  \n",
       "33494     3500\n",
       "33496        1\n",
       "33497        1\n",
       "33498        3\n",
       "33499        3\n",
       "Name: maintenanceCharges, Length: 12162, dtype: Int64"
      ]
     },
     "execution_count": 310,
     "metadata": {},
     "output_type": "execute_result"
    }
   ],
   "source": [
    "df['maintenanceCharges'].dropna().astype(pd.StringDtype()).str.replace(',', '').str.replace(r'\\.\\d Lac', '', regex=True).astype('Int64')"
   ]
  },
  {
   "cell_type": "code",
   "execution_count": 312,
   "metadata": {},
   "outputs": [
    {
     "data": {
      "text/plain": [
       "array(['15 to 20 years', 'Less than 5 years', nan, 'New Construction',\n",
       "       '5 to 10 years', '10 to 15 years', 'Above 20 years',\n",
       "       'Under Construction'], dtype=object)"
      ]
     },
     "execution_count": 312,
     "metadata": {},
     "output_type": "execute_result"
    }
   ],
   "source": [
    "df['ageofcons'].unique()"
   ]
  },
  {
   "cell_type": "code",
   "execution_count": 313,
   "metadata": {},
   "outputs": [
    {
     "data": {
      "text/plain": [
       "array(['N', 'Y', 'O', nan], dtype=object)"
      ]
     },
     "execution_count": 313,
     "metadata": {},
     "output_type": "execute_result"
    }
   ],
   "source": [
    "df['isVerified'].unique()"
   ]
  },
  {
   "cell_type": "code",
   "execution_count": 321,
   "metadata": {},
   "outputs": [
    {
     "data": {
      "text/plain": [
       "<StringArray>\n",
       "['Standard', 'Prime', 'Titanium', 'Certified', 'Platinum', 'Premium']\n",
       "Length: 6, dtype: string"
      ]
     },
     "execution_count": 321,
     "metadata": {},
     "output_type": "execute_result"
    }
   ],
   "source": [
    "df['listingTypeDesc'].astype(pd.StringDtype()).str.replace(' Listing| Listings', '', regex=True).str.replace('Primes', 'Prime').unique()"
   ]
  },
  {
   "cell_type": "code",
   "execution_count": 323,
   "metadata": {},
   "outputs": [
    {
     "data": {
      "text/plain": [
       "0        False\n",
       "1         True\n",
       "2         True\n",
       "3        False\n",
       "4         True\n",
       "         ...  \n",
       "33497     True\n",
       "33498     True\n",
       "33499     True\n",
       "33500    False\n",
       "33501    False\n",
       "Name: premiumProperty, Length: 33502, dtype: bool"
      ]
     },
     "execution_count": 323,
     "metadata": {},
     "output_type": "execute_result"
    }
   ],
   "source": [
    "df['premiumProperty']"
   ]
  },
  {
   "cell_type": "code",
   "execution_count": 326,
   "metadata": {},
   "outputs": [
    {
     "data": {
      "text/plain": [
       "0        <NA>\n",
       "1           3\n",
       "2           2\n",
       "3        <NA>\n",
       "4           3\n",
       "         ... \n",
       "33497       2\n",
       "33498       2\n",
       "33499       2\n",
       "33500    <NA>\n",
       "33501    <NA>\n",
       "Name: noOfLifts, Length: 33502, dtype: Int32"
      ]
     },
     "execution_count": 326,
     "metadata": {},
     "output_type": "execute_result"
    }
   ],
   "source": [
    "df['noOfLifts'].astype('Int32')"
   ]
  },
  {
   "cell_type": "code",
   "execution_count": 341,
   "metadata": {},
   "outputs": [
    {
     "name": "stdout",
     "output_type": "stream",
     "text": [
      "157\n"
     ]
    }
   ],
   "source": [
    "srs = df['facilitiesDesc'].astype(pd.StringDtype()).str.split(', ')\n",
    "\n",
    "li = {}\n",
    "\n",
    "for items in srs:\n",
    "    if type(items) is list:\n",
    "        for item in items:\n",
    "            if li.get(item) is None:\n",
    "                li[item] = 1\n",
    "            else:\n",
    "                li[item] += 1\n",
    "\n",
    "print(len(li))\n",
    "pd.Series(li).sort_values(ascending=False).to_csv('temp.csv')"
   ]
  },
  {
   "cell_type": "code",
   "execution_count": 43,
   "metadata": {},
   "outputs": [
    {
     "data": {
      "text/plain": [
       "{'12202': 'Lift',\n",
       " '12204': 'Club House',\n",
       " '12205': 'Swimming Pool',\n",
       " '12206': 'Gymnasium',\n",
       " '12207': 'Park',\n",
       " '12208': 'Reserved Parking',\n",
       " '12209': 'Security',\n",
       " '12213': 'Vaastu Compliant',\n",
       " '12217': 'Intercom Facility',\n",
       " '12219': 'Waste Disposal',\n",
       " '12221': 'Internet/Wi-Fi Connectivity',\n",
       " '12226': 'Cafeteria/Food Court'}"
      ]
     },
     "execution_count": 43,
     "metadata": {},
     "output_type": "execute_result"
    }
   ],
   "source": [
    "import json\n",
    "json.loads(df['propertyAmenities'].astype(pd.StringDtype()).str.replace(\"'\", '\"')[0])"
   ]
  },
  {
   "cell_type": "code",
   "execution_count": null,
   "metadata": {},
   "outputs": [],
   "source": []
  },
  {
   "cell_type": "code",
   "execution_count": null,
   "metadata": {},
   "outputs": [],
   "source": []
  },
  {
   "cell_type": "code",
   "execution_count": null,
   "metadata": {},
   "outputs": [],
   "source": []
  },
  {
   "cell_type": "code",
   "execution_count": null,
   "metadata": {},
   "outputs": [],
   "source": []
  },
  {
   "cell_type": "markdown",
   "metadata": {},
   "source": [
    "### Cleaning ToDo\n",
    "\n",
    "1. For per sq ft price, check if price/carpetArea and price/coveredArea match the respective column values\n",
    "2. There are a few features which are represented by multiple columns. For example; price, landmark/locality and society/project name have multiple columns. So, check their values for multiple sample rows and keep only the best one for further analysis.\n",
    "3. In carParking, the text may contain values like \"2 Open\". We need to extract those relevant details\n",
    "4. Estimating carpetArea from coveredArea"
   ]
  },
  {
   "cell_type": "code",
   "execution_count": null,
   "metadata": {},
   "outputs": [],
   "source": []
  },
  {
   "cell_type": "code",
   "execution_count": null,
   "metadata": {},
   "outputs": [
    {
     "data": {
      "text/plain": [
       "['localityNameMerge_v1.json',\n",
       " 'localityNameMerge_v2.json',\n",
       " 'localityNameMerge_v3.json',\n",
       " 'localityNameMerge_v4.json',\n",
       " 'localityNameMerge_v5.json']"
      ]
     },
     "execution_count": 136,
     "metadata": {},
     "output_type": "execute_result"
    }
   ],
   "source": []
  },
  {
   "cell_type": "markdown",
   "metadata": {},
   "source": [
    "## Final Cleaning"
   ]
  },
  {
   "cell_type": "code",
   "execution_count": 16,
   "metadata": {},
   "outputs": [
    {
     "name": "stderr",
     "output_type": "stream",
     "text": [
      "C:\\Users\\bhagy\\AppData\\Local\\Temp\\ipykernel_7612\\869631796.py:6: DtypeWarning: Columns (34,35) have mixed types. Specify dtype option on import or set low_memory=False.\n",
      "  df = pd.read_csv('Data/rawExtractedPropertyDetails.csv')\n"
     ]
    }
   ],
   "source": [
    "import pandas as pd\n",
    "import re\n",
    "import json\n",
    "import os\n",
    "\n",
    "df = pd.read_csv('Data/rawExtractedPropertyDetails.csv')\n",
    "\n",
    "# localityNameMerge = {}\n",
    "\n",
    "# localityNameMerge_items = [item for item in os.listdir('./LocalitiesMerge/') if item.endswith('.json') and 'localityNameMerge_v' in item]\n",
    "# for key in localityNameMerge_items:\n",
    "#     with open(f\"./LocalitiesMerge/{key}\", 'r') as f:\n",
    "#         localityNameMerge[key.rstrip('.json')] = json.load(f)\n"
   ]
  },
  {
   "cell_type": "code",
   "execution_count": null,
   "metadata": {},
   "outputs": [],
   "source": [
    "def clean_string_col(series: pd.Series) -> pd.Series:\n",
    "    # Helper function to clean strings: strip, collapse spaces, remove weird chars if needed\n",
    "    series = series.astype(pd.StringDtype())\n",
    "    series = series.str.strip()\n",
    "    # Replace multiple spaces with a single space\n",
    "    series = series.str.replace(r'\\s+', ' ', regex=True)\n",
    "    # If needed, remove weird/unicode chars (example, remove non-printable)\n",
    "    series = series.str.replace(r'[^\\x00-\\x7F]+', '', regex=True)\n",
    "    # series = series.str.title()\n",
    "    return series\n",
    "\n",
    "def clean_numeric_with_commas(series: pd.Series) -> pd.Series:\n",
    "    series = series.astype(pd.StringDtype())\n",
    "    series = series.str.replace(',', '', regex=False)\n",
    "    series = series.str.removesuffix('.0')\n",
    "    return series.astype(pd.Int64Dtype())\n",
    "\n",
    "def clean_bed_bath_balcony(series: pd.Series) -> pd.Series:\n",
    "    series = series.astype(pd.StringDtype()).str.strip()\n",
    "    # Remove suffix '.0'\n",
    "    series = series.str.replace(r'\\.0$', '', regex=True)\n",
    "    # Replace '> 10' and '10-plus' with 'More than 10'\n",
    "    series = series.str.replace(r'>\\s?10', 'More than 10', regex=True)\n",
    "    series = series.str.replace('10-plus', 'More than 10', regex=False)\n",
    "    return series\n",
    "\n",
    "def clean_maintenance_charges(series: pd.Series) -> pd.Series:\n",
    "    # Convert to string and remove commas\n",
    "    series = series.astype(pd.StringDtype())\n",
    "    series = series.str.replace(',', '', regex=False)\n",
    "    # Identify and handle 'Lac'\n",
    "    lac_mask = series.str.contains('Lac', na=False)\n",
    "    # For Lac values, remove ' Lac', remove '.', then add '0000'\n",
    "    series_lac = series[lac_mask].str.replace(' Lac', '', regex=False)\n",
    "    series_lac = series_lac.str.replace('.', '', regex=False)\n",
    "    series_lac = series_lac + '0000'\n",
    "    series.loc[lac_mask] = series_lac\n",
    "    # Identify and handle 'Cr'\n",
    "    cr_mask = series.str.contains('Cr', na=False)\n",
    "    # For Lac values, remove ' Lac', remove '.', then add '0000'\n",
    "    series_cr = series[cr_mask].str.replace(' Cr', '', regex=False)\n",
    "    series_cr = series_cr.str.replace('.', '', regex=False)\n",
    "    series_cr = series_cr + '00000'\n",
    "    series.loc[cr_mask] = series_cr\n",
    "    # Convert everything to int\n",
    "    return series.astype(pd.Int64Dtype())\n",
    "\n",
    "def clean_listing_type(series: pd.Series) -> pd.Series:\n",
    "    series = series.astype(pd.StringDtype())\n",
    "    series = series.str.replace(r' Listings?', '', regex=True)\n",
    "    series = series.str.replace('Primes', 'Prime', regex=False)\n",
    "    return series.astype('category')\n",
    "\n",
    "def clean_isVerified(series: pd.Series) -> pd.Series:\n",
    "    mapping = {'Y': 'Yes', 'N': 'No', 'O': 'Other'}\n",
    "    return series.replace(mapping).astype(pd.CategoricalDtype())\n",
    "\n",
    "def transform_additionalRooms_and_flooringType(df: pd.DataFrame) -> pd.DataFrame:\n",
    "    # Make a copy so we don't modify the original dataframe\n",
    "    df_new = df.copy()\n",
    "\n",
    "    # Define the parsing function\n",
    "    def parse_list_string(s: str) -> list:\n",
    "        if pd.isna(s):\n",
    "            return pd.NA\n",
    "        s = s.strip(\"[] \")\n",
    "        s = re.sub(r'\\W+', '', s)\n",
    "        if not s:\n",
    "            return pd.NA\n",
    "        items = [x.strip().strip(\"'\") for x in s.split(\",\") if x.strip() != \"\"]\n",
    "        return items if len(items) > 0 else pd.NA\n",
    "\n",
    "    # Parse the columns\n",
    "    df_new['flooringType_parsed'] = df_new['flooringType'].apply(parse_list_string)\n",
    "    df_new['additionalRooms_parsed'] = df_new['additionalRooms'].apply(parse_list_string)\n",
    "\n",
    "    # Unique categories\n",
    "    flooring_cats = [\n",
    "        'Vitrified', 'Ceramic Tiles', 'Marble', 'Normal Tiles/Kotah Stone',\n",
    "        'Granite', 'Wooden', 'Mosaic', 'Marbonite'\n",
    "    ]\n",
    "    add_rooms_cats = ['Puja Room', 'Study', 'Store', 'Servant Room']\n",
    "    # (We exclude 'None of these' from the columns)\n",
    "\n",
    "    # Create new columns for flooringType\n",
    "    for cat in flooring_cats:\n",
    "        col_name = f\"flooringType_{cat.replace(' ', '').replace('/', '')}\"\n",
    "        df_new[col_name] = pd.Series(dtype=\"boolean\")  # nullable boolean column\n",
    "        for i, vals in df_new['flooringType_parsed'].items():\n",
    "            if vals is pd.NA:\n",
    "                df_new.loc[i, col_name] = pd.NA\n",
    "            else:\n",
    "                df_new.loc[i, col_name] = (cat in vals)\n",
    "\n",
    "\n",
    "    # Create new columns for additionalRooms\n",
    "    for cat in add_rooms_cats:\n",
    "        col_name = f\"additionalRoom_{cat.replace(' ', '')}\"\n",
    "        df_new[col_name] = pd.Series(dtype=\"boolean\")\n",
    "        for i, vals in df_new['additionalRooms_parsed'].items():\n",
    "            if vals is pd.NA:\n",
    "                df_new.loc[i, col_name] = pd.NA\n",
    "            else:\n",
    "                if vals == ['None of these']:\n",
    "                    df_new.loc[i, col_name] = False\n",
    "                else:\n",
    "                    df_new.loc[i, col_name] = (cat in vals)\n",
    "\n",
    "\n",
    "    # Optionally, drop the parsed columns if not needed\n",
    "    df_new = df_new.drop(columns=['flooringType_parsed', 'additionalRooms_parsed'])\n",
    "\n",
    "    return df_new\n",
    "\n",
    "def extract_parking(srs: pd.Series) -> pd.Series:\n",
    "    val = srs['carParking']\n",
    "    srs = srs.drop(labels=['carParking'])\n",
    "    if pd.isna(val):\n",
    "        srs['carParking_Open'] = pd.NA\n",
    "        srs['carParking_Covered'] = pd.NA\n",
    "        return srs\n",
    "    open_parking = pd.NA\n",
    "    close_parking = pd.NA\n",
    "    if len(val.split(', ')) == 1:\n",
    "        if 'Open' in val:\n",
    "            open_parking = int(val.removesuffix(' Open'))\n",
    "            close_parking = 0\n",
    "        elif 'Covered' in val:\n",
    "            close_parking = int(val.removesuffix(' Covered'))\n",
    "            open_parking = 0\n",
    "    else:\n",
    "        open_parking = int(re.search(r'(\\d*) Open$', val).group(1))\n",
    "        close_parking = int(re.search(r'^(\\d*) Covered', val).group(1))\n",
    "    srs['carParking_Open'] = open_parking\n",
    "    srs['carParking_Covered'] = close_parking\n",
    "    return srs\n",
    "    \n",
    "\n",
    "def extract_propertyAmenities(df: pd.DataFrame) -> pd.DataFrame:\n",
    "    # Make a copy so we don't modify the original dataframe\n",
    "    df_new = df.copy()\n",
    "\n",
    "    # Define the parsing function\n",
    "    def parse_list_string(s: str) -> list:\n",
    "        if pd.isna(s):\n",
    "            return pd.NA\n",
    "        s = s.strip(\"[] \")\n",
    "        if not s:\n",
    "            return pd.NA\n",
    "        items = [re.sub(r'\\W+', '', x.strip().strip(\"'\")) \n",
    "                 for x in s.split(\",\") if x.strip() != \"\"]\n",
    "        return items if len(items) > 0 else pd.NA\n",
    "\n",
    "    # Parse the columns\n",
    "    df_new['amenities_parsed'] = df_new['facilitiesDesc'].apply(parse_list_string)\n",
    "\n",
    "    # Explode\n",
    "    df_exploded = df_new[['propertyId', 'amenities_parsed']].explode('amenities_parsed')\n",
    "    df_exploded = df_exploded.dropna(subset=['amenities_parsed'])\n",
    "\n",
    "    # Mark presence\n",
    "    df_exploded['val'] = True\n",
    "\n",
    "    # Pivot to get Boolean columns\n",
    "    amenities_pivot = df_exploded.pivot_table(index='propertyId',\n",
    "                                             columns='amenities_parsed',\n",
    "                                             values='val',\n",
    "                                             fill_value=False)\n",
    "    amenities_pivot = amenities_pivot.astype(bool)\n",
    "\n",
    "    return amenities_pivot\n",
    "\n",
    "def clean_dataset(df: pd.DataFrame) -> pd.DataFrame:\n",
    "\n",
    "    df['propertyId'] = df['propertyId'].astype(pd.StringDtype())\n",
    "    df['url'] = df['url'].astype(pd.StringDtype()).str.strip()\n",
    "\n",
    "    # A) Drop columns\n",
    "    df = df.drop(columns=['minPrice', 'maxPrice', 'carParkingCoWo', 'bikeParkingCoWo', 'bathroomsDesc', 'numberOfBalconiedDesc', 'bedroomDesc', 'additionalRoom', 'exactSaleRentPrice', 'marketPrice'], errors='ignore')\n",
    "    \n",
    "    # B) Numeric conversions\n",
    "    df['coveredArea'] = clean_numeric_with_commas(df['coveredArea'])\n",
    "    df['carpetAreaSqft'] = clean_numeric_with_commas(df['carpetAreaSqft'])\n",
    "    df['carpetArea'] = clean_numeric_with_commas(df['carpetArea'])\n",
    "\n",
    "    for col in ['price', 'bookingAmountExact', 'unitCountonFloor', 'totalFloorNumber', 'noOfLifts']:\n",
    "        df[col] = df[col].astype(pd.Int64Dtype())\n",
    "\n",
    "    df['latitude'] = df['latitude'].astype(pd.Float64Dtype())\n",
    "    df['longitude'] = df['longitude'].astype(pd.Float64Dtype())\n",
    "\n",
    "    # C) String cleaning\n",
    "    # nameOfSociety, projectName, developerName, floorNumber\n",
    "    for col in ['nameOfSociety', 'projectName', 'developerName', 'floorNumber', 'possessionStatus', 'electricityStatus', 'waterStatus', 'transactionType', 'facing', 'ownershipType', 'propertyAmenities', 'facilitiesDesc', 'localityName', 'landMarks', 'locality']:\n",
    "        df[col] = clean_string_col(df[col])\n",
    "\n",
    "    # Title case for nameOfSociety and projectName\n",
    "    df['nameOfSociety'] = df['nameOfSociety'].str.title()\n",
    "    df['projectName'] = df['projectName'].str.title()\n",
    "    df['possessionStatus'] = df['possessionStatus'].str.title()\n",
    "\n",
    "    # Replacing single quotes with double quotes so that it becomes a valid JSON string\n",
    "    df['propertyAmenities'] = df['propertyAmenities'].str.replace(\"'\", '\"', regex=False)\n",
    "\n",
    "    # Convert furnished, propertyType, ageofcons, maintenanceChargesFrequency to categorical\n",
    "    cat_cols = ['furnished', 'propertyType', 'ageofcons', 'maintenanceChargesFrequency']\n",
    "    for col in cat_cols:\n",
    "        df[col] = df[col].astype('category')\n",
    "\n",
    "    # isVerified\n",
    "    df['isVerified'] = clean_isVerified(df['isVerified'])\n",
    "\n",
    "    # listingTypeDesc\n",
    "    df['listingTypeDesc'] = clean_listing_type(df['listingTypeDesc'])\n",
    "\n",
    "    # premiumProperty\n",
    "    df['premiumProperty'] = df['premiumProperty'].astype(pd.BooleanDtype())\n",
    "\n",
    "    # D) Complex formatting: bedrooms, bedroomDesc, bathrooms, numberOfBalconied, numberOfBalconiedDesc\n",
    "    df['bedrooms'] = clean_bed_bath_balcony(df['bedrooms'])\n",
    "    print(df['bedrooms'].unique())\n",
    "    df['bathrooms'] = clean_bed_bath_balcony(df['bathrooms'])\n",
    "    print(df['bathrooms'].unique())\n",
    "    df['numberOfBalconied'] = clean_bed_bath_balcony(df['numberOfBalconied'])\n",
    "    print(df['numberOfBalconied'].unique())\n",
    "\n",
    "    # E) Maintenance charges\n",
    "    df['maintenanceCharges'] = clean_maintenance_charges(df['maintenanceCharges'])\n",
    "\n",
    "    # F) additionalRooms and flooringType using given function\n",
    "    df = transform_additionalRooms_and_flooringType(df)\n",
    "    # flooringType might need additional cleaning if still raw strings\n",
    "    df['flooringType'] = clean_string_col(df['flooringType'])\n",
    "\n",
    "    # G) Car parking\n",
    "    # parking_df = extract_parking(df['carParking'])\n",
    "    # df = pd.concat([df.drop(columns=['carParking']), parking_df.astype(pd.Int64Dtype())], axis=1)\n",
    "    df['carParking'] = clean_string_col(df['carParking'])\n",
    "    parking_df = df[['propertyId', 'carParking']].apply(extract_parking, axis=1)\n",
    "    parking_df[['carParking_Open', 'carParking_Covered']] = parking_df[['carParking_Open', 'carParking_Covered']].astype(pd.Int64Dtype())\n",
    "    df = df.merge(parking_df, on='propertyId', how='left')\n",
    "\n",
    "    df['additionalRooms'] = df['additionalRooms'].astype(pd.StringDtype())\n",
    "    df['propertyId'] = df['propertyId'].astype(pd.StringDtype())\n",
    "\n",
    "\n",
    "    df.drop_duplicates(subset=[column for column in df.columns if column not in ['propertyId', 'url']], inplace=True, ignore_index=True)\n",
    "\n",
    "    amenities = extract_propertyAmenities(df)\n",
    "\n",
    "    df.drop(columns=['flooringType', 'additionalRooms', 'facilitiesDesc', 'propertyAmenities', 'carParking'], inplace=True)\n",
    "\n",
    "    # Final return\n",
    "    return df, amenities\n"
   ]
  },
  {
   "cell_type": "code",
   "execution_count": 18,
   "metadata": {},
   "outputs": [
    {
     "name": "stdout",
     "output_type": "stream",
     "text": [
      "<StringArray>\n",
      "['2', '1', '4', '3', '5', '6', '7', '8', '10', 'More than 10']\n",
      "Length: 10, dtype: string\n",
      "<StringArray>\n",
      "['2', '1', '4', '3', '5', '6', '7', <NA>, 'More than 10']\n",
      "Length: 9, dtype: string\n",
      "<StringArray>\n",
      "['3', '2', <NA>, '1', '5', '4', '6', 'More than 10', '10']\n",
      "Length: 9, dtype: string\n"
     ]
    }
   ],
   "source": [
    "cleaned_df, amenities_df = clean_dataset(df)"
   ]
  },
  {
   "cell_type": "code",
   "execution_count": 21,
   "metadata": {},
   "outputs": [
    {
     "name": "stdout",
     "output_type": "stream",
     "text": [
      "Unique localities before the minimum 10 rule:  {851}\n",
      "Number of properties before the minimum 10 rule:  {24455}\n",
      "Unique localities after the minimum 10 rule:  {851}\n",
      "Number of properties after the minimum 10 rule:  {24455}\n"
     ]
    }
   ],
   "source": [
    "def cleaning2(df_copy: pd.DataFrame) -> pd.DataFrame:\n",
    "\n",
    "    df_temp = df_copy.copy(deep=True)\n",
    "\n",
    "    df_temp['propertyId'] = df_temp['propertyId'].astype(pd.StringDtype())\n",
    "    df_temp.set_index('propertyId', inplace=True)\n",
    "\n",
    "    df_temp.fillna(pd.NA, inplace=True)\n",
    "\n",
    "    df_temp['localityName'] = df_temp['localityName'].fillna(df_temp['locality'])\n",
    "    df_temp['projectName'] = df_temp['projectName'].fillna(df_temp['nameOfSociety'])\n",
    "\n",
    "    # \n",
    "    df_temp['bathrooms'] = df_temp['bathrooms'].replace({'More than 10':'11'}).astype(pd.Int64Dtype())\n",
    "    df_temp['bedrooms'] = df_temp['bedrooms'].replace({'More than 10':'11'}).astype(pd.Int64Dtype())\n",
    "    df_temp['numberOfBalconied'] = df_temp['numberOfBalconied'].replace({'More than 10':'11'}).astype(pd.Int64Dtype())\n",
    "\n",
    "    # df_temp['localityName'] = df_temp['localityName'].replace(\n",
    "    #     {\n",
    "    #         'Bhonde Colony, Erandwane, Karve Road' : 'Erandwane',\n",
    "    #         'Commerzone IT Park, Yerawada, Airport Road' : 'Yerawada',\n",
    "    #         'Vakil Nagar, Erandwane, Karve Road': 'Erandwane',\n",
    "    #         'Ghorpade Peth, Swargate, Shivaji Road': 'Swargate',\n",
    "    #         'Mandai, Shukrawar Peth, Shivaji Road': 'Shukrawar Peth',\n",
    "    #         'Pragati Nagar, Bopodi, Old Mumbai Pune-Highway': 'Bopodi',\n",
    "    #         'Manjari BK': 'Manjri, Manjri Budruk',\n",
    "    #     }\n",
    "    # )\n",
    "\n",
    "    # for key, value in localityNameMerge.items():\n",
    "    #     for parent_locality, sublocalities in value.items():\n",
    "    #         df_temp['localityName'] = df_temp['localityName'].replace(sublocalities, parent_locality)\n",
    "\n",
    "    df_temp['localityName'] = df_temp['localityName'].str.replace('Hinjawadi', 'Hinjewadi')\n",
    "\n",
    "    # Dropping rows with missing values\n",
    "    df_temp.dropna(axis='index', subset=['price', 'bedrooms', 'bathrooms', 'locality', 'localityName', 'floorNumber', 'totalFloorNumber', 'coveredArea'], how='any', inplace=True)\n",
    "\n",
    "    df_temp['floorNumber'] = df_temp['floorNumber'].replace({'Ground':'0','Upper Basement':'-1','Lower Basement':'-2'}).astype(pd.Int64Dtype())\n",
    "\n",
    "    projectNames = df_temp.loc[df_temp['floorNumber'] < 0, 'projectName'].unique().tolist()\n",
    "    df_temp.loc[df_temp['projectName'].isin(projectNames), 'floorNumber'] += 2\n",
    "\n",
    "    df_temp = df_temp.merge(amenities_df['ReservedParking'], how='left', on='propertyId')\n",
    "\n",
    "    df_temp.loc[\n",
    "        (df_temp[\"carParking_Open\"].fillna(0) > 0) |\n",
    "        (df_temp[\"carParking_Covered\"].fillna(0) > 0),\n",
    "        \"ReservedParking\"\n",
    "    ] = True\n",
    "\n",
    "    df_temp['ReservedParking'] = df_temp['ReservedParking'].astype(pd.BooleanDtype())\n",
    "\n",
    "    # # Outliers in price using price vs carpetArea scatterplot\n",
    "    # idx = ['75671733', '75987057', '75987041', '75987027',\n",
    "    #        '75774617', '75869493', '75946123']\n",
    "    # df_temp.drop(labels=idx, axis='rows', inplace=True)\n",
    "\n",
    "    # # Outliers in bedrooms for carpetArea vs bedrooms scatterplot\n",
    "    # idx = ['75666365', '74422595']\n",
    "    # df_temp.drop(labels=idx, axis='rows', inplace=True)\n",
    "    \n",
    "    # # Outliers in bathrooms\n",
    "    # df_temp.drop(labels = ['73603215', '75682955', '75703981'], axis='rows', inplace=True)\n",
    "\n",
    "    # # Other miscellaneous outliers from manual inspection\n",
    "    # idx = ['76012461', '73305073']\n",
    "    # df_temp.drop(labels = idx, axis='rows', inplace=True)\n",
    "\n",
    "    # # Drop rows where coveredArea vs price scatterplot is weird\n",
    "    # idx = ['75896875', '74197651', '74421603']\n",
    "    # df_temp.drop(labels = idx, axis='rows', inplace=True)\n",
    "\n",
    "    # # Drop rows where coveredAreaSqft vs bedrooms scatterplot is weird\n",
    "    # idx = ['46102845', '68145905', '68145443']\n",
    "    # df_temp.drop(labels = idx, axis='rows', inplace=True)\n",
    "\n",
    "    # Drop rows where coveredArea is weird\n",
    "    idx = df_temp.loc[df_temp['coveredArea'] < 200].index\n",
    "    df_temp.drop(labels = idx, axis='rows', inplace=True)\n",
    "\n",
    "    # Dropping rows where transactionType is Rent or Other\n",
    "    idx = df_temp.loc[df_temp['transactionType'].isin(['Rent', 'Other'])].index\n",
    "    df_temp.drop(axis='rows', labels=idx, inplace=True)\n",
    "\n",
    "    idx = df_temp.loc[df_temp['projectName'].isna() & df_temp['nameOfSociety'].isna() & (df_temp['isVerified'] == 'No')].index\n",
    "    df_temp.drop(labels=idx, axis='rows', inplace=True)\n",
    "\n",
    "    idx = df_temp.loc[df_temp['totalFloorNumber'] > 50].index\n",
    "    df_temp.drop(labels=idx, axis='rows', inplace=True)\n",
    "\n",
    "    # Dropping rows where the carpetArea to coveredArea ratio is weird\n",
    "    df_temp['areaRatio'] = df_temp['carpetArea'] / df_temp['coveredArea']\n",
    "    idx = df_temp.loc[(df_temp['areaRatio'] > 1) | (df_temp['areaRatio'] < 0.3)].index\n",
    "    df_temp.drop(labels = idx, axis='rows', inplace=True)\n",
    "    df_temp.drop(columns=['areaRatio'], inplace=True)\n",
    "\n",
    "    # Dropping rows where the price per square foot is weird\n",
    "    idx = df_temp.loc[df_temp['carpetAreaSqft'] < 1000].index.to_list()\n",
    "    idx += df_temp.loc[(df_temp['carpetArea'] < 100) & (df_temp['carpetAreaSqft'] > 18000)].index.to_list()\n",
    "    df_temp.drop(labels = idx, axis='rows', inplace=True)\n",
    "\n",
    "    # Keeping only localities with more than 10 properties\n",
    "    locality_df_temp = df_temp['localityName'].value_counts()\n",
    "    print(\"Unique localities before the minimum 10 rule: \", {df_temp['localityName'].nunique()})\n",
    "    print(\"Number of properties before the minimum 10 rule: \", {df_temp.shape[0]})\n",
    "    # df_temp = df_temp.loc[df_temp['localityName'].isin(locality_df_temp[locality_df_temp >= 10].index)].copy()\n",
    "    print(\"Unique localities after the minimum 10 rule: \", {df_temp['localityName'].nunique()})\n",
    "    print(\"Number of properties after the minimum 10 rule: \", {df_temp.shape[0]})\n",
    "\n",
    "    return df_temp\n",
    "\n",
    "cleaned_df2 = cleaning2(cleaned_df)"
   ]
  },
  {
   "cell_type": "code",
   "execution_count": 23,
   "metadata": {},
   "outputs": [],
   "source": [
    "cleaned_df2.to_csv('Data/cleaned_data.csv', index=True)\n",
    "amenities_df.to_csv('Data/amenities_data.csv', index=True)"
   ]
  },
  {
   "cell_type": "code",
   "execution_count": 24,
   "metadata": {},
   "outputs": [],
   "source": [
    "from sklearn.model_selection import train_test_split\n",
    "\n",
    "# Step 1: split off train (70%) from (val+test) (30%)\n",
    "train_df, test_df = train_test_split(cleaned_df2, train_size=0.8, random_state=42)\n",
    "\n",
    "# # Step 2: split temp_df into validation (15%) and test (15%)\n",
    "# # because 15% of the original full dataset is 0.15 / 0.30 = 0.5 of temp_df\n",
    "# val_df, test_df = train_test_split(temp_df, train_size=0.50, random_state=42)\n",
    "\n",
    "train_df.to_csv('Data/train.csv', index=True)\n",
    "test_df.to_csv('Data/test.csv', index=True)\n",
    "# val_df.to_csv('Data/validation.csv', index=True)"
   ]
  },
  {
   "cell_type": "code",
   "execution_count": 25,
   "metadata": {},
   "outputs": [],
   "source": [
    "cleaned_df2['localityName'].value_counts().sort_values(ascending=False).to_excel('Temp/localityNameRaw.xlsx')"
   ]
  },
  {
   "cell_type": "code",
   "execution_count": 26,
   "metadata": {},
   "outputs": [],
   "source": [
    "amenities_df2 = amenities_df.merge(cleaned_df2[['projectName']], on='propertyId', how='left')\n",
    "\n",
    "amenities_df3 = amenities_df2.drop(columns=['projectName']).sum().sort_values(ascending=False).reset_index().rename(columns={'index': 'amenities', 0: 'count'})\n",
    "\n",
    "amenities_df3['uniqueProjectCount'] = amenities_df3.apply(\n",
    "    lambda row:\n",
    "    amenities_df2.loc[amenities_df2[row['amenities']], 'projectName'].nunique(),\n",
    "    axis=1\n",
    ")\n",
    "amenities_df3.to_excel('Temp/amenities.xlsx', index=False)"
   ]
  },
  {
   "cell_type": "code",
   "execution_count": null,
   "metadata": {},
   "outputs": [],
   "source": []
  }
 ],
 "metadata": {
  "kernelspec": {
   "display_name": ".venv",
   "language": "python",
   "name": "python3"
  },
  "language_info": {
   "codemirror_mode": {
    "name": "ipython",
    "version": 3
   },
   "file_extension": ".py",
   "mimetype": "text/x-python",
   "name": "python",
   "nbconvert_exporter": "python",
   "pygments_lexer": "ipython3",
   "version": "3.12.3"
  }
 },
 "nbformat": 4,
 "nbformat_minor": 2
}
